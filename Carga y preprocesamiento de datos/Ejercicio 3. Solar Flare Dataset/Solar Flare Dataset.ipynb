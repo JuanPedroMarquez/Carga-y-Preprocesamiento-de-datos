{
 "cells": [
  {
   "cell_type": "markdown",
   "metadata": {},
   "source": [
    "## 7.3 - Solar flare [dataset](https://archive.ics.uci.edu/ml/datasets/Solar+Flare)"
   ]
  },
  {
   "cell_type": "markdown",
   "metadata": {},
   "source": [
    "La particularidad de este conjunto de datos es doble.\n",
    "\n",
    "En primer lugar, tendremos dos ficheros relativos a `data`, cuya primera fila serán las especificaciones temporales, por lo que deberemos quitarla y, además, en los registros de datos las variables no vienen delimitadas por `','`, si no por espacios en blanco.\n",
    "\n",
    "En segundo lugar, la forma en la que tenemos que conseguir los títulos de las columnas es accediendo a partes específicas del código de los metadatos del estudio, por lo que tendremos que estudiar cómo acceder a ellos."
   ]
  },
  {
   "cell_type": "markdown",
   "metadata": {},
   "source": [
    "### Carga y Preprocesamiento de los datos"
   ]
  },
  {
   "cell_type": "code",
   "execution_count": 1,
   "metadata": {},
   "outputs": [],
   "source": [
    "# Librerías\n",
    "import os # Para obtener el directorio activo\n",
    "import requests # Para descargar ficheros\n",
    "import re\n",
    "import pandas as pd\n",
    "import numpy as np"
   ]
  },
  {
   "cell_type": "markdown",
   "metadata": {},
   "source": [
    "### La manera de Andrés (no me funciona, pero la dejo a modo de otra opción alternativa para más adelante)"
   ]
  },
  {
   "cell_type": "code",
   "execution_count": null,
   "metadata": {},
   "outputs": [],
   "source": [
    "# Movemos el directorio activo a una nueva localización para este dataset\n",
    "## Retrocedemos dos niveles\n",
    "%cd ..\n",
    "%cd ..\n",
    "## Creamos carpeta\n",
    "!mkdir /content/solar_flare_dataset\n",
    "## Movemos directorio activo\n",
    "%cd /content/solar_flare_dataset\n",
    "# Descargamos los ficheros que contienen los datos a nuestro directorio activo\n",
    "!wget https://archive.ics.uci.edu/ml/machine-learning-databases/solar-flare/flare.data1\n",
    "!wget https://archive.ics.uci.edu/ml/machine-learning-databases/solar-flare/flare.data2\n",
    "# Descargamos la metadata asociada al conjunto de datos\n",
    "!wget https://archive.ics.uci.edu/ml/machine-learning-databases/solar-flare/flare.names\n",
    "# Leemos datos\n",
    "## Leemos primer fichero de datos\n",
    "with open(os.path.join(os.getcwd(),'flare.data1'),'r') as f:\n",
    "    data1 = f.read().splitlines() # Dividimos el texto por saltos de línea\n",
    "    data1 = [elem.split(' ') for elem in data1 if elem!=''] # Dividimos cada línea por las comas y removemos líneas vacías\n",
    "    data1 = data1[1:] # Quitamos la línea de metadata temporal\n",
    "## Leemos segundo fichero de datos\n",
    "with open(os.path.join(os.getcwd(),'flare.data2'),'r') as f:\n",
    "    data2 = f.read().splitlines() # Dividimos el texto por saltos de línea\n",
    "    data2 = [elem.split(' ') for elem in data2 if elem!=''] # Dividimos cada línea por las comas y removemos líneas vacías\n",
    "    data2 = data2[1:] # Quitamos la línea de metadata temporal\n",
    "## Combinamos ambas listas\n",
    "data = data1+data2\n",
    "# Leemos metadata\n",
    "with open(os.path.join(os.getcwd(),'flare.names'),'r') as f:\n",
    "    metadata = f.read().splitlines()\n",
    "## Regex\n",
    "regex_fn = lambda text: re.findall('^\\s+[0-9]+\\.{1}\\s{1}[a-zA-Z- ]+', text)\n",
    "reg_text_fn = lambda text : re.findall('[a-zA-Z-]+', text)\n",
    "metadata_list = [regex_fn(elem)[0].strip() for elem in metadata if regex_fn(elem)]\n",
    "col_names = [reg_text_fn(elem)[0] for elem in metadata_list if reg_text_fn(elem)]\n",
    "# Construimos el objeto pd.DataFrame\n",
    "df = pd.DataFrame(data=data, columns=col_names)"
   ]
  },
  {
   "cell_type": "markdown",
   "metadata": {},
   "source": [
    "### La manera de Demetrio"
   ]
  },
  {
   "cell_type": "markdown",
   "metadata": {},
   "source": [
    "https://archive.ics.uci.edu/ml/machine-learning-databases/solar-flare/flare.data1 <br>\n",
    "https://archive.ics.uci.edu/ml/machine-learning-databases/solar-flare/flare.data2"
   ]
  },
  {
   "cell_type": "code",
   "execution_count": 2,
   "metadata": {},
   "outputs": [],
   "source": [
    "url1 = 'https://archive.ics.uci.edu/ml/machine-learning-databases/solar-flare/flare.data1'\n",
    "url2 = 'https://archive.ics.uci.edu/ml/machine-learning-databases/solar-flare/flare.data2'\n",
    "url3 = 'https://archive.ics.uci.edu/ml/machine-learning-databases/solar-flare/flare.names'"
   ]
  },
  {
   "cell_type": "code",
   "execution_count": 3,
   "metadata": {},
   "outputs": [
    {
     "data": {
      "text/plain": [
       "'*******DATA1; 1969 FLARE DATA  (02/13/69 to 03/27/69) *******\\nC S O 1 2 1 1 2 1 2 0 0 0\\nD S O 1 3 1 1 2 1 2 0 0 0\\nC S O 1 3 1 1 2 1 1 0 0 0\\nD S O 1 3 1 1 2 1 2 0 0 0\\nD A O 1 3 1 1 2 1 2 0 0 0\\nD A O 1 2 1 1 2 1 2 0 0 0\\nD A O 1 2 1 1 2 1 1 0 0 0\\nD A O 1 2 1 1 2 1 2 0 0 0\\nD K O 1 3 1 1 2 1 2 0 0 0\\nC R O 1 3 1 1 2 1 1 0 0 0\\nB X O 1 3 1 1 2 1 1 0 0 0\\nD S O 1 2 1 1 2 1 1 0 0 0\\nC H I 1 3 1 1 2 1 2 0 0 0\\nD R O 1 3 1 1 2 1 1 0 0 0\\nB X O 1 2 1 1 2 1 1 0 0 0\\nB X O 1 3 1 1 2 1 1 0 0 0\\nD K I 1 3 1 1 2 1 2 0 0 0\\nD S O 1 2 1 1 2 1 2 0 0 0\\nD R O 1 2 1 1 2 1 1 0 0 0\\nC A I 1 2 1 1 2 1 2 0 0 0\\nC S O 1 2 1 1 2 1 1 0 0 0\\nB X O 1 3 1 1 2 1 1 0 0 0\\nF K I 1 3 1 2 2 1 2 0 0 0\\nB X O 1 2 1 1 2 1 1 0 0 0\\nH R X 1 2 1 1 1 1 2 0 0 0\\nB X I 1 3 1 1 2 1 1 0 0 0\\nC R I 1 3 1 1 2 1 2 0 0 0\\nB X O 1 3 1 1 2 1 1 0 0 0\\nB X O 1 3 1 1 2 1 2 0 0 0\\nD A I 1 3 1 2 2 1 2 0 0 0\\nD A O 1 3 1 1 2 1 2 1 0 1\\nB X O 1 3 1 1 2 1 1 0 0 0\\nD A I 1 3 1 1 2 1 2 0 0 0\\nB X O 1 3 1 1 2 1 2 0 0 0\\nD R O 1 3 1 1 2 1 2 0 0 0\\nD A O 1 2 1 1 2 1 1 0 0 0\\nC A I 1 3 1 1 2 1 1 0 0 0\\nD A I 1 2 1 2 2 1 1 1 0 0\\nD A I 2 2 3 1 2 1 2 0 0 0\\nD A I 1 2 1 2 2 1 2 0 0 0\\nB X O 1 3 1 1 2 1 1 0 0 0\\nD R O 1 1 1 1 2 1 1 0 0 0\\nD A I 1 2 1 1 2 1 1 0 0 0\\nD S O 1 1 1 1 2 1 1 0 0 0\\nD S I 1 3 1 1 2 1 1 0 0 0\\nD A I 1 3 1 2 2 1 2 2 1 0\\nD A I 2 3 1 2 2 1 1 0 0 0\\nD A I 1 2 1 2 2 1 1 0 0 0\\nB X O 1 2 1 1 2 1 1 0 0 0\\nD S O 1 3 1 2 2 1 2 0 0 0\\nD S O 1 3 1 1 2 1 1 0 0 0\\nB X O 1 3 1 1 2 1 1 0 0 0\\nD A O 1 3 1 2 2 1 2 0 0 0\\nD K C 2 3 1 2 2 1 2 1 1 0\\nD A I 1 3 1 2 2 1 2 0 0 0\\nB X O 1 3 1 1 2 1 1 0 0 0\\nD A O 1 3 1 2 2 1 2 0 0 0\\nD S I 1 3 1 1 2 1 1 0 0 0\\nD K C 1 2 1 1 2 1 2 0 0 0\\nD A I 1 2 1 1 2 1 2 0 0 0\\nB X O 1 3 1 1 2 1 1 0 0 0\\nD S O 1 2 1 2 2 1 2 0 0 0\\nD K C 2 3 3 2 2 1 2 1 2 1\\nE K I 2 3 1 2 2 1 2 0 0 0\\nD S I 1 3 1 2 2 1 2 1 0 0\\nC S O 1 2 1 2 2 1 2 0 0 0\\nD S I 1 3 1 2 2 1 2 0 0 0\\nH H X 1 2 1 2 2 1 1 1 0 0\\nD S I 1 3 1 2 2 1 2 0 0 0\\nB X O 1 3 1 1 2 1 1 0 0 0\\nB X O 1 3 1 1 2 1 1 0 0 0\\nC R O 1 3 1 1 2 1 1 0 0 0\\nH S X 1 2 1 1 1 1 2 0 0 0\\nD A O 1 2 1 2 2 1 2 0 0 0\\nD K C 2 2 3 2 2 1 2 0 0 0\\nD K I 1 3 1 2 2 1 2 0 2 1\\nD S I 1 2 1 2 2 1 1 0 1 0\\nC A O 1 2 1 2 2 1 2 0 0 0\\nD S O 1 1 1 2 2 1 2 0 0 0\\nH S X 1 3 1 2 2 1 2 0 0 0\\nD K I 1 3 1 2 2 1 2 0 0 0\\nH R X 1 2 1 1 2 1 2 0 0 0\\nB X O 1 2 1 1 2 1 1 0 0 0\\nH S X 1 3 1 1 1 1 2 0 0 0\\nC S O 1 1 1 2 2 1 2 0 0 0\\nD K C 2 2 3 2 2 1 2 0 0 0\\nD A I 1 2 1 2 2 1 2 0 0 0\\nC S O 2 2 1 2 2 1 1 0 0 0\\nC S O 1 2 1 2 2 1 2 0 0 0\\nC S O 1 2 1 2 2 1 2 0 0 0\\nC S O 2 3 1 2 2 1 2 0 0 0\\nD K I 1 3 1 2 2 1 2 0 1 0\\nH R X 1 2 1 1 2 1 2 0 0 0\\nH S X 1 3 1 1 1 1 2 0 0 0\\nC S O 1 2 1 1 2 1 2 1 0 0\\nC K O 1 2 3 2 2 1 2 0 0 0\\nC S O 1 1 3 2 2 1 2 0 0 0\\nC S O 1 1 1 2 2 1 2 0 0 0\\nC K I 1 3 1 2 2 1 2 0 0 0\\nE A C 1 3 1 2 2 1 2 0 0 0\\nH R X 1 2 1 1 2 1 2 0 0 0\\nH S X 1 2 1 1 1 1 2 0 0 0\\nH R X 1 2 1 1 2 1 2 0 0 0\\nH S X 2 2 1 1 2 1 2 0 0 0\\nB X O 1 3 1 1 2 1 2 0 0 0\\nC S I 1 2 1 2 2 1 2 0 0 0\\nH S X 1 1 1 2 2 1 2 0 0 1\\nD K C 1 3 3 2 2 1 2 0 1 0\\nD A I 2 2 3 2 2 1 2 0 0 0\\nH S X 1 2 1 1 2 1 2 0 0 0\\nB X O 1 2 1 1 2 1 1 0 0 0\\nC S I 2 3 3 1 2 1 1 0 1 0\\nC S O 1 1 1 1 2 1 2 0 1 0\\nH K X 2 2 3 2 2 1 2 0 0 0\\nD K I 1 3 1 2 2 1 2 0 0 0\\nH A X 1 3 1 1 2 1 2 0 0 0\\nC R O 1 1 1 1 2 1 2 0 0 0\\nC R O 1 3 1 1 2 1 2 0 0 0\\nB X O 1 3 1 1 2 1 1 0 0 0\\nB X O 1 3 1 1 2 1 1 1 0 0\\nH K X 1 3 1 2 2 1 2 0 0 0\\nC K I 1 3 1 2 2 1 2 0 0 0\\nH S X 1 2 1 1 2 1 2 0 0 0\\nB X O 1 3 1 1 2 1 1 0 0 0\\nC R I 2 3 3 1 2 1 2 0 0 0\\nH R X 1 2 3 1 2 1 2 0 0 0\\nB X O 1 3 1 1 2 1 1 0 0 0\\nD R O 1 3 1 1 2 1 2 0 0 0\\nH K X 1 2 1 2 2 1 2 0 0 0\\nD K I 1 2 1 2 2 1 2 0 0 0\\nH H X 1 3 1 1 2 1 2 0 0 0\\nB X I 1 3 1 1 2 1 1 0 0 0\\nB X O 1 3 1 1 2 1 1 0 0 0\\nB X I 1 3 1 1 2 1 1 0 0 0\\nD R O 2 2 1 1 2 1 2 1 0 0\\nH A X 1 3 1 2 2 1 2 0 0 0\\nC K O 1 2 1 2 2 1 2 0 0 0\\nH S X 1 2 1 1 2 1 2 0 0 0\\nB X O 1 2 1 1 2 1 1 0 0 0\\nB X O 1 2 1 1 2 1 1 1 0 0\\nC R O 1 3 1 1 2 1 1 0 0 0\\nB X I 1 3 1 1 2 1 1 0 0 0\\nC A O 1 3 1 2 2 1 2 0 0 0\\nC K I 1 2 1 2 2 1 2 0 0 0\\nH S X 1 2 1 1 2 1 2 0 0 0\\nD S I 1 3 1 1 2 1 1 0 0 0\\nB X O 1 2 1 1 2 1 1 0 0 0\\nB X O 2 2 1 1 2 1 1 0 0 0\\nH S X 1 2 1 1 1 1 2 0 0 0\\nH A X 1 3 1 1 2 1 2 0 0 0\\nC K I 1 3 1 2 2 1 2 2 4 0\\nB X O 1 3 1 1 2 1 2 0 0 0\\nH S X 1 3 1 1 1 1 2 0 0 0\\nC S O 1 3 1 1 2 1 2 0 1 0\\nC A I 1 3 1 1 2 1 2 0 0 0\\nH S X 1 3 1 1 1 1 2 0 0 0\\nD S O 1 3 1 1 2 1 2 1 0 0\\nC S O 1 2 3 2 2 1 2 0 0 0\\nB X O 1 2 1 1 2 1 1 0 0 0\\nH S X 1 2 1 1 1 1 2 0 0 0\\nC S O 1 3 1 1 2 1 2 0 0 0\\nC S O 1 3 1 1 2 1 2 0 0 0\\nH A X 1 3 1 1 1 1 2 2 0 0\\nB X O 2 1 1 1 2 1 1 1 0 0\\nH R X 1 2 1 1 1 1 2 0 0 0\\nC S O 2 2 1 2 2 1 2 0 1 0\\nH S X 1 3 1 1 1 1 2 0 0 0\\nH S X 2 2 3 1 2 1 2 0 0 0\\nC S O 1 2 1 1 2 1 2 0 0 0\\nC A I 1 3 1 1 2 1 2 0 0 0\\nE S I 1 3 1 1 2 1 2 0 2 0\\nB X O 1 2 1 1 2 1 1 0 0 0\\nD S O 1 2 1 1 2 1 2 1 0 0\\nC S O 1 1 1 2 2 1 2 0 0 0\\nC S O 1 2 1 1 2 1 2 0 0 0\\nH S X 1 1 1 1 2 1 2 0 0 0\\nC S O 1 2 1 1 2 1 2 0 0 0\\nC S I 2 2 1 1 2 1 2 0 0 0\\nD S O 1 2 1 2 2 1 2 2 4 0\\nD S O 1 3 1 1 2 1 2 1 0 0\\nB X O 1 3 1 1 2 1 2 0 0 0\\nC A O 1 3 1 1 2 1 2 0 0 0\\nC S O 1 3 1 1 2 1 2 0 0 0\\nC R I 1 3 1 1 2 1 2 0 0 0\\nB X O 1 2 3 2 2 1 2 0 0 0\\nB X I 2 3 1 1 2 1 2 1 0 0\\nD H O 1 2 1 1 2 1 2 0 0 0\\nH S X 1 1 1 1 2 1 2 0 0 0\\nH R X 1 2 1 1 2 1 2 0 0 0\\nH A X 1 2 1 1 2 1 2 0 0 0\\nC R I 1 2 1 1 2 1 2 0 0 0\\nC R O 2 1 1 1 2 1 2 0 0 0\\nD K O 1 3 1 1 2 1 2 1 0 0\\nD R O 1 2 1 1 2 1 2 0 0 0\\nH S X 1 2 1 1 2 1 2 0 0 0\\nB X O 1 2 1 1 2 1 1 0 0 0\\nB X I 1 3 1 1 2 1 2 0 0 0\\nB X O 1 3 1 1 2 1 1 0 0 0\\nC S O 1 3 1 1 2 1 2 1 1 0\\nD A I 1 3 1 1 2 1 2 0 0 0\\nB X O 1 3 1 1 2 1 2 0 1 0\\nB X O 1 2 1 1 2 1 2 0 0 0\\nB X I 1 3 1 1 2 1 1 0 0 0\\nB X I 1 3 1 1 2 1 1 0 0 0\\nD A I 1 3 1 1 2 1 2 0 0 0\\nC H I 2 3 1 1 2 1 2 0 0 0\\nD K O 1 3 1 2 2 1 2 2 0 0\\nB X O 1 3 1 1 2 1 2 1 0 0\\nC K I 1 3 1 1 2 1 1 0 0 0\\nC A O 1 2 1 1 2 1 2 0 0 0\\nD A I 1 2 1 1 2 1 2 0 0 0\\nB X O 1 3 1 1 2 1 2 0 0 0\\nB X I 1 3 1 1 2 1 2 0 0 0\\nB X O 1 3 1 1 2 1 2 1 1 0\\nB X I 1 2 1 2 2 1 2 0 0 0\\nB X I 1 3 1 1 2 1 1 0 0 0\\nC A I 1 3 1 2 2 1 2 0 0 0\\nC H I 2 2 3 1 2 1 2 1 1 0\\nF K I 1 2 1 2 2 1 2 1 1 0\\nC R O 1 2 3 1 2 1 2 0 0 0\\nE A O 1 2 1 1 2 1 2 0 0 0\\nC S O 1 1 1 1 2 1 2 0 0 0\\nD A I 1 3 1 2 2 1 2 0 0 0\\nB X O 2 3 1 1 2 1 2 0 1 0\\nC R O 1 3 1 1 2 1 2 0 0 0\\nD S I 1 2 1 2 2 1 2 0 0 0\\nH A X 1 3 1 1 1 1 2 0 0 0\\nB X O 1 2 1 1 2 1 1 0 0 0\\nC A O 1 3 1 2 2 1 2 0 0 0\\nD H I 1 3 1 1 2 1 2 0 0 0\\nF A I 2 3 1 2 2 1 2 0 0 0\\nE K O 1 3 1 1 2 1 2 1 0 0\\nH S X 1 3 1 1 2 1 2 0 0 0\\nD K C 1 3 1 2 2 1 2 0 0 0\\nB X O 1 3 1 1 2 1 1 0 0 0\\nB X O 2 2 3 1 2 1 1 0 0 0\\nD A I 1 3 1 1 2 1 2 0 0 0\\nC A I 1 3 1 2 2 1 2 0 0 0\\nH R X 1 2 1 1 1 1 2 0 0 0\\nC R O 1 1 1 2 2 1 1 0 0 0\\nD H I 2 3 3 2 2 1 2 0 0 0\\nE K I 2 2 3 2 2 1 2 0 1 0\\nE K I 1 3 1 1 2 1 2 0 0 0\\nC S O 1 2 1 1 2 1 2 0 0 0\\nD K C 1 3 1 2 2 1 2 1 0 0\\nB X O 1 3 1 1 2 1 1 0 0 0\\nB X O 2 2 3 1 2 1 1 0 0 0\\nD S O 1 3 1 2 2 1 2 0 0 0\\nH R X 1 3 1 1 2 1 2 0 0 0\\nH A X 1 3 1 2 2 1 2 0 0 0\\nH R X 1 2 1 1 1 1 2 0 0 0\\nH S X 1 3 1 1 2 1 2 0 0 0\\nC R I 1 3 1 1 2 1 2 0 0 0\\nC H I 1 2 1 2 2 1 2 1 0 0\\nF A I 1 3 1 2 2 1 2 0 1 0\\nE K I 2 3 1 2 2 1 2 0 0 0\\nH S X 1 2 1 1 2 1 2 0 0 0\\nD K C 1 3 1 2 2 1 2 0 1 1\\nD S I 1 3 1 2 2 1 2 0 0 0\\nH A X 1 3 1 2 2 1 2 0 1 1\\nH R X 1 2 1 1 1 1 1 0 0 0\\nH S X 1 2 1 1 2 1 2 0 0 0\\nB X O 1 3 1 1 2 1 2 0 0 0\\nC H O 1 2 1 2 2 1 2 0 0 0\\nF A I 2 3 3 2 2 1 2 0 1 0\\nE K C 1 3 1 2 2 1 2 0 1 0\\nC S O 1 3 1 1 2 1 2 0 0 0\\nD K C 2 3 1 2 2 2 2 2 0 0\\nC S O 1 2 1 2 2 1 2 0 0 0\\nC R O 1 2 1 2 2 1 1 0 0 0\\nB X O 1 3 1 1 2 1 1 0 0 0\\nH R X 1 3 1 1 2 1 2 0 0 0\\nE A I 1 3 1 1 2 1 2 0 0 0\\nB X O 1 2 1 1 2 1 1 0 0 0\\nH S X 2 3 1 2 2 1 2 0 0 0\\nE A I 2 2 3 2 2 1 2 0 0 0\\nE K I 1 2 1 2 2 1 2 1 0 0\\nH S X 1 3 1 1 2 1 2 0 0 0\\nD K C 2 3 3 2 2 2 2 0 2 0\\nC S I 1 2 1 2 2 1 1 0 0 0\\nB X O 1 3 1 1 2 1 1 0 0 0\\nE A I 1 3 1 2 2 1 2 0 0 0\\nB X O 1 3 1 1 2 1 1 0 0 0\\nH K X 1 2 1 2 2 1 2 0 0 0\\nF K I 1 3 3 2 2 2 2 0 0 0\\nE A I 2 2 3 2 2 1 2 0 1 0\\nH H X 1 3 1 1 2 1 2 0 0 0\\nD K C 2 2 1 2 2 2 2 1 0 0\\nC A O 1 3 1 2 2 1 2 0 0 0\\nE K I 1 3 1 1 2 1 2 0 0 0\\nH S X 1 2 1 2 2 1 2 0 0 0\\nF S O 1 2 1 2 2 1 2 0 0 0\\nE A I 2 2 1 2 2 1 2 2 0 0\\nH S X 1 2 1 1 2 1 2 0 0 0\\nD K C 2 2 3 2 2 2 2 1 2 0\\nH S X 1 1 1 2 2 1 2 0 0 0\\nE S I 1 3 1 1 2 1 2 0 0 0\\nH S X 1 2 1 2 2 1 2 0 0 0\\nF S O 1 2 1 2 2 1 2 0 0 0\\nE S O 2 2 3 2 2 1 2 0 1 0\\nH S X 1 2 1 1 2 1 2 0 0 0\\nD K C 2 2 1 2 2 2 2 1 1 0\\nH S X 1 2 1 2 2 1 2 0 0 0\\nC S O 1 2 1 2 2 1 2 0 0 0\\nB X O 1 3 1 1 2 1 1 0 0 0\\nB X O 1 3 1 1 2 1 1 0 0 0\\nH S X 1 3 1 1 1 1 2 0 0 0\\nH S X 1 2 1 2 2 1 2 0 0 0\\nE A O 2 3 1 2 2 1 2 0 0 0\\nH S X 1 3 1 1 2 1 2 0 0 0\\nD K C 2 2 3 2 2 2 2 1 0 1\\nH S X 1 3 1 2 2 1 2 0 0 0\\nC A O 1 2 1 2 2 1 2 0 0 0\\nD A O 1 3 1 1 2 1 2 0 0 0\\nD S O 1 3 1 1 2 1 2 0 0 0\\nC S O 1 1 3 2 2 1 2 0 0 0\\nH S X 1 2 1 1 2 1 2 0 0 0\\nD K C 2 3 3 2 2 2 2 0 0 0\\nC R O 1 2 1 2 2 1 2 0 0 0\\nD R O 1 3 1 1 2 1 2 0 0 0\\nE A O 1 3 1 1 2 1 2 0 0 0\\nC R O 1 3 1 1 2 1 1 0 0 0\\nE K C 1 3 1 1 2 2 2 0 2 0\\n'"
      ]
     },
     "execution_count": 3,
     "metadata": {},
     "output_type": "execute_result"
    }
   ],
   "source": [
    "# Vemos qué tenemos dentro de cada variable\n",
    "# data1\n",
    "import requests\n",
    "response = requests.get(url1)\n",
    "data1 = response.text\n",
    "data1"
   ]
  },
  {
   "cell_type": "markdown",
   "metadata": {},
   "source": [
    "Se ve que los datos están separados por espacios en vez de por comas, al igual que en data 2:"
   ]
  },
  {
   "cell_type": "code",
   "execution_count": 4,
   "metadata": {},
   "outputs": [
    {
     "data": {
      "text/plain": [
       "'******* DATA2; 1978 FLARE DATA (08/19/78 to 12/23/78) *****\\nH A X 1 3 1 1 1 1 1 0 0 0\\nD R O 1 3 1 1 2 1 1 0 0 0\\nC S O 1 3 1 1 2 1 1 0 0 0\\nH R X 1 2 1 1 1 1 1 0 0 0\\nH S X 1 1 1 1 2 1 1 0 0 0\\nC A O 1 2 1 1 2 1 1 0 0 0\\nB X O 1 3 1 1 2 1 1 0 0 0\\nC A O 1 3 1 1 2 1 1 0 0 0\\nC A O 1 2 1 1 2 1 1 1 0 0\\nB X O 1 3 1 1 2 1 1 0 0 0\\nC A O 1 2 1 1 2 1 1 0 0 0\\nB X O 1 3 1 1 2 1 1 0 0 0\\nB X I 1 2 1 1 2 1 1 0 0 0\\nC S O 2 2 1 1 2 1 1 0 0 0\\nB X O 1 3 1 1 2 1 1 0 0 0\\nB X O 1 2 1 1 2 1 1 0 0 0\\nD R I 1 3 1 1 2 1 1 1 0 0\\nH S X 1 3 1 1 2 1 1 0 0 0\\nB X O 1 2 1 1 2 1 1 0 0 0\\nB X O 1 2 1 2 2 1 1 0 0 0\\nH S X 1 2 1 1 2 1 1 0 0 0\\nB X O 1 3 1 1 2 1 1 0 0 0\\nB X O 2 2 1 2 2 1 1 0 0 0\\nC R O 1 3 1 1 2 1 1 5 0 0\\nB X O 1 2 1 2 2 1 1 0 0 0\\nB X O 1 3 1 1 2 1 1 0 0 0\\nD A I 2 3 1 1 2 1 1 2 0 0\\nB X O 1 3 1 1 2 1 1 0 0 0\\nD R O 1 3 1 1 2 1 1 0 0 0\\nB X O 1 3 1 1 2 1 1 0 0 0\\nB X O 1 1 1 2 2 1 1 0 0 0\\nB X O 1 1 1 1 2 1 1 0 0 0\\nC R I 2 1 1 2 2 1 1 0 0 0\\nB X O 1 3 1 1 2 1 1 0 0 0\\nD R I 1 3 1 2 2 1 1 0 0 0\\nB X O 1 2 1 1 2 1 1 0 0 0\\nC R O 1 3 1 1 2 1 1 0 0 0\\nE A C 1 3 1 1 2 1 1 3 1 0\\nH A X 1 2 1 1 1 1 1 1 0 0\\nB X O 1 2 1 2 2 1 1 1 0 0\\nB X O 1 3 1 1 2 1 1 0 0 0\\nB X O 1 2 1 1 2 1 1 0 0 0\\nD K I 2 3 1 2 2 1 1 2 0 0\\nE A I 2 2 1 1 2 1 1 8 0 0\\nD A I 1 3 1 2 2 1 1 0 0 0\\nB X O 1 3 1 1 2 1 1 0 0 0\\nH R X 1 2 1 1 2 1 1 0 0 0\\nC R O 1 2 1 1 2 1 1 0 0 0\\nD A O 2 3 3 2 2 1 1 2 0 0\\nE S O 2 3 1 2 2 1 1 5 0 0\\nC R O 1 3 1 1 2 1 1 0 0 0\\nE S I 2 3 1 2 2 1 1 0 0 0\\nC R O 1 3 1 1 2 1 1 0 0 0\\nD A I 2 3 1 2 2 1 1 0 0 0\\nE A I 2 3 1 2 2 1 1 4 4 0\\nH S X 1 3 1 1 1 1 1 0 0 0\\nD A O 1 3 1 1 2 1 1 1 0 0\\nD R O 1 3 1 1 2 1 1 1 1 0\\nD S O 1 3 1 2 2 1 1 0 0 0\\nB X O 1 2 1 1 2 1 1 0 0 0\\nD A I 2 2 1 2 2 1 1 0 0 0\\nE A I 2 3 3 2 2 1 1 6 0 0\\nH S X 1 1 1 1 1 1 1 0 0 0\\nD S I 2 3 1 1 2 1 1 0 0 0\\nD S O 2 3 2 1 2 1 1 1 0 0\\nD R O 1 3 1 1 2 1 1 0 0 0\\nD S O 1 3 1 2 2 1 1 0 0 0\\nD S O 1 3 1 1 2 1 1 0 0 0\\nD S O 1 2 1 2 2 1 1 0 0 0\\nE K C 2 3 3 2 2 2 1 6 0 0\\nH R X 1 3 1 1 1 1 1 0 0 0\\nD A O 1 2 1 2 2 1 1 2 0 0\\nC S I 1 3 1 1 2 1 1 1 0 0\\nC S O 1 2 1 1 2 1 1 0 0 0\\nB X O 1 3 1 1 2 1 1 1 0 0\\nB X O 1 3 1 1 2 1 1 0 0 0\\nD S O 1 2 1 2 2 1 1 1 0 0\\nD A I 1 3 1 1 2 1 1 0 0 0\\nD S O 1 2 1 2 2 1 1 0 0 0\\nF K C 2 3 1 2 2 2 1 0 0 0\\nD A I 1 3 1 2 2 1 1 0 0 0\\nC R O 1 2 1 1 2 1 1 0 0 0\\nC R O 1 3 1 1 2 1 1 0 0 0\\nB X O 1 3 1 1 2 1 1 1 0 0\\nD S O 1 2 1 2 2 1 1 0 0 0\\nH A X 1 2 1 2 2 1 1 0 0 0\\nD A O 1 3 1 2 2 1 1 0 0 0\\nF K C 2 2 1 2 2 1 1 4 0 0\\nD S I 2 2 1 2 2 1 1 0 0 0\\nB X O 1 2 1 1 2 1 1 0 0 0\\nC R O 1 3 1 1 2 1 1 0 0 0\\nB X O 1 3 1 1 2 1 1 1 0 0\\nB X O 1 3 1 1 2 1 1 0 0 0\\nD S O 1 2 1 1 2 1 1 3 0 0\\nH R X 1 2 1 2 2 1 1 0 0 0\\nH A X 1 2 1 2 2 1 1 0 0 0\\nC S O 1 2 1 2 2 1 1 0 0 0\\nF A I 1 2 1 2 2 2 1 1 0 0\\nD S O 1 2 1 2 2 1 1 1 0 0\\nC R O 1 2 1 1 2 1 1 0 0 0\\nD A C 2 3 1 1 2 1 1 2 0 0\\nB X O 1 1 1 1 2 1 1 0 0 0\\nE A I 2 3 1 1 2 1 1 2 0 0\\nH A X 1 2 1 2 2 1 1 0 0 0\\nC S O 1 3 1 2 2 1 1 1 0 0\\nF A C 2 3 1 2 2 2 1 2 0 0\\nD S O 1 2 1 2 2 1 1 0 0 0\\nD A I 2 3 1 2 2 1 1 3 0 0\\nB X O 1 3 1 1 2 1 1 0 0 0\\nE A I 2 3 1 2 2 1 1 0 0 0\\nD S O 2 3 1 2 2 1 1 0 0 0\\nF A I 2 2 1 2 2 1 1 2 0 0\\nH S X 1 1 1 2 2 1 1 1 0 0\\nD A I 2 2 1 2 2 1 1 0 0 0\\nB X O 1 2 1 1 2 1 1 0 0 0\\nE S I 2 2 1 2 2 1 1 0 0 0\\nH S X 1 2 1 1 1 1 1 0 0 0\\nF A C 2 2 1 2 2 1 1 1 0 0\\nH S X 1 2 1 2 2 1 1 0 0 0\\nE A O 1 2 1 2 2 1 1 1 0 0\\nE A I 1 2 1 2 2 1 1 1 0 0\\nB X O 1 3 1 1 2 1 1 0 0 0\\nC S O 1 3 1 1 2 1 1 1 0 0\\nH S X 1 2 1 2 2 1 1 0 0 0\\nF A I 2 2 1 2 2 1 1 0 0 0\\nE A O 1 2 1 2 2 1 1 0 0 0\\nE S I 1 2 1 2 2 1 1 0 0 0\\nE A O 1 3 1 1 2 1 1 2 0 0\\nH S X 1 2 1 1 1 1 1 0 0 0\\nE S O 1 1 1 2 2 1 1 0 0 0\\nE S I 2 3 1 2 2 1 1 0 0 0\\nC S O 2 2 1 1 2 1 1 1 0 0\\nE S O 1 2 1 1 2 1 1 0 0 0\\nE A I 1 2 1 2 2 1 1 0 0 0\\nH S X 1 2 1 1 2 1 1 2 0 0\\nE A O 1 3 1 1 2 1 1 0 0 0\\nH H X 1 2 1 1 1 1 1 0 0 0\\nB X O 1 3 1 1 2 1 1 0 0 0\\nC R O 1 3 1 1 2 1 1 0 0 0\\nE S I 1 2 1 2 2 1 1 0 0 0\\nC S O 2 3 1 1 2 1 1 0 0 0\\nE S O 1 3 1 1 2 1 1 0 0 0\\nH H X 1 3 1 1 1 1 1 0 0 0\\nB X O 1 3 1 1 2 1 1 0 0 0\\nH S X 1 2 1 1 1 1 1 1 0 0\\nB X O 1 3 1 1 2 1 1 0 0 0\\nC R O 1 2 1 1 2 1 1 3 0 0\\nD R O 1 2 1 1 2 1 1 0 0 0\\nE S O 1 2 1 2 2 1 1 0 0 0\\nC S O 2 2 1 1 2 1 1 0 0 0\\nE S O 1 3 1 1 2 1 1 0 0 0\\nC H O 1 3 1 1 2 1 1 0 0 0\\nB X O 1 1 1 1 2 1 1 0 0 0\\nH S X 1 2 1 1 1 1 1 0 0 0\\nB X O 1 3 1 1 2 1 1 0 0 0\\nE R C 2 3 1 1 2 1 1 0 0 0\\nD R I 1 3 1 1 2 1 1 0 0 0\\nH S X 1 1 1 2 2 1 1 0 0 0\\nC S O 1 2 1 1 2 1 1 0 0 0\\nE S O 1 2 1 1 2 1 1 2 0 0\\nC K O 1 2 1 1 2 1 1 2 0 0\\nH S X 2 2 1 1 1 1 1 0 0 0\\nB X O 1 2 1 1 2 1 1 0 0 0\\nE K C 1 3 1 2 2 1 1 0 1 0\\nE A I 1 3 1 2 2 1 1 0 0 0\\nC R O 1 3 1 1 2 1 1 0 0 0\\nH R X 1 1 1 2 2 1 1 0 0 0\\nH S X 1 2 1 1 2 1 1 0 0 0\\nE S O 1 2 1 1 2 1 1 0 0 0\\nC S O 1 3 1 1 2 1 1 0 0 0\\nH S X 1 2 1 1 1 1 1 0 0 0\\nE K C 1 3 1 2 2 2 1 2 1 0\\nE R O 1 3 1 2 2 2 1 0 0 0\\nH S X 1 3 1 1 1 1 1 0 0 0\\nH S X 1 1 1 1 2 1 1 0 0 0\\nD S O 2 2 1 1 2 1 1 0 0 0\\nC S O 2 1 1 1 2 1 1 0 0 0\\nH S X 1 1 1 1 1 1 1 0 0 0\\nB X O 1 3 1 1 2 1 1 0 0 0\\nE A C 2 1 3 2 2 1 1 5 0 0\\nE A O 1 1 1 2 2 1 1 3 0 0\\nH R X 1 3 1 1 2 1 1 0 0 0\\nH S X 1 2 1 1 1 1 1 0 0 0\\nH S X 1 2 1 1 1 1 1 0 0 0\\nH S X 1 3 1 1 2 1 1 0 0 0\\nH S X 1 3 1 1 2 1 1 1 0 0\\nH H X 1 3 1 1 2 1 1 0 0 0\\nH S X 1 3 1 1 1 1 1 0 0 0\\nF K C 2 3 3 2 2 2 1 1 0 0\\nE A O 2 2 1 2 2 1 1 1 0 0\\nD S O 1 3 1 1 2 1 1 1 0 0\\nH S X 1 3 1 1 1 1 1 0 0 0\\nC S O 1 3 1 1 2 1 1 0 0 0\\nH S X 1 2 1 1 2 1 1 0 0 0\\nH S X 1 2 1 1 2 1 1 0 0 0\\nC H O 1 3 1 1 2 1 1 1 0 0\\nB X O 1 1 1 1 2 1 1 0 0 0\\nF K C 2 3 1 2 2 2 1 0 0 0\\nE A O 2 2 1 2 2 1 1 0 0 0\\nD S I 1 3 1 1 2 1 1 0 0 0\\nH S X 1 3 1 1 1 1 1 0 0 0\\nC R I 1 3 1 1 2 1 1 0 0 0\\nD A O 1 3 1 1 2 1 1 1 0 0\\nH S X 1 2 1 1 2 1 1 0 0 0\\nC S O 2 3 1 1 2 1 1 1 0 0\\nC S O 1 2 1 1 2 1 1 0 0 0\\nF K I 2 2 1 2 2 2 1 1 0 0\\nE R O 2 2 1 2 2 1 1 0 0 0\\nC R I 1 3 1 1 2 1 1 0 0 0\\nD R O 1 3 1 1 2 1 1 0 0 0\\nD A I 1 3 1 1 2 1 1 0 1 0\\nD S O 1 3 1 1 2 1 1 1 0 0\\nC S O 1 3 1 1 2 1 1 0 0 0\\nH S X 1 1 1 1 2 1 1 0 0 0\\nH S X 2 2 1 1 2 1 1 0 0 0\\nF A I 1 2 1 2 2 1 1 2 0 0\\nC R I 1 3 1 1 2 1 1 1 0 0\\nD S O 1 3 1 1 2 1 1 0 0 0\\nC S I 2 2 1 2 2 1 1 0 0 0\\nD A O 2 3 1 1 2 1 1 0 0 0\\nC S O 1 2 1 1 2 1 1 3 0 0\\nH S X 1 2 1 1 2 1 1 0 0 0\\nH S X 1 3 1 1 2 1 1 0 0 0\\nF A I 2 2 1 2 2 1 1 1 0 1\\nD R I 2 2 1 1 2 1 1 0 0 0\\nD A I 1 3 1 1 2 1 1 0 0 0\\nD A O 2 2 3 2 2 1 1 0 0 0\\nD A O 1 2 1 1 2 1 1 0 0 0\\nD R O 1 3 1 1 2 1 1 1 0 0\\nH S X 1 2 1 1 2 1 1 0 0 0\\nH S X 1 2 1 1 2 1 1 0 0 0\\nF K I 2 3 1 2 2 2 1 3 0 0\\nD A I 1 2 1 2 2 1 1 0 0 0\\nD A I 1 3 1 2 2 1 1 0 0 0\\nB X I 1 2 1 2 2 1 1 0 1 0\\nD A O 1 3 1 1 2 1 1 0 0 0\\nD A O 2 3 1 1 2 1 1 0 0 0\\nC R O 1 3 1 1 2 1 1 0 0 0\\nB X O 1 3 1 1 2 1 1 1 0 0\\nB X O 1 2 1 1 2 1 1 0 0 0\\nH S X 1 3 1 1 2 1 1 0 0 0\\nH S X 1 2 1 1 2 1 1 0 0 0\\nF K I 2 2 3 2 2 1 1 0 0 0\\nD R C 1 3 1 2 2 1 1 1 0 0\\nD A I 1 2 1 2 2 1 1 0 0 0\\nH S X 1 1 1 2 2 1 1 0 0 0\\nD A O 1 2 1 1 2 1 1 0 0 0\\nD A O 2 3 1 1 2 1 1 0 0 0\\nD R O 1 2 1 1 2 1 1 0 0 0\\nB X O 1 2 1 1 2 1 1 0 0 0\\nC R O 1 2 1 1 2 1 1 0 0 0\\nB X I 1 3 1 1 2 1 1 0 0 0\\nH R X 1 2 1 1 1 1 1 0 0 0\\nH S X 1 2 1 1 1 1 1 0 0 0\\nF S O 1 1 1 2 2 1 1 0 0 0\\nD R I 2 2 1 2 2 1 1 0 0 0\\nC R O 1 2 1 2 2 1 1 1 0 0\\nH A X 2 3 2 2 2 1 1 0 0 0\\nH A X 1 2 1 1 2 1 1 0 0 0\\nD A I 1 2 1 1 2 1 1 0 0 0\\nH S X 1 1 1 1 2 1 1 0 0 0\\nD R O 1 3 1 1 2 1 1 0 0 0\\nD R O 1 3 1 1 2 1 1 0 0 0\\nC R O 1 3 1 1 2 1 1 0 0 0\\nH S X 1 2 1 2 1 1 1 0 0 0\\nC R O 1 3 1 1 2 1 1 0 0 0\\nD R O 1 3 1 1 2 1 1 0 0 0\\nC R O 1 1 1 2 2 1 1 0 0 0\\nH S X 1 2 1 2 2 1 1 0 0 0\\nH A X 1 3 1 1 2 1 1 0 0 0\\nD S I 1 2 1 2 2 1 1 0 3 0\\nB X O 1 3 1 1 2 1 1 0 0 0\\nB X I 1 3 1 1 2 1 1 0 0 0\\nD S I 1 3 1 1 2 1 1 0 0 0\\nH R X 1 3 1 1 2 1 1 0 0 0\\nH A X 1 2 1 2 1 1 1 0 0 0\\nH R X 1 2 1 1 2 1 1 0 0 0\\nB X O 1 3 1 1 2 1 1 0 0 0\\nB X O 1 3 1 1 2 1 1 0 0 0\\nB X O 1 3 1 1 2 1 1 0 0 0\\nC S O 1 2 1 2 2 1 1 0 0 0\\nB X O 2 1 1 2 2 1 1 0 0 0\\nH R X 1 2 1 2 2 1 1 0 0 0\\nD R O 1 1 1 1 2 1 1 0 0 0\\nD S O 1 2 1 2 2 1 1 0 0 0\\nB X O 1 2 1 1 2 1 1 0 0 0\\nC R O 1 1 1 1 2 1 1 0 0 0\\nC R O 1 2 1 2 2 1 1 0 0 0\\nC R O 1 3 1 1 2 1 1 0 0 0\\nC A O 1 3 1 2 2 1 1 0 0 0\\nH S X 1 3 1 1 2 1 1 0 0 0\\nC R O 1 3 1 1 2 1 1 0 0 0\\nH R X 1 1 1 1 2 1 1 0 0 0\\nC R I 1 3 1 1 2 1 1 2 0 0\\nD A O 1 3 1 2 2 1 1 0 0 0\\nB X O 1 3 1 1 2 1 1 0 0 0\\nH R X 1 3 1 1 2 1 1 0 0 0\\nC S O 2 2 3 2 2 1 1 1 0 0\\nH R X 1 3 1 1 2 1 1 0 0 0\\nC R O 1 2 1 2 2 1 1 0 0 0\\nC R O 1 2 1 1 2 1 1 0 0 0\\nH A X 1 2 1 2 2 1 1 0 0 0\\nC R O 1 3 1 1 2 1 1 0 0 0\\nB X O 1 3 1 1 2 1 1 0 0 0\\nD R I 1 3 1 1 2 1 1 2 0 0\\nH A X 1 2 1 2 2 1 1 0 1 0\\nC R O 1 3 1 1 2 1 1 0 0 0\\nH S X 1 3 1 2 2 1 1 0 0 0\\nB X O 1 2 1 1 2 1 1 0 0 0\\nH S X 1 2 1 1 2 1 1 0 0 0\\nC S O 1 2 1 2 2 1 1 0 0 0\\nC R O 1 1 1 1 2 1 1 0 0 0\\nH R X 1 3 1 1 2 1 1 0 0 0\\nE A I 2 3 1 2 2 1 1 1 0 0\\nD R I 1 2 1 2 2 1 1 0 0 0\\nC R O 1 2 1 1 2 1 1 0 0 0\\nB X O 1 3 1 1 2 1 1 0 0 0\\nC S O 1 2 1 1 2 1 1 1 0 0\\nH S X 2 2 1 2 2 1 1 0 0 0\\nB X O 1 3 1 1 2 1 1 0 0 0\\nC S O 1 3 1 2 2 1 1 0 0 0\\nD A I 1 3 1 1 2 1 1 0 0 0\\nE A I 2 2 1 2 2 1 1 0 0 0\\nD R I 2 3 2 2 2 1 1 0 0 0\\nC S O 1 3 1 1 2 1 1 0 1 0\\nH S X 1 2 1 2 2 1 1 0 0 0\\nC A O 1 2 1 2 2 1 1 0 0 0\\nC R O 1 2 1 2 2 1 1 0 0 0\\nC A I 1 2 1 2 2 1 1 0 0 0\\nB X O 1 2 1 2 2 1 1 0 0 0\\nD A I 2 3 1 1 2 1 1 0 0 0\\nC R O 1 3 1 1 2 1 1 0 0 0\\nB X O 1 3 1 1 2 1 1 0 0 0\\nH S X 1 2 1 2 2 1 1 0 0 0\\nC A O 1 3 1 2 2 1 1 0 0 0\\nD R I 1 2 1 2 2 1 1 0 0 0\\nC R O 1 2 1 2 2 1 1 0 0 0\\nB X I 1 3 1 2 2 1 1 0 0 0\\nD A I 2 3 3 2 2 1 1 2 0 0\\nD R O 1 3 1 1 2 1 1 1 0 0\\nB X O 1 3 1 1 2 1 1 0 0 0\\nD R O 1 3 1 1 2 1 1 0 0 0\\nH A X 1 2 1 2 2 1 1 0 0 0\\nB X O 1 1 1 2 2 1 1 0 0 0\\nC A O 1 2 1 2 2 1 1 0 0 0\\nD A I 1 2 1 2 2 1 1 4 0 0\\nC R O 1 1 1 1 2 1 1 0 0 0\\nC R O 1 1 1 1 2 1 1 0 0 0\\nH A X 1 2 1 2 2 1 1 0 0 0\\nC R O 1 2 1 2 2 1 1 0 0 0\\nD S O 2 3 1 2 2 1 1 1 0 0\\nB X O 2 3 1 1 2 1 1 0 0 0\\nC S O 1 3 1 1 2 1 1 0 0 0\\nB X O 1 3 1 1 2 1 1 0 0 0\\nB X O 1 3 1 1 2 1 1 0 0 0\\nH S X 1 2 1 2 2 1 1 0 0 0\\nD A I 2 2 1 2 2 1 1 0 1 0\\nH R X 1 2 1 1 2 1 1 0 0 0\\nD R O 1 2 1 1 2 1 1 0 0 0\\nH R X 1 2 1 1 2 1 1 0 0 0\\nH S X 1 2 1 1 1 1 1 0 0 0\\nH S X 1 3 1 2 2 1 1 0 0 0\\nD K I 2 3 2 2 2 1 1 2 0 0\\nB X O 1 2 1 1 2 1 1 0 0 0\\nB X I 1 2 1 1 2 1 1 0 0 0\\nB X O 1 2 1 1 2 1 1 0 0 0\\nH S X 1 2 1 1 1 1 1 0 0 0\\nB X O 1 3 1 1 2 1 1 0 0 0\\nH S X 1 2 1 1 1 1 1 0 1 0\\nD K I 1 3 1 2 2 1 1 4 0 0\\nB X O 1 1 1 1 2 1 1 0 0 0\\nB X O 1 3 1 1 2 1 1 0 0 0\\nH S X 1 2 1 1 1 1 1 0 0 0\\nC S O 2 3 3 1 2 1 1 0 1 0\\nB X O 1 3 1 1 2 1 1 0 0 0\\nD R O 1 2 1 1 2 1 1 0 0 0\\nD K I 2 3 1 2 2 1 1 3 1 0\\nB X O 1 3 1 1 2 1 1 0 0 0\\nH S X 1 2 1 1 1 1 1 0 0 0\\nC S O 1 3 1 1 2 1 1 0 0 0\\nB X O 1 3 1 1 2 1 1 0 0 0\\nD R O 1 3 1 1 2 1 1 0 0 0\\nC R O 1 3 1 1 2 1 1 0 0 0\\nD R O 1 3 1 1 2 1 1 0 0 0\\nD K I 2 2 1 2 2 1 1 1 0 0\\nD A I 1 3 1 1 2 1 1 0 0 0\\nH S X 1 2 1 1 1 1 1 0 0 0\\nC S O 2 2 2 1 2 1 1 0 0 0\\nD R O 1 2 1 1 2 1 1 0 0 0\\nB X O 1 2 1 1 2 1 1 0 0 0\\nB X O 1 2 1 1 2 1 1 0 0 0\\nB X O 1 3 1 1 2 1 1 1 0 0\\nB X O 1 3 1 1 2 1 1 0 0 0\\nD S O 1 2 1 1 2 1 1 1 0 0\\nD A I 2 2 3 2 2 1 1 0 0 0\\nD S O 1 3 1 1 2 1 1 1 0 0\\nD A I 1 2 1 2 2 1 1 0 0 0\\nC S O 1 3 1 1 2 1 1 0 0 0\\nH R X 1 3 1 1 2 1 1 0 0 0\\nC R O 1 3 1 1 2 1 1 0 0 0\\nB X O 1 2 1 1 2 1 1 0 0 0\\nB X O 1 3 1 1 2 1 1 0 0 0\\nD A I 1 3 1 1 2 1 1 0 0 0\\nH S X 1 2 1 1 1 1 1 0 0 0\\nC R O 1 3 1 1 2 1 1 1 0 0\\nH A X 1 1 1 2 2 1 1 0 0 0\\nH S X 1 1 1 1 2 1 1 0 0 0\\nD A I 1 3 1 2 2 1 1 0 0 0\\nH S X 1 1 1 1 2 1 1 0 0 0\\nC S O 1 2 1 1 2 1 1 0 0 0\\nD R O 1 2 1 1 2 1 1 1 0 0\\nD S I 2 3 1 1 2 1 1 0 0 0\\nD A C 2 3 1 2 2 1 1 0 0 0\\nH S X 1 3 1 1 1 1 1 0 0 0\\nD R O 1 2 1 1 2 1 1 0 0 0\\nC A O 1 3 1 1 2 1 1 0 0 0\\nD R O 1 3 1 1 2 1 1 0 0 0\\nH S X 1 3 1 1 2 1 1 0 0 0\\nH S X 1 2 1 1 1 1 1 0 0 0\\nB X O 1 2 1 1 2 1 1 0 0 0\\nE A I 1 3 1 2 2 1 1 1 0 0\\nD S O 1 3 1 1 2 1 1 0 0 0\\nH S X 1 3 1 1 2 1 1 0 0 0\\nH R X 1 1 1 1 2 1 1 0 0 0\\nD A O 1 1 1 2 2 1 1 0 0 0\\nD A I 1 2 1 2 2 1 1 0 0 0\\nH S X 1 2 1 1 1 1 1 0 0 0\\nC R O 2 2 1 1 2 1 1 0 0 0\\nC R O 1 3 1 1 2 1 1 0 0 0\\nD S I 1 3 1 1 2 1 1 1 0 0\\nH R X 1 2 1 1 1 1 1 0 0 0\\nH R X 1 2 1 1 2 1 1 0 0 0\\nE A C 1 3 1 2 2 1 1 0 0 0\\nD A O 1 3 1 1 2 1 1 0 0 0\\nC S O 1 3 1 1 2 1 1 0 0 0\\nH S X 2 2 1 1 2 1 1 0 0 0\\nD R O 1 3 1 2 2 1 1 0 0 0\\nC S O 1 2 1 2 2 1 1 0 0 0\\nH H X 1 2 1 1 1 1 1 0 0 0\\nC R O 1 3 1 1 2 1 1 0 0 0\\nD S I 1 3 1 2 2 1 1 1 0 0\\nC R O 1 3 1 1 2 1 1 0 1 0\\nH R X 1 3 1 1 2 1 1 0 0 0\\nH S X 1 2 1 2 1 1 1 0 0 0\\nH S X 1 2 1 1 1 1 1 0 0 0\\nD A O 1 1 1 2 2 1 1 0 0 0\\nD S I 1 3 1 1 2 1 1 0 0 0\\nH S X 1 3 1 1 2 1 1 0 0 0\\nC R I 1 3 1 2 2 1 1 0 0 0\\nD R I 1 3 1 2 2 1 1 0 0 0\\nH A X 1 2 1 1 1 1 1 0 0 0\\nB X O 1 2 1 1 2 1 1 0 0 0\\nE A I 2 3 1 2 2 1 1 2 0 0\\nD R O 1 3 1 1 2 1 1 0 1 0\\nH H X 1 3 1 2 1 1 1 0 0 0\\nD A I 1 2 1 1 2 1 1 0 0 0\\nD R O 1 3 1 1 2 1 1 0 0 0\\nB X O 1 3 1 1 2 1 1 0 0 0\\nD S I 1 3 1 2 2 1 1 0 0 0\\nH S X 1 2 1 1 2 1 1 0 0 0\\nD A I 1 3 1 2 2 1 1 0 0 0\\nC R O 1 3 1 1 2 1 1 0 0 0\\nD R O 1 2 1 2 2 1 1 0 0 0\\nH S X 1 3 1 1 1 1 1 0 0 0\\nD R O 1 3 1 1 2 1 1 0 0 0\\nE A I 2 2 1 2 2 1 1 3 0 0\\nD A I 2 3 3 1 2 1 1 1 0 0\\nB X O 1 2 1 1 2 1 1 0 0 0\\nH A X 1 3 1 2 1 1 1 0 0 0\\nD A I 1 3 1 2 2 1 1 3 0 0\\nC R O 1 2 1 1 2 1 1 0 0 0\\nD S O 1 1 1 2 2 1 1 0 0 0\\nH S X 1 2 1 1 2 1 1 0 0 0\\nD R O 1 1 1 2 2 1 1 0 0 0\\nC R O 1 2 1 1 2 1 1 0 0 0\\nB X O 1 2 1 2 2 1 1 0 0 0\\nH S X 1 3 1 1 1 1 1 0 0 0\\nC R O 1 2 1 1 2 1 1 0 0 0\\nE A O 2 2 1 2 2 1 1 4 0 0\\nE A I 1 3 1 2 2 1 1 0 0 0\\nH A X 1 3 1 2 1 1 1 0 0 0\\nD A I 2 3 1 2 2 1 1 0 1 0\\nC R O 1 3 1 1 2 1 1 0 0 0\\nD S O 1 2 1 2 2 1 1 0 0 0\\nH S X 1 2 1 1 2 1 1 0 0 0\\nD R O 1 3 1 2 2 1 1 0 0 0\\nH S X 1 2 1 1 1 1 1 0 0 0\\nC A O 1 1 1 1 2 1 1 0 0 0\\nE A I 1 2 1 2 2 1 1 0 0 0\\nE A C 2 2 1 2 2 1 1 0 0 0\\nH A X 1 2 1 2 1 1 1 0 0 0\\nD A C 2 2 3 2 2 1 1 0 0 0\\nE S I 1 2 1 2 2 1 1 0 0 0\\nH R X 1 2 1 1 1 1 1 0 0 0\\nH S X 1 3 1 1 2 1 1 0 0 0\\nD A I 1 3 1 2 2 1 1 0 1 0\\nH S X 1 3 1 1 1 1 1 0 0 0\\nE A O 2 3 1 2 2 1 1 0 0 0\\nE A O 1 2 1 2 2 1 1 1 0 0\\nC A O 1 2 1 2 2 1 1 0 0 0\\nD A C 1 2 1 2 2 1 1 0 0 0\\nE S I 1 3 1 2 2 1 1 5 1 0\\nH R X 1 3 1 1 1 1 1 0 0 0\\nD R I 1 3 1 1 2 1 1 1 0 0\\nH S X 1 3 1 1 1 1 1 0 0 0\\nH S X 1 3 1 2 1 1 1 0 0 0\\nD S I 1 3 1 2 2 1 1 0 0 0\\nH S X 1 2 1 1 1 1 1 0 0 0\\nH A X 1 2 1 2 2 1 1 0 0 0\\nF A I 1 2 1 2 2 1 1 4 0 0\\nC A O 1 3 1 2 2 1 1 0 0 0\\nC A I 1 2 1 2 2 1 1 0 0 0\\nE A I 1 3 1 2 2 1 1 0 0 0\\nH S X 1 2 1 1 1 1 1 1 0 0\\nD R I 2 3 1 2 2 1 1 1 0 0\\nH S X 1 2 1 2 1 1 1 0 0 0\\nB X O 1 3 1 1 2 1 1 0 0 0\\nD S O 1 1 3 2 2 1 1 0 0 0\\nH S X 1 2 1 1 1 1 1 0 0 0\\nF A I 2 2 1 2 2 1 1 3 0 0\\nC R O 1 2 1 2 2 1 1 0 0 0\\nE A I 2 3 3 2 2 1 1 1 0 0\\nH S X 1 3 1 1 1 1 1 0 0 0\\nC A I 1 2 1 2 2 1 1 0 0 0\\nH S X 1 2 1 2 1 1 1 0 0 0\\nD R I 1 3 1 1 2 1 1 0 0 0\\nC R O 1 3 1 1 2 1 1 0 0 0\\nH S X 1 2 1 1 1 1 1 0 0 0\\nF A I 2 2 1 2 2 1 1 0 0 0\\nC R O 1 2 1 2 2 1 1 0 0 0\\nH S X 1 3 1 2 2 1 1 1 0 0\\nE A I 1 3 1 2 2 1 1 0 0 0\\nH S X 2 2 1 1 1 1 1 1 0 0\\nC A I 2 3 1 2 2 1 1 0 0 0\\nH S X 1 2 1 2 1 1 1 0 0 0\\nD R I 1 3 1 2 2 1 1 0 0 0\\nC R O 1 3 1 1 2 1 1 0 0 0\\nH S X 1 2 1 1 1 1 1 0 0 0\\nF A I 1 1 1 2 2 1 1 0 0 0\\nH R X 1 1 1 2 2 1 1 0 0 0\\nH S X 2 3 1 2 2 1 1 0 0 0\\nE S I 2 2 1 2 2 1 1 3 0 0\\nH S X 1 3 1 1 1 1 1 0 0 0\\nD R I 1 2 1 2 2 1 1 0 0 0\\nH R X 1 2 1 2 1 1 1 0 0 0\\nD A O 1 2 1 2 2 1 1 0 0 0\\nH R X 1 1 1 1 2 1 1 0 0 0\\nB X O 1 2 1 1 2 1 1 0 0 0\\nH S X 1 2 1 2 1 1 1 0 0 0\\nH S X 1 2 1 2 2 1 1 0 0 0\\nE S I 2 2 1 2 2 1 1 0 0 0\\nC S O 2 2 1 1 2 1 1 0 0 0\\nC R O 1 1 1 2 2 1 1 0 0 0\\nH S X 1 2 1 2 1 1 1 0 0 0\\nB X O 1 3 1 1 2 1 1 0 0 0\\nH S X 1 3 1 1 1 1 1 0 0 0\\nH S X 1 2 1 2 2 1 1 0 0 0\\nD A I 2 2 1 2 2 1 1 1 0 0\\nH S X 1 2 1 1 2 1 1 0 0 0\\nB X O 1 2 1 2 2 1 1 0 0 0\\nH S X 1 2 1 2 1 1 1 0 0 0\\nC R O 1 3 1 1 2 1 1 0 0 0\\nD S O 2 3 1 2 2 1 1 0 0 0\\nD H O 1 3 1 1 2 1 1 0 0 0\\nD R O 1 3 1 1 2 1 1 0 0 0\\nC S O 1 2 1 1 2 1 1 0 0 0\\nH S X 1 2 1 2 2 1 1 0 0 0\\nD A I 1 2 1 2 2 1 1 0 0 0\\nH S X 1 2 1 1 2 1 1 0 0 0\\nH R X 1 2 1 2 1 1 1 0 0 0\\nC S O 1 3 1 2 2 1 1 0 0 0\\nC S I 1 3 1 1 2 1 1 0 0 0\\nH R X 1 2 1 1 2 1 1 0 0 0\\nC S O 1 3 1 1 2 1 1 0 0 0\\nH S X 1 2 1 2 2 1 1 0 0 0\\nD A O 1 3 1 2 2 1 1 0 0 0\\nH S X 1 2 1 1 2 1 1 0 0 0\\nH R X 1 3 1 2 1 1 1 0 0 0\\nB X O 1 3 1 1 2 1 1 0 0 0\\nC S O 1 2 1 2 2 1 1 1 0 0\\nC S O 1 2 1 1 2 1 1 0 0 0\\nC R O 1 3 1 1 2 1 1 0 0 0\\nC S O 1 1 1 1 2 1 1 0 0 0\\nB X O 1 3 1 1 2 1 1 0 0 0\\nC S O 1 2 1 1 2 1 1 1 0 0\\nD A I 1 3 1 2 2 1 1 1 0 0\\nH S X 1 2 1 1 2 1 1 0 0 0\\nH S X 1 3 1 2 1 1 1 0 0 0\\nC S O 1 3 1 1 2 1 1 1 0 0\\nC S O 1 3 1 2 2 1 1 2 1 0\\nH S X 1 3 1 1 2 1 1 1 0 0\\nC R O 1 2 1 1 2 1 1 0 0 0\\nD S O 1 3 1 1 2 1 1 0 0 0\\nH S X 2 3 1 1 2 1 1 0 0 0\\nH S X 1 3 1 1 2 1 1 0 0 0\\nD A O 1 2 1 2 2 1 1 1 0 0\\nH S X 1 2 1 1 2 1 1 0 0 0\\nH S X 1 2 1 2 1 1 1 0 0 0\\nD S I 1 3 1 1 2 1 1 0 0 0\\nD A I 2 2 1 2 2 1 1 1 0 0\\nF S O 2 2 1 1 2 1 1 0 0 0\\nH R X 1 2 1 1 2 1 1 0 0 0\\nC R I 1 2 1 1 2 1 1 2 0 0\\nH S X 1 2 1 1 2 1 1 0 0 0\\nH S X 1 2 1 1 2 1 1 0 0 0\\nD A O 1 3 1 2 2 1 1 0 0 0\\nD A I 2 2 1 2 2 1 1 2 0 0\\nD S O 2 2 3 2 2 1 1 0 0 0\\nF H O 1 2 1 1 2 1 1 0 0 0\\nC R O 1 3 1 1 2 1 1 0 0 0\\nD R I 1 3 1 1 2 1 1 0 0 0\\nC S O 1 2 1 1 2 1 1 0 0 0\\nH R X 1 2 1 1 2 1 1 0 0 0\\nH R X 1 3 1 1 1 1 1 0 0 0\\nD S O 1 3 1 1 2 1 1 0 0 0\\nD S I 1 1 1 2 2 1 1 0 0 0\\nC R I 1 2 1 2 2 1 1 1 0 0\\nC S O 1 3 1 1 2 1 1 0 0 0\\nB X I 2 2 1 2 2 1 1 0 0 0\\nH S X 1 3 1 1 2 1 1 0 0 0\\nB X O 1 3 1 1 2 1 1 0 0 0\\nC S I 1 3 1 1 2 1 1 0 0 0\\nH R X 2 1 1 2 2 1 1 0 0 0\\nC S O 1 2 1 2 2 1 1 0 0 0\\nH S X 1 2 1 1 2 1 1 0 0 0\\nB X I 1 2 1 2 2 1 1 1 0 0\\nC S O 1 2 1 1 2 1 1 0 0 0\\nB X O 1 3 1 1 2 1 1 0 0 0\\nD A O 1 3 1 1 2 1 1 0 0 0\\nC S O 1 2 1 1 2 1 1 0 0 0\\nB X O 1 3 1 1 2 1 1 0 0 0\\nC S O 2 2 1 2 2 1 1 0 0 0\\nC S I 1 3 1 1 2 1 1 0 0 0\\nC R O 1 2 1 2 2 1 1 0 0 0\\nC S O 1 3 1 1 2 1 1 0 0 0\\nD A I 1 2 1 1 2 1 1 0 0 0\\nE A I 1 3 1 1 2 1 1 0 0 0\\nH R X 1 3 1 1 2 1 1 0 0 0\\nC R O 1 3 1 1 2 1 1 0 0 0\\nH S X 1 1 1 2 2 1 1 0 0 0\\nD S O 1 2 1 1 2 1 1 0 0 0\\nC S O 2 3 1 2 2 1 1 0 0 0\\nC S O 1 3 1 1 2 1 1 0 0 0\\nD A O 1 2 1 2 2 1 1 0 0 0\\nF S I 1 3 1 2 2 1 1 2 0 0\\nD A I 1 2 1 1 2 1 1 0 0 0\\nC R O 1 3 1 1 2 1 1 0 0 0\\nD A I 1 3 1 1 2 1 1 1 0 0\\nE S O 1 3 1 1 2 1 1 6 0 0\\nH S X 1 2 1 2 2 1 1 0 0 0\\nC S O 1 2 1 1 2 1 1 0 0 0\\nH S X 1 1 1 1 2 1 1 0 0 0\\nC S O 1 3 1 2 2 1 1 0 0 0\\nF S I 1 3 1 2 2 1 1 1 0 0\\nD R O 1 2 1 2 2 1 1 0 0 0\\nD A I 2 3 1 2 2 1 1 0 0 0\\nD R C 2 3 1 1 2 1 1 1 0 0\\nH K X 1 3 1 1 1 1 1 0 0 0\\nC R O 1 2 1 1 2 1 1 0 0 0\\nH S X 1 2 1 1 2 1 1 0 0 0\\nH A X 1 1 1 2 2 1 1 0 0 0\\nF S I 2 2 1 2 2 1 1 0 0 0\\nB X O 1 2 1 2 2 1 1 0 0 0\\nD S I 1 2 1 2 2 1 1 0 0 0\\nE H C 2 3 1 2 2 1 1 0 0 0\\nB X O 1 2 1 1 2 1 1 0 0 0\\nC H O 1 3 1 2 2 1 1 0 0 0\\nB X O 1 3 1 1 2 1 1 0 0 0\\nH R X 1 2 1 1 2 1 1 0 0 0\\nH R X 1 3 1 2 2 1 1 0 0 0\\nF R I 1 2 1 2 2 1 1 1 0 0\\nH S X 1 1 1 2 2 1 1 0 0 0\\nD A I 1 3 1 2 2 1 1 1 0 0\\nE K I 2 3 1 2 2 2 1 1 0 0\\nF H O 1 2 1 2 2 1 1 1 0 0\\nB X O 1 3 1 1 2 1 1 0 0 0\\nH R X 1 2 1 1 2 1 1 0 0 0\\nB X O 1 2 1 2 2 1 1 0 0 0\\nD A I 1 2 1 2 2 1 1 1 0 0\\nF K I 1 2 1 2 2 1 1 1 0 0\\nE H O 2 2 1 2 2 1 1 1 0 0\\nB X I 1 3 1 1 2 1 1 0 0 0\\nH S X 1 2 1 2 1 1 1 0 0 0\\nH R X 1 2 1 1 2 1 1 0 0 0\\nB X O 1 1 1 2 2 1 1 0 0 0\\nD S I 2 2 1 2 2 1 1 1 0 0\\nE K I 2 2 1 2 2 1 1 2 0 0\\nF H O 1 3 1 2 2 1 1 0 0 0\\nC R O 1 3 1 1 2 1 1 0 0 0\\nC S O 1 3 1 2 2 1 1 0 0 0\\nH R X 1 1 1 2 2 1 1 0 0 0\\nB X I 1 1 1 2 2 1 1 0 0 0\\nF K I 1 2 1 2 2 1 1 4 0 0\\nD H I 2 3 1 2 2 1 1 0 0 0\\nC R O 1 2 1 1 2 1 1 0 0 0\\nH S X 1 3 1 2 2 1 1 0 0 0\\nH R X 1 2 1 1 2 1 1 0 0 0\\nB X O 1 3 1 1 2 1 1 0 0 0\\nH S X 1 3 1 1 1 1 1 0 0 0\\nH R X 1 3 1 2 2 1 1 0 0 0\\nF A I 2 3 1 2 2 2 1 1 1 0\\nE H I 1 3 1 2 2 1 1 1 1 0\\nH S X 1 2 1 2 2 1 1 0 0 0\\nH R X 1 2 1 1 2 1 1 0 0 0\\nH S X 1 3 1 1 1 1 1 0 0 0\\nH R X 1 3 1 2 2 1 1 0 0 0\\nF A I 2 3 1 2 2 1 1 0 0 0\\nE H I 1 3 1 2 2 1 1 3 0 0\\nH S X 1 3 1 2 2 1 1 0 0 0\\nH R X 1 3 1 1 2 1 1 0 0 0\\nH S X 1 3 1 1 1 1 1 0 0 0\\nB X O 1 3 1 1 2 1 1 0 0 0\\nF A I 2 2 3 2 2 1 1 0 0 0\\nE H O 2 2 2 2 2 1 1 0 0 0\\nH S X 1 2 1 2 2 1 1 0 0 0\\nH R X 1 2 1 1 2 1 1 0 0 0\\nC S I 1 3 1 1 2 1 1 0 0 0\\nF A I 1 2 1 2 2 1 1 1 0 0\\nE H O 2 2 1 2 2 1 1 1 0 0\\nH S X 1 3 1 2 2 1 1 0 0 0\\nH R X 1 3 1 1 2 1 1 0 0 0\\nD S I 1 3 1 1 2 1 1 0 0 0\\nF A I 1 2 1 2 2 1 1 0 0 0\\nE A O 1 2 1 2 2 1 1 1 0 0\\nH S X 1 3 1 2 2 1 1 0 0 0\\nD S I 1 3 1 2 2 1 1 0 0 0\\nC R O 1 2 1 1 2 1 1 0 0 0\\nB X O 1 3 1 1 2 1 1 0 0 0\\nF A I 2 2 1 2 2 1 1 1 0 0\\nH S X 1 3 1 2 2 1 1 0 0 0\\nD A O 1 3 1 2 2 1 1 0 0 0\\nB X O 1 3 1 1 2 1 1 0 0 0\\nB X O 1 2 1 1 2 1 1 0 0 0\\nB X O 1 2 1 1 2 1 1 0 0 0\\nB X I 1 3 1 1 2 1 1 0 0 0\\nE S O 1 1 1 2 2 1 1 0 0 0\\nD A I 1 3 1 2 2 1 1 0 0 0\\nH R X 1 3 1 1 2 1 1 0 0 0\\nC R O 1 3 1 1 2 1 1 0 0 0\\nB X O 1 3 1 1 2 1 1 0 0 0\\nH S X 1 2 1 2 1 1 1 0 0 0\\nH R X 2 2 1 2 2 1 1 0 0 0\\nC S O 1 3 1 1 2 1 1 0 0 0\\nD A I 1 3 1 2 2 1 1 0 0 0\\nH R X 1 2 1 1 2 1 1 0 0 0\\nB X O 1 2 1 1 2 1 1 0 0 0\\nC R O 1 2 1 1 2 1 1 0 0 0\\nH S X 1 2 1 2 1 1 1 0 0 0\\nB X I 1 3 1 1 2 1 1 0 0 0\\nH S X 1 2 1 1 1 1 1 0 0 0\\nH A X 1 2 1 1 2 1 1 0 0 0\\nC A O 1 2 1 2 2 1 1 0 0 0\\nB X O 1 3 1 1 2 1 1 0 0 0\\nB X I 1 3 1 1 2 1 1 0 0 0\\nB X O 1 3 1 1 2 1 1 0 0 0\\nH S X 1 3 1 2 1 1 1 0 0 0\\nC R O 1 3 1 1 2 1 1 0 0 0\\nC S O 1 3 1 1 2 1 1 0 0 0\\nH A X 1 3 1 1 2 1 1 0 0 0\\nE A O 1 3 1 2 2 1 1 0 0 0\\nB X O 1 3 1 1 2 1 1 0 0 0\\nH S X 1 2 1 2 1 1 1 0 0 0\\nC R O 1 2 1 1 2 1 1 0 0 0\\nH S X 1 3 1 1 2 1 1 0 0 0\\nC A O 1 2 1 2 2 1 1 0 0 0\\nC R O 1 3 1 1 2 1 1 0 0 0\\nH S X 1 2 1 2 1 1 1 0 0 0\\nH R X 1 1 1 1 2 1 1 1 0 0\\nH S X 1 1 1 1 2 1 1 0 0 0\\nC S I 1 3 1 1 2 1 1 1 0 0\\nH A X 1 3 1 2 1 1 1 0 0 0\\nB X I 1 2 1 1 2 1 1 0 0 0\\nH S X 1 2 1 1 2 1 1 0 0 0\\nB X O 2 2 1 2 2 1 1 2 0 0\\nC S O 1 2 1 1 2 1 1 0 0 0\\nC A O 1 3 1 2 2 1 1 0 0 0\\nB X O 2 2 1 1 2 1 1 0 0 0\\nH S X 1 2 1 1 2 1 1 0 0 0\\nH R X 1 2 1 1 2 1 1 0 0 0\\nC R O 1 3 1 1 2 1 1 0 0 0\\nB X O 1 3 1 1 2 1 1 0 0 0\\nC S O 2 2 1 1 2 1 1 0 0 0\\nH A X 1 2 1 2 2 1 1 0 0 0\\nB X O 1 1 1 1 2 1 1 0 0 0\\nH S X 1 2 1 1 2 1 1 0 0 0\\nB X O 1 3 1 1 2 1 1 0 0 0\\nH R X 1 2 1 1 2 1 1 0 0 0\\nC R O 1 2 1 1 2 1 1 0 0 0\\nH A X 1 2 1 2 2 1 1 0 0 0\\nH H X 1 3 1 1 2 1 1 0 0 0\\nB X O 1 1 1 1 2 1 1 0 0 0\\nH R X 1 1 1 1 2 1 1 0 0 0\\nH S X 1 2 1 1 2 1 1 1 0 0\\nC R O 1 3 1 1 2 1 1 0 0 0\\nH A X 1 3 1 2 2 1 1 0 0 0\\nH H X 1 2 1 1 2 1 1 0 0 0\\nB X O 1 3 1 1 2 1 1 0 0 0\\nH S X 1 2 1 1 2 1 1 1 0 0\\nC R O 1 2 1 1 2 1 1 0 0 0\\nB X O 1 1 1 2 2 1 1 0 0 0\\nH S X 1 2 1 1 2 1 1 0 0 0\\nC S O 2 2 1 1 2 1 1 0 0 0\\nB X O 1 3 1 1 2 1 1 1 0 0\\nC S O 1 2 1 1 2 1 1 0 0 0\\nB X O 1 2 1 2 2 1 1 0 0 0\\nH S X 1 3 1 1 2 1 1 0 0 0\\nC S O 2 3 1 1 2 1 1 0 0 0\\nB X O 2 3 1 1 2 1 1 0 0 0\\nC S O 1 3 1 1 2 1 1 0 0 0\\nB X O 1 2 1 1 2 1 1 0 0 0\\nH S X 1 3 1 1 1 1 1 0 0 0\\nH A X 1 3 1 1 1 1 1 0 0 0\\nH A X 1 3 1 1 1 1 1 0 0 0\\nH A X 1 2 1 1 1 1 1 0 0 0\\nH A X 1 2 1 1 1 1 1 0 0 0\\nH S X 1 3 1 1 2 1 1 0 0 0\\nD A I 1 3 1 2 2 1 1 2 0 0\\nH S X 1 2 1 1 2 1 1 0 0 0\\nD R O 1 2 1 1 2 1 1 1 0 0\\nD A I 1 3 1 1 2 1 1 0 1 0\\nC A O 1 3 1 1 2 1 1 0 0 0\\nH S X 1 2 1 1 1 1 1 0 0 0\\nH S X 1 2 1 1 1 1 1 0 0 0\\nC S O 1 3 1 1 2 1 1 0 0 0\\nB X O 1 3 1 1 2 1 1 0 0 0\\nH S X 1 2 1 1 1 1 1 0 0 0\\nH S X 1 3 1 1 2 1 1 0 0 0\\nD A I 1 3 1 2 2 1 1 3 0 0\\nH S X 1 2 1 1 2 1 1 0 0 0\\nD R O 1 3 1 1 2 1 1 0 0 0\\nD A I 1 3 1 2 2 1 1 0 1 0\\nC A O 1 3 1 1 2 1 1 0 0 0\\nH S X 1 2 1 1 1 1 1 0 0 0\\nH S X 1 2 1 1 1 1 1 0 0 0\\nH S X 1 2 1 1 2 1 1 0 0 0\\nH S X 1 3 1 1 1 1 1 2 0 0\\nD H O 1 3 1 2 2 1 1 0 0 0\\nH S X 1 2 1 1 2 1 1 0 0 0\\nC R O 2 2 1 1 2 1 1 0 0 0\\nD S O 2 2 2 2 2 1 1 1 1 0\\nC R O 1 2 1 1 2 1 1 0 0 0\\nH S X 1 3 1 1 1 1 1 0 0 0\\nH S X 1 3 1 1 1 1 1 0 0 0\\nC S O 1 3 1 1 2 1 1 3 0 0\\nF A I 1 3 1 1 2 1 1 0 0 0\\nE S O 1 2 1 2 2 1 1 0 0 0\\nH S X 1 2 1 1 2 1 1 0 0 0\\nD R O 1 2 1 1 2 1 1 0 0 0\\nC S O 2 2 3 2 2 1 1 0 0 0\\nH S X 1 1 1 1 2 1 1 0 0 0\\nD S O 1 1 1 1 2 1 1 0 0 0\\nC S O 1 3 1 1 2 1 1 0 0 0\\nD A I 2 3 1 1 2 1 1 3 0 0\\nC A O 1 3 1 2 2 1 1 0 0 0\\nH S X 1 2 1 2 1 1 1 0 0 0\\nH S X 1 2 1 1 2 1 1 0 0 0\\nC R O 1 2 1 1 2 1 1 0 0 0\\nH S X 1 1 2 2 2 1 1 0 0 0\\nC S O 1 3 1 1 2 1 1 0 0 0\\nC S O 1 3 1 1 2 1 1 0 0 0\\nD K I 2 3 1 2 2 1 1 2 0 0\\nE A I 1 3 1 2 2 1 1 3 0 0\\nH S X 1 2 1 2 1 1 1 0 0 0\\nC R O 1 3 1 1 2 1 1 0 0 0\\nH S X 1 3 1 1 2 1 1 0 0 0\\nC R O 1 2 1 1 2 1 1 0 0 0\\nH S X 1 3 1 2 2 1 1 0 0 0\\nC S O 1 2 1 1 2 1 1 0 0 0\\nC S O 1 2 1 1 2 1 1 0 0 0\\nD K I 2 3 1 2 2 1 1 0 0 0\\nE A I 1 2 1 2 2 1 1 0 0 0\\nH S X 1 3 1 2 1 1 1 0 0 0\\nC R O 1 3 1 1 2 1 1 0 0 0\\nB X O 1 3 1 1 2 1 1 0 0 0\\nB X O 1 2 1 1 2 1 1 1 0 0\\nH S X 1 2 1 1 2 1 1 0 0 0\\nH R X 1 1 1 1 2 1 1 0 0 0\\nH S X 1 2 1 2 2 1 1 0 0 0\\nH S X 1 1 1 1 2 1 1 0 0 0\\nH S X 1 2 1 1 2 1 1 0 0 0\\nD A I 2 2 1 2 2 1 1 1 0 0\\nD S I 2 3 1 2 2 1 1 0 0 0\\nH S X 1 2 1 2 1 1 1 0 0 0\\nC R O 1 2 1 1 2 1 1 0 0 0\\nD R O 1 3 1 1 2 1 1 0 0 0\\nD S O 1 3 1 1 2 1 1 2 2 0\\nH S X 1 2 1 2 2 1 1 0 0 0\\nH S X 1 2 1 1 2 1 1 0 0 0\\nH S X 1 1 1 1 2 1 1 0 0 0\\nD S O 1 2 1 2 2 1 1 3 0 0\\nD S O 1 2 1 2 2 1 1 0 0 0\\nH S X 1 2 1 2 1 1 1 0 0 0\\nD S O 1 3 1 1 2 1 1 0 0 0\\nE S O 2 3 3 1 2 1 1 0 0 0\\nB X O 1 3 1 1 2 1 1 0 0 0\\nH S X 1 3 1 2 2 1 1 0 0 0\\nH S X 1 2 1 1 2 1 1 0 0 0\\nH S X 1 2 1 1 2 1 1 0 0 0\\nD K I 2 2 1 2 2 1 1 3 0 0\\nC S O 1 2 1 2 2 1 1 0 0 0\\nH S X 1 3 1 2 1 1 1 0 0 0\\nB X O 1 3 1 1 2 1 1 0 0 0\\nD A I 1 3 1 1 2 1 1 1 0 0\\nC S O 2 2 2 1 2 1 1 0 0 0\\nD R O 1 3 1 1 2 1 1 0 0 0\\nH S X 1 2 1 2 2 1 1 0 0 0\\nH S X 1 2 1 1 2 1 1 0 0 0\\nH S X 1 3 1 1 2 1 1 0 0 0\\nD K I 2 2 1 2 2 1 1 0 0 0\\nC S O 1 2 1 2 2 1 1 0 0 0\\nH S X 1 3 1 2 1 1 1 0 0 0\\nB X O 1 1 1 1 2 1 1 0 0 0\\nD A I 1 3 1 2 2 1 1 0 0 0\\nC S O 1 2 1 1 2 1 1 0 0 0\\nD R O 1 3 1 1 2 1 1 0 0 0\\nH S X 1 2 1 2 2 1 1 0 0 0\\nH S X 1 2 1 1 2 1 1 0 0 0\\nE A O 1 2 1 2 2 1 1 0 1 0\\nC S O 1 1 1 2 2 1 1 0 0 0\\nH S X 1 3 1 2 1 1 1 0 0 0\\nH R X 1 2 1 1 2 1 1 0 0 0\\nE A C 2 2 1 2 2 1 1 0 0 0\\nD A I 1 3 1 1 2 1 1 0 0 0\\nD A I 1 3 1 1 2 1 1 0 0 0\\nE S I 1 3 1 1 2 1 1 0 0 0\\nD S I 1 3 1 1 2 1 1 0 0 0\\nH S X 1 2 1 1 2 1 1 0 0 0\\nC A O 2 2 3 2 2 1 1 0 0 0\\nC S O 1 3 1 2 2 1 1 0 0 0\\nH S X 1 2 1 2 1 1 1 0 0 0\\nH R X 1 3 1 1 2 1 1 0 0 0\\nE A I 1 2 1 2 2 1 1 0 0 0\\nD K I 1 3 1 2 2 1 1 1 0 0\\nD A O 1 3 1 2 2 1 1 0 0 0\\nE K I 1 3 1 2 2 2 1 0 0 0\\nD K I 1 3 1 2 2 1 1 0 0 0\\nH R X 1 3 1 1 2 1 1 0 0 0\\nH S X 1 3 1 1 1 1 1 0 0 0\\nC A O 1 2 1 2 2 1 1 0 0 0\\nC S O 1 2 1 2 2 1 1 0 0 0\\nH S X 1 3 1 2 1 1 1 0 0 0\\nD K I 2 2 1 2 2 1 1 0 0 0\\nB X O 1 2 1 2 2 1 1 0 0 0\\nE K I 1 2 1 2 2 1 1 1 0 0\\nD K I 1 3 1 2 2 1 1 1 0 0\\nH R X 1 3 1 1 2 1 1 1 0 0\\nH S X 1 3 1 1 1 1 1 0 0 0\\nH S X 1 1 1 2 2 1 1 0 0 0\\nH S X 1 3 1 2 1 1 1 0 0 0\\nD A I 1 2 1 2 2 1 1 0 0 0\\nF K C 1 2 1 2 2 2 1 0 1 1\\nE K C 2 3 1 2 2 2 1 0 0 0\\nD A I 1 3 1 1 2 1 1 0 2 0\\nC R O 1 3 1 1 2 1 1 0 0 0\\nH R X 1 2 1 1 2 1 1 0 0 0\\nB X O 1 3 1 1 2 1 1 0 0 0\\nH S X 1 2 1 2 1 1 1 0 0 0\\nD A I 1 2 1 2 2 1 1 1 0 0\\nE K C 2 2 3 2 2 2 1 0 0 0\\nF K C 1 3 1 2 2 2 1 0 0 0\\nD K C 2 3 1 2 2 2 1 1 3 2\\nC S I 1 2 1 1 2 1 1 0 0 0\\nH S X 1 3 1 1 2 1 1 0 0 0\\nD A I 1 3 1 1 2 1 1 0 0 0\\nD S O 1 3 1 1 2 1 1 0 0 0\\nH S X 1 2 1 1 1 1 1 0 0 0\\nB X O 1 3 1 1 2 1 1 0 0 0\\nH S X 1 2 1 2 1 1 1 0 0 0\\nD S O 1 1 1 2 2 1 1 0 0 0\\nE K C 2 3 3 2 2 2 1 1 0 1\\nF K I 1 2 1 2 2 2 1 0 0 0\\nE K C 2 3 3 2 2 2 1 0 5 1\\nC R I 1 2 1 1 2 1 1 0 0 0\\nB S O 1 3 1 1 2 1 1 0 0 0\\nD A O 1 3 1 2 2 1 1 1 0 0\\nC R O 1 3 1 1 2 1 1 0 0 0\\nH S X 1 3 1 1 1 1 1 0 0 0\\nC R O 1 2 1 1 2 1 1 0 0 0\\nH S X 1 2 1 2 1 1 1 0 0 0\\nH S X 2 2 1 2 2 1 1 0 0 0\\nE K C 2 2 3 2 2 2 1 2 2 0\\nE K I 1 3 1 2 2 2 1 1 0 0\\nE K C 2 2 3 2 2 2 1 0 0 0\\nB S O 1 2 1 1 2 1 1 0 0 0\\nE A I 1 3 1 2 2 1 1 0 0 0\\nD R I 1 3 1 1 2 1 1 0 0 0\\nH S X 1 2 1 1 1 1 1 0 0 0\\nC R O 1 3 1 1 2 1 1 0 0 0\\nH S X 1 3 1 2 2 1 1 0 0 0\\nE K C 2 2 2 2 2 2 1 4 0 0\\nE A I 1 2 1 2 2 1 1 3 0 0\\nH S X 1 2 1 1 2 1 1 0 0 0\\nE A O 2 2 1 2 2 1 1 0 0 0\\nD R I 1 3 1 2 2 1 1 0 0 0\\nH S X 1 2 1 1 1 1 1 0 0 0\\nH R X 1 3 1 1 2 1 1 0 0 0\\nD S O 1 3 1 1 2 1 1 0 0 0\\nH R X 1 2 1 1 1 1 1 0 0 0\\nE K C 2 2 2 2 2 2 1 0 0 0\\nF S I 2 2 1 2 2 1 1 2 0 0\\nD S I 1 3 1 1 2 1 1 1 0 0\\nH S X 1 3 1 1 2 1 1 0 0 0\\nD S O 1 3 1 2 2 1 1 0 0 0\\nD A I 1 2 1 2 2 1 1 0 0 0\\nH A X 1 3 1 1 1 1 1 0 0 0\\nD S O 1 2 1 1 2 1 1 0 0 0\\nH S X 1 2 1 1 1 1 1 0 0 0\\nC S O 1 3 1 1 2 1 1 0 0 0\\nH S X 1 2 1 2 1 1 1 0 0 0\\nE K C 2 3 1 2 2 2 1 2 1 0\\nF A I 2 2 1 2 2 1 1 0 0 0\\nC S O 1 2 1 2 2 1 1 0 0 0\\nD A I 1 2 1 2 2 1 1 0 0 0\\nH A X 1 2 1 1 1 1 1 0 0 0\\nB X O 1 3 1 1 2 1 1 0 0 0\\nH S X 1 3 1 1 1 1 1 0 0 0\\nD A O 1 3 1 1 2 1 1 0 0 0\\nD H O 1 3 1 2 2 1 1 0 0 0\\nD S O 1 3 1 1 2 1 1 2 1 0\\nE K C 2 2 1 2 2 1 1 0 0 0\\nF A I 1 2 1 2 2 1 1 0 0 0\\nC S O 1 2 1 2 2 1 1 0 0 0\\nD A I 1 1 1 2 2 1 1 1 1 0\\nH A X 1 2 1 1 1 1 1 0 0 0\\nH S X 1 2 1 1 1 1 1 0 0 0\\nD A O 1 2 1 1 2 1 1 0 0 0\\nD H O 1 3 1 2 2 1 1 0 0 0\\nD S O 1 3 1 1 2 1 1 0 0 0\\nH S X 1 1 1 2 2 1 1 0 0 0\\nF S I 1 3 1 2 2 1 1 0 0 0\\nH S X 1 3 1 1 1 1 1 0 0 0\\nB X I 1 2 1 1 2 1 1 0 0 0\\nD H O 1 2 1 2 2 1 1 0 0 0\\nD R O 1 3 1 1 2 1 1 0 0 0\\nD A I 2 3 2 1 2 1 1 0 0 0\\nH S X 1 2 1 1 1 1 1 0 0 0\\nC R O 1 3 1 1 2 1 1 1 0 0\\nC R O 1 2 1 1 2 1 1 0 0 0\\nD H O 1 2 1 2 2 1 1 0 0 0\\nC S O 1 2 1 1 2 1 1 0 0 0\\nE A I 1 2 1 2 2 1 1 0 0 0\\nH S X 1 2 1 1 1 1 1 1 0 0\\nC S O 1 3 1 1 2 1 1 0 0 0\\nH S X 1 2 1 1 2 1 1 0 0 0\\nD S O 1 3 1 2 2 1 1 0 0 0\\nB X O 1 1 1 1 2 1 1 0 0 0\\nE A O 1 2 1 2 2 1 1 4 1 0\\nH S X 1 3 1 1 1 1 1 1 0 0\\nH S X 1 3 1 1 1 1 1 0 0 0\\nH S X 1 2 1 1 2 1 1 0 0 0\\nH S X 1 2 1 1 2 1 1 1 0 0\\nD H O 1 3 1 2 2 1 1 0 0 0\\nE A I 2 2 1 2 2 1 1 0 0 0\\nD S O 1 3 1 1 2 1 1 0 0 0\\nH S X 1 1 1 1 1 1 1 0 0 0\\nH S X 1 2 1 1 2 1 1 0 0 0\\nH S X 1 2 1 1 2 1 1 1 0 0\\nD S O 1 2 1 2 2 1 1 0 0 0\\nH S X 1 2 2 2 2 1 1 0 0 0\\nH S X 2 2 1 1 2 1 1 0 0 0\\nD R O 1 3 1 1 2 1 1 0 0 0\\nH S X 1 2 1 1 1 1 1 0 0 0\\nH S X 2 2 1 1 2 1 1 0 0 0\\nC S O 1 2 1 2 2 1 1 0 0 0\\nH R X 1 2 1 1 2 1 1 0 0 0\\nB X O 1 1 1 1 2 1 1 0 0 0\\n'"
      ]
     },
     "execution_count": 4,
     "metadata": {},
     "output_type": "execute_result"
    }
   ],
   "source": [
    "# data2\n",
    "response = requests.get(url2)\n",
    "data2 = response.text\n",
    "data2"
   ]
  },
  {
   "cell_type": "code",
   "execution_count": 5,
   "metadata": {},
   "outputs": [
    {
     "data": {
      "text/html": [
       "<div>\n",
       "<style scoped>\n",
       "    .dataframe tbody tr th:only-of-type {\n",
       "        vertical-align: middle;\n",
       "    }\n",
       "\n",
       "    .dataframe tbody tr th {\n",
       "        vertical-align: top;\n",
       "    }\n",
       "\n",
       "    .dataframe thead th {\n",
       "        text-align: right;\n",
       "    }\n",
       "</style>\n",
       "<table border=\"1\" class=\"dataframe\">\n",
       "  <thead>\n",
       "    <tr style=\"text-align: right;\">\n",
       "      <th></th>\n",
       "      <th></th>\n",
       "      <th></th>\n",
       "      <th></th>\n",
       "      <th>*******DATA1;</th>\n",
       "      <th>1969</th>\n",
       "      <th>FLARE</th>\n",
       "      <th>DATA</th>\n",
       "      <th>Unnamed: 4</th>\n",
       "      <th>(02/13/69</th>\n",
       "      <th>to</th>\n",
       "      <th>03/27/69)</th>\n",
       "      <th>*******</th>\n",
       "    </tr>\n",
       "  </thead>\n",
       "  <tbody>\n",
       "    <tr>\n",
       "      <th>C</th>\n",
       "      <th>S</th>\n",
       "      <th>O</th>\n",
       "      <th>1</th>\n",
       "      <td>2</td>\n",
       "      <td>1</td>\n",
       "      <td>1</td>\n",
       "      <td>2</td>\n",
       "      <td>1</td>\n",
       "      <td>2</td>\n",
       "      <td>0</td>\n",
       "      <td>0</td>\n",
       "      <td>0</td>\n",
       "    </tr>\n",
       "    <tr>\n",
       "      <th>D</th>\n",
       "      <th>S</th>\n",
       "      <th>O</th>\n",
       "      <th>1</th>\n",
       "      <td>3</td>\n",
       "      <td>1</td>\n",
       "      <td>1</td>\n",
       "      <td>2</td>\n",
       "      <td>1</td>\n",
       "      <td>2</td>\n",
       "      <td>0</td>\n",
       "      <td>0</td>\n",
       "      <td>0</td>\n",
       "    </tr>\n",
       "    <tr>\n",
       "      <th>C</th>\n",
       "      <th>S</th>\n",
       "      <th>O</th>\n",
       "      <th>1</th>\n",
       "      <td>3</td>\n",
       "      <td>1</td>\n",
       "      <td>1</td>\n",
       "      <td>2</td>\n",
       "      <td>1</td>\n",
       "      <td>1</td>\n",
       "      <td>0</td>\n",
       "      <td>0</td>\n",
       "      <td>0</td>\n",
       "    </tr>\n",
       "    <tr>\n",
       "      <th rowspan=\"2\" valign=\"top\">D</th>\n",
       "      <th>S</th>\n",
       "      <th>O</th>\n",
       "      <th>1</th>\n",
       "      <td>3</td>\n",
       "      <td>1</td>\n",
       "      <td>1</td>\n",
       "      <td>2</td>\n",
       "      <td>1</td>\n",
       "      <td>2</td>\n",
       "      <td>0</td>\n",
       "      <td>0</td>\n",
       "      <td>0</td>\n",
       "    </tr>\n",
       "    <tr>\n",
       "      <th>A</th>\n",
       "      <th>O</th>\n",
       "      <th>1</th>\n",
       "      <td>3</td>\n",
       "      <td>1</td>\n",
       "      <td>1</td>\n",
       "      <td>2</td>\n",
       "      <td>1</td>\n",
       "      <td>2</td>\n",
       "      <td>0</td>\n",
       "      <td>0</td>\n",
       "      <td>0</td>\n",
       "    </tr>\n",
       "  </tbody>\n",
       "</table>\n",
       "</div>"
      ],
      "text/plain": [
       "         *******DATA1;  1969  FLARE  DATA  Unnamed: 4  (02/13/69  to  \\\n",
       "C S O 1              2     1      1     2           1          2   0   \n",
       "D S O 1              3     1      1     2           1          2   0   \n",
       "C S O 1              3     1      1     2           1          1   0   \n",
       "D S O 1              3     1      1     2           1          2   0   \n",
       "  A O 1              3     1      1     2           1          2   0   \n",
       "\n",
       "         03/27/69)  *******  \n",
       "C S O 1          0        0  \n",
       "D S O 1          0        0  \n",
       "C S O 1          0        0  \n",
       "D S O 1          0        0  \n",
       "  A O 1          0        0  "
      ]
     },
     "execution_count": 5,
     "metadata": {},
     "output_type": "execute_result"
    }
   ],
   "source": [
    "# Creamos un dataframe con los datos de data1 y data2 \n",
    "import pandas as pd\n",
    "import io\n",
    "\n",
    "# Leemos los datos como un csv de string separado por espacios\n",
    "data1df = pd.read_csv(io.StringIO(data1), sep=' ')\n",
    "data2df = pd.read_csv(io.StringIO(data2), sep=' ')\n",
    "\n",
    "# Vemos qué tenemos en data1\n",
    "data1df.head()"
   ]
  },
  {
   "cell_type": "code",
   "execution_count": 6,
   "metadata": {},
   "outputs": [
    {
     "data": {
      "text/html": [
       "<div>\n",
       "<style scoped>\n",
       "    .dataframe tbody tr th:only-of-type {\n",
       "        vertical-align: middle;\n",
       "    }\n",
       "\n",
       "    .dataframe tbody tr th {\n",
       "        vertical-align: top;\n",
       "    }\n",
       "\n",
       "    .dataframe thead th {\n",
       "        text-align: right;\n",
       "    }\n",
       "</style>\n",
       "<table border=\"1\" class=\"dataframe\">\n",
       "  <thead>\n",
       "    <tr style=\"text-align: right;\">\n",
       "      <th></th>\n",
       "      <th></th>\n",
       "      <th></th>\n",
       "      <th></th>\n",
       "      <th>*******</th>\n",
       "      <th>DATA2;</th>\n",
       "      <th>1978</th>\n",
       "      <th>FLARE</th>\n",
       "      <th>DATA</th>\n",
       "      <th>(08/19/78</th>\n",
       "      <th>to</th>\n",
       "      <th>12/23/78)</th>\n",
       "      <th>*****</th>\n",
       "    </tr>\n",
       "  </thead>\n",
       "  <tbody>\n",
       "    <tr>\n",
       "      <th>H</th>\n",
       "      <th>A</th>\n",
       "      <th>X</th>\n",
       "      <th>1</th>\n",
       "      <td>3</td>\n",
       "      <td>1</td>\n",
       "      <td>1</td>\n",
       "      <td>1</td>\n",
       "      <td>1</td>\n",
       "      <td>1</td>\n",
       "      <td>0</td>\n",
       "      <td>0</td>\n",
       "      <td>0</td>\n",
       "    </tr>\n",
       "    <tr>\n",
       "      <th>D</th>\n",
       "      <th>R</th>\n",
       "      <th>O</th>\n",
       "      <th>1</th>\n",
       "      <td>3</td>\n",
       "      <td>1</td>\n",
       "      <td>1</td>\n",
       "      <td>2</td>\n",
       "      <td>1</td>\n",
       "      <td>1</td>\n",
       "      <td>0</td>\n",
       "      <td>0</td>\n",
       "      <td>0</td>\n",
       "    </tr>\n",
       "    <tr>\n",
       "      <th>C</th>\n",
       "      <th>S</th>\n",
       "      <th>O</th>\n",
       "      <th>1</th>\n",
       "      <td>3</td>\n",
       "      <td>1</td>\n",
       "      <td>1</td>\n",
       "      <td>2</td>\n",
       "      <td>1</td>\n",
       "      <td>1</td>\n",
       "      <td>0</td>\n",
       "      <td>0</td>\n",
       "      <td>0</td>\n",
       "    </tr>\n",
       "    <tr>\n",
       "      <th rowspan=\"2\" valign=\"top\">H</th>\n",
       "      <th>R</th>\n",
       "      <th>X</th>\n",
       "      <th>1</th>\n",
       "      <td>2</td>\n",
       "      <td>1</td>\n",
       "      <td>1</td>\n",
       "      <td>1</td>\n",
       "      <td>1</td>\n",
       "      <td>1</td>\n",
       "      <td>0</td>\n",
       "      <td>0</td>\n",
       "      <td>0</td>\n",
       "    </tr>\n",
       "    <tr>\n",
       "      <th>S</th>\n",
       "      <th>X</th>\n",
       "      <th>1</th>\n",
       "      <td>1</td>\n",
       "      <td>1</td>\n",
       "      <td>1</td>\n",
       "      <td>2</td>\n",
       "      <td>1</td>\n",
       "      <td>1</td>\n",
       "      <td>0</td>\n",
       "      <td>0</td>\n",
       "      <td>0</td>\n",
       "    </tr>\n",
       "  </tbody>\n",
       "</table>\n",
       "</div>"
      ],
      "text/plain": [
       "         *******  DATA2;  1978  FLARE  DATA  (08/19/78  to  12/23/78)  *****\n",
       "H A X 1        3       1     1      1     1          1   0          0      0\n",
       "D R O 1        3       1     1      2     1          1   0          0      0\n",
       "C S O 1        3       1     1      2     1          1   0          0      0\n",
       "H R X 1        2       1     1      1     1          1   0          0      0\n",
       "  S X 1        1       1     1      2     1          1   0          0      0"
      ]
     },
     "execution_count": 6,
     "metadata": {},
     "output_type": "execute_result"
    }
   ],
   "source": [
    "# Vemos qué tenemos en data2\n",
    "data2df.head()"
   ]
  },
  {
   "cell_type": "markdown",
   "metadata": {},
   "source": [
    "Rápidamente, podemos ver el mismo problema en el nombre de las columnas en ambos df, ya que se usó un texto como nombre de columna. Vamos a quitar ese texto de los archivos.\n",
    "\n",
    "Recordatorio: el texto lo podemos ver arriba cuando hicimos el print, que en el caso de data1 es:\n",
    "\n",
    "\"*******DATA1;\t1969\tFLARE\tDATA\tUnnamed: 4\t(02/13/69\tto\t03/27/69)\t*******\"\n",
    "\n",
    "y lo mismo pasa con data2:\n",
    "\n",
    "\n",
    "\"*******\tDATA2;\t1978\tFLARE\tDATA\t(08/19/78\tto\t12/23/78)\t*****\"\n",
    "\n",
    "Vamos a quitar el texto de las columnas creando nuevos dataframes a partir del texto que queremos quitar"
   ]
  },
  {
   "cell_type": "code",
   "execution_count": 7,
   "metadata": {},
   "outputs": [
    {
     "data": {
      "text/plain": [
       "'*******DATA1; 1969 FLARE DATA  (02/13/69 to 03/27/69) *******\\nC S O 1 2 1 1 2 1 2 0 0 0\\nD S O 1 3 1 1 2 1 2 0 0 0\\nC S O 1 3 1 1 2 1 1 0 0 0\\nD S O 1 3 1 1 2 1 2 0 0 0\\nD A O 1 3 1 1 2 1 2 0 0 0\\nD A O 1 2 1 1 2 1 2 0 0 0\\nD A O 1 2 1 1 2 1 1 0 0 0\\nD A O 1 2 1 1 2 1 2 0 0 0\\nD K O 1 3 1 1 2 1 2 0 0 0\\nC R O 1 3 1 1 2 1 1 0 0 0\\nB X O 1 3 1 1 2 1 1 0 0 0\\nD S O 1 2 1 1 2 1 1 0 0 0\\nC H I 1 3 1 1 2 1 2 0 0 0\\nD R O 1 3 1 1 2 1 1 0 0 0\\nB X O 1 2 1 1 2 1 1 0 0 0\\nB X O 1 3 1 1 2 1 1 0 0 0\\nD K I 1 3 1 1 2 1 2 0 0 0\\nD S O 1 2 1 1 2 1 2 0 0 0\\nD R O 1 2 1 1 2 1 1 0 0 0\\nC A I 1 2 1 1 2 1 2 0 0 0\\nC S O 1 2 1 1 2 1 1 0 0 0\\nB X O 1 3 1 1 2 1 1 0 0 0\\nF K I 1 3 1 2 2 1 2 0 0 0\\nB X O 1 2 1 1 2 1 1 0 0 0\\nH R X 1 2 1 1 1 1 2 0 0 0\\nB X I 1 3 1 1 2 1 1 0 0 0\\nC R I 1 3 1 1 2 1 2 0 0 0\\nB X O 1 3 1 1 2 1 1 0 0 0\\nB X O 1 3 1 1 2 1 2 0 0 0\\nD A I 1 3 1 2 2 1 2 0 0 0\\nD A O 1 3 1 1 2 1 2 1 0 1\\nB X O 1 3 1 1 2 1 1 0 0 0\\nD A I 1 3 1 1 2 1 2 0 0 0\\nB X O 1 3 1 1 2 1 2 0 0 0\\nD R O 1 3 1 1 2 1 2 0 0 0\\nD A O 1 2 1 1 2 1 1 0 0 0\\nC A I 1 3 1 1 2 1 1 0 0 0\\nD A I 1 2 1 2 2 1 1 1 0 0\\nD A I 2 2 3 1 2 1 2 0 0 0\\nD A I 1 2 1 2 2 1 2 0 0 0\\nB X O 1 3 1 1 2 1 1 0 0 0\\nD R O 1 1 1 1 2 1 1 0 0 0\\nD A I 1 2 1 1 2 1 1 0 0 0\\nD S O 1 1 1 1 2 1 1 0 0 0\\nD S I 1 3 1 1 2 1 1 0 0 0\\nD A I 1 3 1 2 2 1 2 2 1 0\\nD A I 2 3 1 2 2 1 1 0 0 0\\nD A I 1 2 1 2 2 1 1 0 0 0\\nB X O 1 2 1 1 2 1 1 0 0 0\\nD S O 1 3 1 2 2 1 2 0 0 0\\nD S O 1 3 1 1 2 1 1 0 0 0\\nB X O 1 3 1 1 2 1 1 0 0 0\\nD A O 1 3 1 2 2 1 2 0 0 0\\nD K C 2 3 1 2 2 1 2 1 1 0\\nD A I 1 3 1 2 2 1 2 0 0 0\\nB X O 1 3 1 1 2 1 1 0 0 0\\nD A O 1 3 1 2 2 1 2 0 0 0\\nD S I 1 3 1 1 2 1 1 0 0 0\\nD K C 1 2 1 1 2 1 2 0 0 0\\nD A I 1 2 1 1 2 1 2 0 0 0\\nB X O 1 3 1 1 2 1 1 0 0 0\\nD S O 1 2 1 2 2 1 2 0 0 0\\nD K C 2 3 3 2 2 1 2 1 2 1\\nE K I 2 3 1 2 2 1 2 0 0 0\\nD S I 1 3 1 2 2 1 2 1 0 0\\nC S O 1 2 1 2 2 1 2 0 0 0\\nD S I 1 3 1 2 2 1 2 0 0 0\\nH H X 1 2 1 2 2 1 1 1 0 0\\nD S I 1 3 1 2 2 1 2 0 0 0\\nB X O 1 3 1 1 2 1 1 0 0 0\\nB X O 1 3 1 1 2 1 1 0 0 0\\nC R O 1 3 1 1 2 1 1 0 0 0\\nH S X 1 2 1 1 1 1 2 0 0 0\\nD A O 1 2 1 2 2 1 2 0 0 0\\nD K C 2 2 3 2 2 1 2 0 0 0\\nD K I 1 3 1 2 2 1 2 0 2 1\\nD S I 1 2 1 2 2 1 1 0 1 0\\nC A O 1 2 1 2 2 1 2 0 0 0\\nD S O 1 1 1 2 2 1 2 0 0 0\\nH S X 1 3 1 2 2 1 2 0 0 0\\nD K I 1 3 1 2 2 1 2 0 0 0\\nH R X 1 2 1 1 2 1 2 0 0 0\\nB X O 1 2 1 1 2 1 1 0 0 0\\nH S X 1 3 1 1 1 1 2 0 0 0\\nC S O 1 1 1 2 2 1 2 0 0 0\\nD K C 2 2 3 2 2 1 2 0 0 0\\nD A I 1 2 1 2 2 1 2 0 0 0\\nC S O 2 2 1 2 2 1 1 0 0 0\\nC S O 1 2 1 2 2 1 2 0 0 0\\nC S O 1 2 1 2 2 1 2 0 0 0\\nC S O 2 3 1 2 2 1 2 0 0 0\\nD K I 1 3 1 2 2 1 2 0 1 0\\nH R X 1 2 1 1 2 1 2 0 0 0\\nH S X 1 3 1 1 1 1 2 0 0 0\\nC S O 1 2 1 1 2 1 2 1 0 0\\nC K O 1 2 3 2 2 1 2 0 0 0\\nC S O 1 1 3 2 2 1 2 0 0 0\\nC S O 1 1 1 2 2 1 2 0 0 0\\nC K I 1 3 1 2 2 1 2 0 0 0\\nE A C 1 3 1 2 2 1 2 0 0 0\\nH R X 1 2 1 1 2 1 2 0 0 0\\nH S X 1 2 1 1 1 1 2 0 0 0\\nH R X 1 2 1 1 2 1 2 0 0 0\\nH S X 2 2 1 1 2 1 2 0 0 0\\nB X O 1 3 1 1 2 1 2 0 0 0\\nC S I 1 2 1 2 2 1 2 0 0 0\\nH S X 1 1 1 2 2 1 2 0 0 1\\nD K C 1 3 3 2 2 1 2 0 1 0\\nD A I 2 2 3 2 2 1 2 0 0 0\\nH S X 1 2 1 1 2 1 2 0 0 0\\nB X O 1 2 1 1 2 1 1 0 0 0\\nC S I 2 3 3 1 2 1 1 0 1 0\\nC S O 1 1 1 1 2 1 2 0 1 0\\nH K X 2 2 3 2 2 1 2 0 0 0\\nD K I 1 3 1 2 2 1 2 0 0 0\\nH A X 1 3 1 1 2 1 2 0 0 0\\nC R O 1 1 1 1 2 1 2 0 0 0\\nC R O 1 3 1 1 2 1 2 0 0 0\\nB X O 1 3 1 1 2 1 1 0 0 0\\nB X O 1 3 1 1 2 1 1 1 0 0\\nH K X 1 3 1 2 2 1 2 0 0 0\\nC K I 1 3 1 2 2 1 2 0 0 0\\nH S X 1 2 1 1 2 1 2 0 0 0\\nB X O 1 3 1 1 2 1 1 0 0 0\\nC R I 2 3 3 1 2 1 2 0 0 0\\nH R X 1 2 3 1 2 1 2 0 0 0\\nB X O 1 3 1 1 2 1 1 0 0 0\\nD R O 1 3 1 1 2 1 2 0 0 0\\nH K X 1 2 1 2 2 1 2 0 0 0\\nD K I 1 2 1 2 2 1 2 0 0 0\\nH H X 1 3 1 1 2 1 2 0 0 0\\nB X I 1 3 1 1 2 1 1 0 0 0\\nB X O 1 3 1 1 2 1 1 0 0 0\\nB X I 1 3 1 1 2 1 1 0 0 0\\nD R O 2 2 1 1 2 1 2 1 0 0\\nH A X 1 3 1 2 2 1 2 0 0 0\\nC K O 1 2 1 2 2 1 2 0 0 0\\nH S X 1 2 1 1 2 1 2 0 0 0\\nB X O 1 2 1 1 2 1 1 0 0 0\\nB X O 1 2 1 1 2 1 1 1 0 0\\nC R O 1 3 1 1 2 1 1 0 0 0\\nB X I 1 3 1 1 2 1 1 0 0 0\\nC A O 1 3 1 2 2 1 2 0 0 0\\nC K I 1 2 1 2 2 1 2 0 0 0\\nH S X 1 2 1 1 2 1 2 0 0 0\\nD S I 1 3 1 1 2 1 1 0 0 0\\nB X O 1 2 1 1 2 1 1 0 0 0\\nB X O 2 2 1 1 2 1 1 0 0 0\\nH S X 1 2 1 1 1 1 2 0 0 0\\nH A X 1 3 1 1 2 1 2 0 0 0\\nC K I 1 3 1 2 2 1 2 2 4 0\\nB X O 1 3 1 1 2 1 2 0 0 0\\nH S X 1 3 1 1 1 1 2 0 0 0\\nC S O 1 3 1 1 2 1 2 0 1 0\\nC A I 1 3 1 1 2 1 2 0 0 0\\nH S X 1 3 1 1 1 1 2 0 0 0\\nD S O 1 3 1 1 2 1 2 1 0 0\\nC S O 1 2 3 2 2 1 2 0 0 0\\nB X O 1 2 1 1 2 1 1 0 0 0\\nH S X 1 2 1 1 1 1 2 0 0 0\\nC S O 1 3 1 1 2 1 2 0 0 0\\nC S O 1 3 1 1 2 1 2 0 0 0\\nH A X 1 3 1 1 1 1 2 2 0 0\\nB X O 2 1 1 1 2 1 1 1 0 0\\nH R X 1 2 1 1 1 1 2 0 0 0\\nC S O 2 2 1 2 2 1 2 0 1 0\\nH S X 1 3 1 1 1 1 2 0 0 0\\nH S X 2 2 3 1 2 1 2 0 0 0\\nC S O 1 2 1 1 2 1 2 0 0 0\\nC A I 1 3 1 1 2 1 2 0 0 0\\nE S I 1 3 1 1 2 1 2 0 2 0\\nB X O 1 2 1 1 2 1 1 0 0 0\\nD S O 1 2 1 1 2 1 2 1 0 0\\nC S O 1 1 1 2 2 1 2 0 0 0\\nC S O 1 2 1 1 2 1 2 0 0 0\\nH S X 1 1 1 1 2 1 2 0 0 0\\nC S O 1 2 1 1 2 1 2 0 0 0\\nC S I 2 2 1 1 2 1 2 0 0 0\\nD S O 1 2 1 2 2 1 2 2 4 0\\nD S O 1 3 1 1 2 1 2 1 0 0\\nB X O 1 3 1 1 2 1 2 0 0 0\\nC A O 1 3 1 1 2 1 2 0 0 0\\nC S O 1 3 1 1 2 1 2 0 0 0\\nC R I 1 3 1 1 2 1 2 0 0 0\\nB X O 1 2 3 2 2 1 2 0 0 0\\nB X I 2 3 1 1 2 1 2 1 0 0\\nD H O 1 2 1 1 2 1 2 0 0 0\\nH S X 1 1 1 1 2 1 2 0 0 0\\nH R X 1 2 1 1 2 1 2 0 0 0\\nH A X 1 2 1 1 2 1 2 0 0 0\\nC R I 1 2 1 1 2 1 2 0 0 0\\nC R O 2 1 1 1 2 1 2 0 0 0\\nD K O 1 3 1 1 2 1 2 1 0 0\\nD R O 1 2 1 1 2 1 2 0 0 0\\nH S X 1 2 1 1 2 1 2 0 0 0\\nB X O 1 2 1 1 2 1 1 0 0 0\\nB X I 1 3 1 1 2 1 2 0 0 0\\nB X O 1 3 1 1 2 1 1 0 0 0\\nC S O 1 3 1 1 2 1 2 1 1 0\\nD A I 1 3 1 1 2 1 2 0 0 0\\nB X O 1 3 1 1 2 1 2 0 1 0\\nB X O 1 2 1 1 2 1 2 0 0 0\\nB X I 1 3 1 1 2 1 1 0 0 0\\nB X I 1 3 1 1 2 1 1 0 0 0\\nD A I 1 3 1 1 2 1 2 0 0 0\\nC H I 2 3 1 1 2 1 2 0 0 0\\nD K O 1 3 1 2 2 1 2 2 0 0\\nB X O 1 3 1 1 2 1 2 1 0 0\\nC K I 1 3 1 1 2 1 1 0 0 0\\nC A O 1 2 1 1 2 1 2 0 0 0\\nD A I 1 2 1 1 2 1 2 0 0 0\\nB X O 1 3 1 1 2 1 2 0 0 0\\nB X I 1 3 1 1 2 1 2 0 0 0\\nB X O 1 3 1 1 2 1 2 1 1 0\\nB X I 1 2 1 2 2 1 2 0 0 0\\nB X I 1 3 1 1 2 1 1 0 0 0\\nC A I 1 3 1 2 2 1 2 0 0 0\\nC H I 2 2 3 1 2 1 2 1 1 0\\nF K I 1 2 1 2 2 1 2 1 1 0\\nC R O 1 2 3 1 2 1 2 0 0 0\\nE A O 1 2 1 1 2 1 2 0 0 0\\nC S O 1 1 1 1 2 1 2 0 0 0\\nD A I 1 3 1 2 2 1 2 0 0 0\\nB X O 2 3 1 1 2 1 2 0 1 0\\nC R O 1 3 1 1 2 1 2 0 0 0\\nD S I 1 2 1 2 2 1 2 0 0 0\\nH A X 1 3 1 1 1 1 2 0 0 0\\nB X O 1 2 1 1 2 1 1 0 0 0\\nC A O 1 3 1 2 2 1 2 0 0 0\\nD H I 1 3 1 1 2 1 2 0 0 0\\nF A I 2 3 1 2 2 1 2 0 0 0\\nE K O 1 3 1 1 2 1 2 1 0 0\\nH S X 1 3 1 1 2 1 2 0 0 0\\nD K C 1 3 1 2 2 1 2 0 0 0\\nB X O 1 3 1 1 2 1 1 0 0 0\\nB X O 2 2 3 1 2 1 1 0 0 0\\nD A I 1 3 1 1 2 1 2 0 0 0\\nC A I 1 3 1 2 2 1 2 0 0 0\\nH R X 1 2 1 1 1 1 2 0 0 0\\nC R O 1 1 1 2 2 1 1 0 0 0\\nD H I 2 3 3 2 2 1 2 0 0 0\\nE K I 2 2 3 2 2 1 2 0 1 0\\nE K I 1 3 1 1 2 1 2 0 0 0\\nC S O 1 2 1 1 2 1 2 0 0 0\\nD K C 1 3 1 2 2 1 2 1 0 0\\nB X O 1 3 1 1 2 1 1 0 0 0\\nB X O 2 2 3 1 2 1 1 0 0 0\\nD S O 1 3 1 2 2 1 2 0 0 0\\nH R X 1 3 1 1 2 1 2 0 0 0\\nH A X 1 3 1 2 2 1 2 0 0 0\\nH R X 1 2 1 1 1 1 2 0 0 0\\nH S X 1 3 1 1 2 1 2 0 0 0\\nC R I 1 3 1 1 2 1 2 0 0 0\\nC H I 1 2 1 2 2 1 2 1 0 0\\nF A I 1 3 1 2 2 1 2 0 1 0\\nE K I 2 3 1 2 2 1 2 0 0 0\\nH S X 1 2 1 1 2 1 2 0 0 0\\nD K C 1 3 1 2 2 1 2 0 1 1\\nD S I 1 3 1 2 2 1 2 0 0 0\\nH A X 1 3 1 2 2 1 2 0 1 1\\nH R X 1 2 1 1 1 1 1 0 0 0\\nH S X 1 2 1 1 2 1 2 0 0 0\\nB X O 1 3 1 1 2 1 2 0 0 0\\nC H O 1 2 1 2 2 1 2 0 0 0\\nF A I 2 3 3 2 2 1 2 0 1 0\\nE K C 1 3 1 2 2 1 2 0 1 0\\nC S O 1 3 1 1 2 1 2 0 0 0\\nD K C 2 3 1 2 2 2 2 2 0 0\\nC S O 1 2 1 2 2 1 2 0 0 0\\nC R O 1 2 1 2 2 1 1 0 0 0\\nB X O 1 3 1 1 2 1 1 0 0 0\\nH R X 1 3 1 1 2 1 2 0 0 0\\nE A I 1 3 1 1 2 1 2 0 0 0\\nB X O 1 2 1 1 2 1 1 0 0 0\\nH S X 2 3 1 2 2 1 2 0 0 0\\nE A I 2 2 3 2 2 1 2 0 0 0\\nE K I 1 2 1 2 2 1 2 1 0 0\\nH S X 1 3 1 1 2 1 2 0 0 0\\nD K C 2 3 3 2 2 2 2 0 2 0\\nC S I 1 2 1 2 2 1 1 0 0 0\\nB X O 1 3 1 1 2 1 1 0 0 0\\nE A I 1 3 1 2 2 1 2 0 0 0\\nB X O 1 3 1 1 2 1 1 0 0 0\\nH K X 1 2 1 2 2 1 2 0 0 0\\nF K I 1 3 3 2 2 2 2 0 0 0\\nE A I 2 2 3 2 2 1 2 0 1 0\\nH H X 1 3 1 1 2 1 2 0 0 0\\nD K C 2 2 1 2 2 2 2 1 0 0\\nC A O 1 3 1 2 2 1 2 0 0 0\\nE K I 1 3 1 1 2 1 2 0 0 0\\nH S X 1 2 1 2 2 1 2 0 0 0\\nF S O 1 2 1 2 2 1 2 0 0 0\\nE A I 2 2 1 2 2 1 2 2 0 0\\nH S X 1 2 1 1 2 1 2 0 0 0\\nD K C 2 2 3 2 2 2 2 1 2 0\\nH S X 1 1 1 2 2 1 2 0 0 0\\nE S I 1 3 1 1 2 1 2 0 0 0\\nH S X 1 2 1 2 2 1 2 0 0 0\\nF S O 1 2 1 2 2 1 2 0 0 0\\nE S O 2 2 3 2 2 1 2 0 1 0\\nH S X 1 2 1 1 2 1 2 0 0 0\\nD K C 2 2 1 2 2 2 2 1 1 0\\nH S X 1 2 1 2 2 1 2 0 0 0\\nC S O 1 2 1 2 2 1 2 0 0 0\\nB X O 1 3 1 1 2 1 1 0 0 0\\nB X O 1 3 1 1 2 1 1 0 0 0\\nH S X 1 3 1 1 1 1 2 0 0 0\\nH S X 1 2 1 2 2 1 2 0 0 0\\nE A O 2 3 1 2 2 1 2 0 0 0\\nH S X 1 3 1 1 2 1 2 0 0 0\\nD K C 2 2 3 2 2 2 2 1 0 1\\nH S X 1 3 1 2 2 1 2 0 0 0\\nC A O 1 2 1 2 2 1 2 0 0 0\\nD A O 1 3 1 1 2 1 2 0 0 0\\nD S O 1 3 1 1 2 1 2 0 0 0\\nC S O 1 1 3 2 2 1 2 0 0 0\\nH S X 1 2 1 1 2 1 2 0 0 0\\nD K C 2 3 3 2 2 2 2 0 0 0\\nC R O 1 2 1 2 2 1 2 0 0 0\\nD R O 1 3 1 1 2 1 2 0 0 0\\nE A O 1 3 1 1 2 1 2 0 0 0\\nC R O 1 3 1 1 2 1 1 0 0 0\\nE K C 1 3 1 1 2 2 2 0 2 0\\n'"
      ]
     },
     "execution_count": 7,
     "metadata": {},
     "output_type": "execute_result"
    }
   ],
   "source": [
    "data1 \n",
    "# Al hacer el print vemos cómo despues del texto que queremos quitar (lo que hay entre asteriscos) empiezan los datos que queremos"
   ]
  },
  {
   "cell_type": "code",
   "execution_count": 8,
   "metadata": {},
   "outputs": [],
   "source": [
    "# Mediante expresiones regulares vamos a quitar el texto que no queremos\n",
    "import re\n",
    "\n",
    "# Esta línea significa que vamos a quitar todo lo que esté antes de \"DATA1;\" y todo lo que este después de \"DATA1;\" y antes de un salto de línea, \n",
    "# y lo vamos a sustituir por \"\" en data1 (y lo mismo para data2)\n",
    "data1 = re.sub(r'.*DATA1;.*\\n', '', data1) \n",
    "data2 = re.sub(r'.*DATA2;.*\\n', '', data2) "
   ]
  },
  {
   "cell_type": "code",
   "execution_count": 9,
   "metadata": {},
   "outputs": [
    {
     "data": {
      "text/plain": [
       "'C S O 1 2 1 1 2 1 2 0 0 0\\nD S O 1 3 1 1 2 1 2 0 0 0\\nC S O 1 3 1 1 2 1 1 0 0 0\\nD S O 1 3 1 1 2 1 2 0 0 0\\nD A O 1 3 1 1 2 1 2 0 0 0\\nD A O 1 2 1 1 2 1 2 0 0 0\\nD A O 1 2 1 1 2 1 1 0 0 0\\nD A O 1 2 1 1 2 1 2 0 0 0\\nD K O 1 3 1 1 2 1 2 0 0 0\\nC R O 1 3 1 1 2 1 1 0 0 0\\nB X O 1 3 1 1 2 1 1 0 0 0\\nD S O 1 2 1 1 2 1 1 0 0 0\\nC H I 1 3 1 1 2 1 2 0 0 0\\nD R O 1 3 1 1 2 1 1 0 0 0\\nB X O 1 2 1 1 2 1 1 0 0 0\\nB X O 1 3 1 1 2 1 1 0 0 0\\nD K I 1 3 1 1 2 1 2 0 0 0\\nD S O 1 2 1 1 2 1 2 0 0 0\\nD R O 1 2 1 1 2 1 1 0 0 0\\nC A I 1 2 1 1 2 1 2 0 0 0\\nC S O 1 2 1 1 2 1 1 0 0 0\\nB X O 1 3 1 1 2 1 1 0 0 0\\nF K I 1 3 1 2 2 1 2 0 0 0\\nB X O 1 2 1 1 2 1 1 0 0 0\\nH R X 1 2 1 1 1 1 2 0 0 0\\nB X I 1 3 1 1 2 1 1 0 0 0\\nC R I 1 3 1 1 2 1 2 0 0 0\\nB X O 1 3 1 1 2 1 1 0 0 0\\nB X O 1 3 1 1 2 1 2 0 0 0\\nD A I 1 3 1 2 2 1 2 0 0 0\\nD A O 1 3 1 1 2 1 2 1 0 1\\nB X O 1 3 1 1 2 1 1 0 0 0\\nD A I 1 3 1 1 2 1 2 0 0 0\\nB X O 1 3 1 1 2 1 2 0 0 0\\nD R O 1 3 1 1 2 1 2 0 0 0\\nD A O 1 2 1 1 2 1 1 0 0 0\\nC A I 1 3 1 1 2 1 1 0 0 0\\nD A I 1 2 1 2 2 1 1 1 0 0\\nD A I 2 2 3 1 2 1 2 0 0 0\\nD A I 1 2 1 2 2 1 2 0 0 0\\nB X O 1 3 1 1 2 1 1 0 0 0\\nD R O 1 1 1 1 2 1 1 0 0 0\\nD A I 1 2 1 1 2 1 1 0 0 0\\nD S O 1 1 1 1 2 1 1 0 0 0\\nD S I 1 3 1 1 2 1 1 0 0 0\\nD A I 1 3 1 2 2 1 2 2 1 0\\nD A I 2 3 1 2 2 1 1 0 0 0\\nD A I 1 2 1 2 2 1 1 0 0 0\\nB X O 1 2 1 1 2 1 1 0 0 0\\nD S O 1 3 1 2 2 1 2 0 0 0\\nD S O 1 3 1 1 2 1 1 0 0 0\\nB X O 1 3 1 1 2 1 1 0 0 0\\nD A O 1 3 1 2 2 1 2 0 0 0\\nD K C 2 3 1 2 2 1 2 1 1 0\\nD A I 1 3 1 2 2 1 2 0 0 0\\nB X O 1 3 1 1 2 1 1 0 0 0\\nD A O 1 3 1 2 2 1 2 0 0 0\\nD S I 1 3 1 1 2 1 1 0 0 0\\nD K C 1 2 1 1 2 1 2 0 0 0\\nD A I 1 2 1 1 2 1 2 0 0 0\\nB X O 1 3 1 1 2 1 1 0 0 0\\nD S O 1 2 1 2 2 1 2 0 0 0\\nD K C 2 3 3 2 2 1 2 1 2 1\\nE K I 2 3 1 2 2 1 2 0 0 0\\nD S I 1 3 1 2 2 1 2 1 0 0\\nC S O 1 2 1 2 2 1 2 0 0 0\\nD S I 1 3 1 2 2 1 2 0 0 0\\nH H X 1 2 1 2 2 1 1 1 0 0\\nD S I 1 3 1 2 2 1 2 0 0 0\\nB X O 1 3 1 1 2 1 1 0 0 0\\nB X O 1 3 1 1 2 1 1 0 0 0\\nC R O 1 3 1 1 2 1 1 0 0 0\\nH S X 1 2 1 1 1 1 2 0 0 0\\nD A O 1 2 1 2 2 1 2 0 0 0\\nD K C 2 2 3 2 2 1 2 0 0 0\\nD K I 1 3 1 2 2 1 2 0 2 1\\nD S I 1 2 1 2 2 1 1 0 1 0\\nC A O 1 2 1 2 2 1 2 0 0 0\\nD S O 1 1 1 2 2 1 2 0 0 0\\nH S X 1 3 1 2 2 1 2 0 0 0\\nD K I 1 3 1 2 2 1 2 0 0 0\\nH R X 1 2 1 1 2 1 2 0 0 0\\nB X O 1 2 1 1 2 1 1 0 0 0\\nH S X 1 3 1 1 1 1 2 0 0 0\\nC S O 1 1 1 2 2 1 2 0 0 0\\nD K C 2 2 3 2 2 1 2 0 0 0\\nD A I 1 2 1 2 2 1 2 0 0 0\\nC S O 2 2 1 2 2 1 1 0 0 0\\nC S O 1 2 1 2 2 1 2 0 0 0\\nC S O 1 2 1 2 2 1 2 0 0 0\\nC S O 2 3 1 2 2 1 2 0 0 0\\nD K I 1 3 1 2 2 1 2 0 1 0\\nH R X 1 2 1 1 2 1 2 0 0 0\\nH S X 1 3 1 1 1 1 2 0 0 0\\nC S O 1 2 1 1 2 1 2 1 0 0\\nC K O 1 2 3 2 2 1 2 0 0 0\\nC S O 1 1 3 2 2 1 2 0 0 0\\nC S O 1 1 1 2 2 1 2 0 0 0\\nC K I 1 3 1 2 2 1 2 0 0 0\\nE A C 1 3 1 2 2 1 2 0 0 0\\nH R X 1 2 1 1 2 1 2 0 0 0\\nH S X 1 2 1 1 1 1 2 0 0 0\\nH R X 1 2 1 1 2 1 2 0 0 0\\nH S X 2 2 1 1 2 1 2 0 0 0\\nB X O 1 3 1 1 2 1 2 0 0 0\\nC S I 1 2 1 2 2 1 2 0 0 0\\nH S X 1 1 1 2 2 1 2 0 0 1\\nD K C 1 3 3 2 2 1 2 0 1 0\\nD A I 2 2 3 2 2 1 2 0 0 0\\nH S X 1 2 1 1 2 1 2 0 0 0\\nB X O 1 2 1 1 2 1 1 0 0 0\\nC S I 2 3 3 1 2 1 1 0 1 0\\nC S O 1 1 1 1 2 1 2 0 1 0\\nH K X 2 2 3 2 2 1 2 0 0 0\\nD K I 1 3 1 2 2 1 2 0 0 0\\nH A X 1 3 1 1 2 1 2 0 0 0\\nC R O 1 1 1 1 2 1 2 0 0 0\\nC R O 1 3 1 1 2 1 2 0 0 0\\nB X O 1 3 1 1 2 1 1 0 0 0\\nB X O 1 3 1 1 2 1 1 1 0 0\\nH K X 1 3 1 2 2 1 2 0 0 0\\nC K I 1 3 1 2 2 1 2 0 0 0\\nH S X 1 2 1 1 2 1 2 0 0 0\\nB X O 1 3 1 1 2 1 1 0 0 0\\nC R I 2 3 3 1 2 1 2 0 0 0\\nH R X 1 2 3 1 2 1 2 0 0 0\\nB X O 1 3 1 1 2 1 1 0 0 0\\nD R O 1 3 1 1 2 1 2 0 0 0\\nH K X 1 2 1 2 2 1 2 0 0 0\\nD K I 1 2 1 2 2 1 2 0 0 0\\nH H X 1 3 1 1 2 1 2 0 0 0\\nB X I 1 3 1 1 2 1 1 0 0 0\\nB X O 1 3 1 1 2 1 1 0 0 0\\nB X I 1 3 1 1 2 1 1 0 0 0\\nD R O 2 2 1 1 2 1 2 1 0 0\\nH A X 1 3 1 2 2 1 2 0 0 0\\nC K O 1 2 1 2 2 1 2 0 0 0\\nH S X 1 2 1 1 2 1 2 0 0 0\\nB X O 1 2 1 1 2 1 1 0 0 0\\nB X O 1 2 1 1 2 1 1 1 0 0\\nC R O 1 3 1 1 2 1 1 0 0 0\\nB X I 1 3 1 1 2 1 1 0 0 0\\nC A O 1 3 1 2 2 1 2 0 0 0\\nC K I 1 2 1 2 2 1 2 0 0 0\\nH S X 1 2 1 1 2 1 2 0 0 0\\nD S I 1 3 1 1 2 1 1 0 0 0\\nB X O 1 2 1 1 2 1 1 0 0 0\\nB X O 2 2 1 1 2 1 1 0 0 0\\nH S X 1 2 1 1 1 1 2 0 0 0\\nH A X 1 3 1 1 2 1 2 0 0 0\\nC K I 1 3 1 2 2 1 2 2 4 0\\nB X O 1 3 1 1 2 1 2 0 0 0\\nH S X 1 3 1 1 1 1 2 0 0 0\\nC S O 1 3 1 1 2 1 2 0 1 0\\nC A I 1 3 1 1 2 1 2 0 0 0\\nH S X 1 3 1 1 1 1 2 0 0 0\\nD S O 1 3 1 1 2 1 2 1 0 0\\nC S O 1 2 3 2 2 1 2 0 0 0\\nB X O 1 2 1 1 2 1 1 0 0 0\\nH S X 1 2 1 1 1 1 2 0 0 0\\nC S O 1 3 1 1 2 1 2 0 0 0\\nC S O 1 3 1 1 2 1 2 0 0 0\\nH A X 1 3 1 1 1 1 2 2 0 0\\nB X O 2 1 1 1 2 1 1 1 0 0\\nH R X 1 2 1 1 1 1 2 0 0 0\\nC S O 2 2 1 2 2 1 2 0 1 0\\nH S X 1 3 1 1 1 1 2 0 0 0\\nH S X 2 2 3 1 2 1 2 0 0 0\\nC S O 1 2 1 1 2 1 2 0 0 0\\nC A I 1 3 1 1 2 1 2 0 0 0\\nE S I 1 3 1 1 2 1 2 0 2 0\\nB X O 1 2 1 1 2 1 1 0 0 0\\nD S O 1 2 1 1 2 1 2 1 0 0\\nC S O 1 1 1 2 2 1 2 0 0 0\\nC S O 1 2 1 1 2 1 2 0 0 0\\nH S X 1 1 1 1 2 1 2 0 0 0\\nC S O 1 2 1 1 2 1 2 0 0 0\\nC S I 2 2 1 1 2 1 2 0 0 0\\nD S O 1 2 1 2 2 1 2 2 4 0\\nD S O 1 3 1 1 2 1 2 1 0 0\\nB X O 1 3 1 1 2 1 2 0 0 0\\nC A O 1 3 1 1 2 1 2 0 0 0\\nC S O 1 3 1 1 2 1 2 0 0 0\\nC R I 1 3 1 1 2 1 2 0 0 0\\nB X O 1 2 3 2 2 1 2 0 0 0\\nB X I 2 3 1 1 2 1 2 1 0 0\\nD H O 1 2 1 1 2 1 2 0 0 0\\nH S X 1 1 1 1 2 1 2 0 0 0\\nH R X 1 2 1 1 2 1 2 0 0 0\\nH A X 1 2 1 1 2 1 2 0 0 0\\nC R I 1 2 1 1 2 1 2 0 0 0\\nC R O 2 1 1 1 2 1 2 0 0 0\\nD K O 1 3 1 1 2 1 2 1 0 0\\nD R O 1 2 1 1 2 1 2 0 0 0\\nH S X 1 2 1 1 2 1 2 0 0 0\\nB X O 1 2 1 1 2 1 1 0 0 0\\nB X I 1 3 1 1 2 1 2 0 0 0\\nB X O 1 3 1 1 2 1 1 0 0 0\\nC S O 1 3 1 1 2 1 2 1 1 0\\nD A I 1 3 1 1 2 1 2 0 0 0\\nB X O 1 3 1 1 2 1 2 0 1 0\\nB X O 1 2 1 1 2 1 2 0 0 0\\nB X I 1 3 1 1 2 1 1 0 0 0\\nB X I 1 3 1 1 2 1 1 0 0 0\\nD A I 1 3 1 1 2 1 2 0 0 0\\nC H I 2 3 1 1 2 1 2 0 0 0\\nD K O 1 3 1 2 2 1 2 2 0 0\\nB X O 1 3 1 1 2 1 2 1 0 0\\nC K I 1 3 1 1 2 1 1 0 0 0\\nC A O 1 2 1 1 2 1 2 0 0 0\\nD A I 1 2 1 1 2 1 2 0 0 0\\nB X O 1 3 1 1 2 1 2 0 0 0\\nB X I 1 3 1 1 2 1 2 0 0 0\\nB X O 1 3 1 1 2 1 2 1 1 0\\nB X I 1 2 1 2 2 1 2 0 0 0\\nB X I 1 3 1 1 2 1 1 0 0 0\\nC A I 1 3 1 2 2 1 2 0 0 0\\nC H I 2 2 3 1 2 1 2 1 1 0\\nF K I 1 2 1 2 2 1 2 1 1 0\\nC R O 1 2 3 1 2 1 2 0 0 0\\nE A O 1 2 1 1 2 1 2 0 0 0\\nC S O 1 1 1 1 2 1 2 0 0 0\\nD A I 1 3 1 2 2 1 2 0 0 0\\nB X O 2 3 1 1 2 1 2 0 1 0\\nC R O 1 3 1 1 2 1 2 0 0 0\\nD S I 1 2 1 2 2 1 2 0 0 0\\nH A X 1 3 1 1 1 1 2 0 0 0\\nB X O 1 2 1 1 2 1 1 0 0 0\\nC A O 1 3 1 2 2 1 2 0 0 0\\nD H I 1 3 1 1 2 1 2 0 0 0\\nF A I 2 3 1 2 2 1 2 0 0 0\\nE K O 1 3 1 1 2 1 2 1 0 0\\nH S X 1 3 1 1 2 1 2 0 0 0\\nD K C 1 3 1 2 2 1 2 0 0 0\\nB X O 1 3 1 1 2 1 1 0 0 0\\nB X O 2 2 3 1 2 1 1 0 0 0\\nD A I 1 3 1 1 2 1 2 0 0 0\\nC A I 1 3 1 2 2 1 2 0 0 0\\nH R X 1 2 1 1 1 1 2 0 0 0\\nC R O 1 1 1 2 2 1 1 0 0 0\\nD H I 2 3 3 2 2 1 2 0 0 0\\nE K I 2 2 3 2 2 1 2 0 1 0\\nE K I 1 3 1 1 2 1 2 0 0 0\\nC S O 1 2 1 1 2 1 2 0 0 0\\nD K C 1 3 1 2 2 1 2 1 0 0\\nB X O 1 3 1 1 2 1 1 0 0 0\\nB X O 2 2 3 1 2 1 1 0 0 0\\nD S O 1 3 1 2 2 1 2 0 0 0\\nH R X 1 3 1 1 2 1 2 0 0 0\\nH A X 1 3 1 2 2 1 2 0 0 0\\nH R X 1 2 1 1 1 1 2 0 0 0\\nH S X 1 3 1 1 2 1 2 0 0 0\\nC R I 1 3 1 1 2 1 2 0 0 0\\nC H I 1 2 1 2 2 1 2 1 0 0\\nF A I 1 3 1 2 2 1 2 0 1 0\\nE K I 2 3 1 2 2 1 2 0 0 0\\nH S X 1 2 1 1 2 1 2 0 0 0\\nD K C 1 3 1 2 2 1 2 0 1 1\\nD S I 1 3 1 2 2 1 2 0 0 0\\nH A X 1 3 1 2 2 1 2 0 1 1\\nH R X 1 2 1 1 1 1 1 0 0 0\\nH S X 1 2 1 1 2 1 2 0 0 0\\nB X O 1 3 1 1 2 1 2 0 0 0\\nC H O 1 2 1 2 2 1 2 0 0 0\\nF A I 2 3 3 2 2 1 2 0 1 0\\nE K C 1 3 1 2 2 1 2 0 1 0\\nC S O 1 3 1 1 2 1 2 0 0 0\\nD K C 2 3 1 2 2 2 2 2 0 0\\nC S O 1 2 1 2 2 1 2 0 0 0\\nC R O 1 2 1 2 2 1 1 0 0 0\\nB X O 1 3 1 1 2 1 1 0 0 0\\nH R X 1 3 1 1 2 1 2 0 0 0\\nE A I 1 3 1 1 2 1 2 0 0 0\\nB X O 1 2 1 1 2 1 1 0 0 0\\nH S X 2 3 1 2 2 1 2 0 0 0\\nE A I 2 2 3 2 2 1 2 0 0 0\\nE K I 1 2 1 2 2 1 2 1 0 0\\nH S X 1 3 1 1 2 1 2 0 0 0\\nD K C 2 3 3 2 2 2 2 0 2 0\\nC S I 1 2 1 2 2 1 1 0 0 0\\nB X O 1 3 1 1 2 1 1 0 0 0\\nE A I 1 3 1 2 2 1 2 0 0 0\\nB X O 1 3 1 1 2 1 1 0 0 0\\nH K X 1 2 1 2 2 1 2 0 0 0\\nF K I 1 3 3 2 2 2 2 0 0 0\\nE A I 2 2 3 2 2 1 2 0 1 0\\nH H X 1 3 1 1 2 1 2 0 0 0\\nD K C 2 2 1 2 2 2 2 1 0 0\\nC A O 1 3 1 2 2 1 2 0 0 0\\nE K I 1 3 1 1 2 1 2 0 0 0\\nH S X 1 2 1 2 2 1 2 0 0 0\\nF S O 1 2 1 2 2 1 2 0 0 0\\nE A I 2 2 1 2 2 1 2 2 0 0\\nH S X 1 2 1 1 2 1 2 0 0 0\\nD K C 2 2 3 2 2 2 2 1 2 0\\nH S X 1 1 1 2 2 1 2 0 0 0\\nE S I 1 3 1 1 2 1 2 0 0 0\\nH S X 1 2 1 2 2 1 2 0 0 0\\nF S O 1 2 1 2 2 1 2 0 0 0\\nE S O 2 2 3 2 2 1 2 0 1 0\\nH S X 1 2 1 1 2 1 2 0 0 0\\nD K C 2 2 1 2 2 2 2 1 1 0\\nH S X 1 2 1 2 2 1 2 0 0 0\\nC S O 1 2 1 2 2 1 2 0 0 0\\nB X O 1 3 1 1 2 1 1 0 0 0\\nB X O 1 3 1 1 2 1 1 0 0 0\\nH S X 1 3 1 1 1 1 2 0 0 0\\nH S X 1 2 1 2 2 1 2 0 0 0\\nE A O 2 3 1 2 2 1 2 0 0 0\\nH S X 1 3 1 1 2 1 2 0 0 0\\nD K C 2 2 3 2 2 2 2 1 0 1\\nH S X 1 3 1 2 2 1 2 0 0 0\\nC A O 1 2 1 2 2 1 2 0 0 0\\nD A O 1 3 1 1 2 1 2 0 0 0\\nD S O 1 3 1 1 2 1 2 0 0 0\\nC S O 1 1 3 2 2 1 2 0 0 0\\nH S X 1 2 1 1 2 1 2 0 0 0\\nD K C 2 3 3 2 2 2 2 0 0 0\\nC R O 1 2 1 2 2 1 2 0 0 0\\nD R O 1 3 1 1 2 1 2 0 0 0\\nE A O 1 3 1 1 2 1 2 0 0 0\\nC R O 1 3 1 1 2 1 1 0 0 0\\nE K C 1 3 1 1 2 2 2 0 2 0\\n'"
      ]
     },
     "execution_count": 9,
     "metadata": {},
     "output_type": "execute_result"
    }
   ],
   "source": [
    "data1"
   ]
  },
  {
   "cell_type": "code",
   "execution_count": 10,
   "metadata": {},
   "outputs": [
    {
     "data": {
      "text/plain": [
       "'H A X 1 3 1 1 1 1 1 0 0 0\\nD R O 1 3 1 1 2 1 1 0 0 0\\nC S O 1 3 1 1 2 1 1 0 0 0\\nH R X 1 2 1 1 1 1 1 0 0 0\\nH S X 1 1 1 1 2 1 1 0 0 0\\nC A O 1 2 1 1 2 1 1 0 0 0\\nB X O 1 3 1 1 2 1 1 0 0 0\\nC A O 1 3 1 1 2 1 1 0 0 0\\nC A O 1 2 1 1 2 1 1 1 0 0\\nB X O 1 3 1 1 2 1 1 0 0 0\\nC A O 1 2 1 1 2 1 1 0 0 0\\nB X O 1 3 1 1 2 1 1 0 0 0\\nB X I 1 2 1 1 2 1 1 0 0 0\\nC S O 2 2 1 1 2 1 1 0 0 0\\nB X O 1 3 1 1 2 1 1 0 0 0\\nB X O 1 2 1 1 2 1 1 0 0 0\\nD R I 1 3 1 1 2 1 1 1 0 0\\nH S X 1 3 1 1 2 1 1 0 0 0\\nB X O 1 2 1 1 2 1 1 0 0 0\\nB X O 1 2 1 2 2 1 1 0 0 0\\nH S X 1 2 1 1 2 1 1 0 0 0\\nB X O 1 3 1 1 2 1 1 0 0 0\\nB X O 2 2 1 2 2 1 1 0 0 0\\nC R O 1 3 1 1 2 1 1 5 0 0\\nB X O 1 2 1 2 2 1 1 0 0 0\\nB X O 1 3 1 1 2 1 1 0 0 0\\nD A I 2 3 1 1 2 1 1 2 0 0\\nB X O 1 3 1 1 2 1 1 0 0 0\\nD R O 1 3 1 1 2 1 1 0 0 0\\nB X O 1 3 1 1 2 1 1 0 0 0\\nB X O 1 1 1 2 2 1 1 0 0 0\\nB X O 1 1 1 1 2 1 1 0 0 0\\nC R I 2 1 1 2 2 1 1 0 0 0\\nB X O 1 3 1 1 2 1 1 0 0 0\\nD R I 1 3 1 2 2 1 1 0 0 0\\nB X O 1 2 1 1 2 1 1 0 0 0\\nC R O 1 3 1 1 2 1 1 0 0 0\\nE A C 1 3 1 1 2 1 1 3 1 0\\nH A X 1 2 1 1 1 1 1 1 0 0\\nB X O 1 2 1 2 2 1 1 1 0 0\\nB X O 1 3 1 1 2 1 1 0 0 0\\nB X O 1 2 1 1 2 1 1 0 0 0\\nD K I 2 3 1 2 2 1 1 2 0 0\\nE A I 2 2 1 1 2 1 1 8 0 0\\nD A I 1 3 1 2 2 1 1 0 0 0\\nB X O 1 3 1 1 2 1 1 0 0 0\\nH R X 1 2 1 1 2 1 1 0 0 0\\nC R O 1 2 1 1 2 1 1 0 0 0\\nD A O 2 3 3 2 2 1 1 2 0 0\\nE S O 2 3 1 2 2 1 1 5 0 0\\nC R O 1 3 1 1 2 1 1 0 0 0\\nE S I 2 3 1 2 2 1 1 0 0 0\\nC R O 1 3 1 1 2 1 1 0 0 0\\nD A I 2 3 1 2 2 1 1 0 0 0\\nE A I 2 3 1 2 2 1 1 4 4 0\\nH S X 1 3 1 1 1 1 1 0 0 0\\nD A O 1 3 1 1 2 1 1 1 0 0\\nD R O 1 3 1 1 2 1 1 1 1 0\\nD S O 1 3 1 2 2 1 1 0 0 0\\nB X O 1 2 1 1 2 1 1 0 0 0\\nD A I 2 2 1 2 2 1 1 0 0 0\\nE A I 2 3 3 2 2 1 1 6 0 0\\nH S X 1 1 1 1 1 1 1 0 0 0\\nD S I 2 3 1 1 2 1 1 0 0 0\\nD S O 2 3 2 1 2 1 1 1 0 0\\nD R O 1 3 1 1 2 1 1 0 0 0\\nD S O 1 3 1 2 2 1 1 0 0 0\\nD S O 1 3 1 1 2 1 1 0 0 0\\nD S O 1 2 1 2 2 1 1 0 0 0\\nE K C 2 3 3 2 2 2 1 6 0 0\\nH R X 1 3 1 1 1 1 1 0 0 0\\nD A O 1 2 1 2 2 1 1 2 0 0\\nC S I 1 3 1 1 2 1 1 1 0 0\\nC S O 1 2 1 1 2 1 1 0 0 0\\nB X O 1 3 1 1 2 1 1 1 0 0\\nB X O 1 3 1 1 2 1 1 0 0 0\\nD S O 1 2 1 2 2 1 1 1 0 0\\nD A I 1 3 1 1 2 1 1 0 0 0\\nD S O 1 2 1 2 2 1 1 0 0 0\\nF K C 2 3 1 2 2 2 1 0 0 0\\nD A I 1 3 1 2 2 1 1 0 0 0\\nC R O 1 2 1 1 2 1 1 0 0 0\\nC R O 1 3 1 1 2 1 1 0 0 0\\nB X O 1 3 1 1 2 1 1 1 0 0\\nD S O 1 2 1 2 2 1 1 0 0 0\\nH A X 1 2 1 2 2 1 1 0 0 0\\nD A O 1 3 1 2 2 1 1 0 0 0\\nF K C 2 2 1 2 2 1 1 4 0 0\\nD S I 2 2 1 2 2 1 1 0 0 0\\nB X O 1 2 1 1 2 1 1 0 0 0\\nC R O 1 3 1 1 2 1 1 0 0 0\\nB X O 1 3 1 1 2 1 1 1 0 0\\nB X O 1 3 1 1 2 1 1 0 0 0\\nD S O 1 2 1 1 2 1 1 3 0 0\\nH R X 1 2 1 2 2 1 1 0 0 0\\nH A X 1 2 1 2 2 1 1 0 0 0\\nC S O 1 2 1 2 2 1 1 0 0 0\\nF A I 1 2 1 2 2 2 1 1 0 0\\nD S O 1 2 1 2 2 1 1 1 0 0\\nC R O 1 2 1 1 2 1 1 0 0 0\\nD A C 2 3 1 1 2 1 1 2 0 0\\nB X O 1 1 1 1 2 1 1 0 0 0\\nE A I 2 3 1 1 2 1 1 2 0 0\\nH A X 1 2 1 2 2 1 1 0 0 0\\nC S O 1 3 1 2 2 1 1 1 0 0\\nF A C 2 3 1 2 2 2 1 2 0 0\\nD S O 1 2 1 2 2 1 1 0 0 0\\nD A I 2 3 1 2 2 1 1 3 0 0\\nB X O 1 3 1 1 2 1 1 0 0 0\\nE A I 2 3 1 2 2 1 1 0 0 0\\nD S O 2 3 1 2 2 1 1 0 0 0\\nF A I 2 2 1 2 2 1 1 2 0 0\\nH S X 1 1 1 2 2 1 1 1 0 0\\nD A I 2 2 1 2 2 1 1 0 0 0\\nB X O 1 2 1 1 2 1 1 0 0 0\\nE S I 2 2 1 2 2 1 1 0 0 0\\nH S X 1 2 1 1 1 1 1 0 0 0\\nF A C 2 2 1 2 2 1 1 1 0 0\\nH S X 1 2 1 2 2 1 1 0 0 0\\nE A O 1 2 1 2 2 1 1 1 0 0\\nE A I 1 2 1 2 2 1 1 1 0 0\\nB X O 1 3 1 1 2 1 1 0 0 0\\nC S O 1 3 1 1 2 1 1 1 0 0\\nH S X 1 2 1 2 2 1 1 0 0 0\\nF A I 2 2 1 2 2 1 1 0 0 0\\nE A O 1 2 1 2 2 1 1 0 0 0\\nE S I 1 2 1 2 2 1 1 0 0 0\\nE A O 1 3 1 1 2 1 1 2 0 0\\nH S X 1 2 1 1 1 1 1 0 0 0\\nE S O 1 1 1 2 2 1 1 0 0 0\\nE S I 2 3 1 2 2 1 1 0 0 0\\nC S O 2 2 1 1 2 1 1 1 0 0\\nE S O 1 2 1 1 2 1 1 0 0 0\\nE A I 1 2 1 2 2 1 1 0 0 0\\nH S X 1 2 1 1 2 1 1 2 0 0\\nE A O 1 3 1 1 2 1 1 0 0 0\\nH H X 1 2 1 1 1 1 1 0 0 0\\nB X O 1 3 1 1 2 1 1 0 0 0\\nC R O 1 3 1 1 2 1 1 0 0 0\\nE S I 1 2 1 2 2 1 1 0 0 0\\nC S O 2 3 1 1 2 1 1 0 0 0\\nE S O 1 3 1 1 2 1 1 0 0 0\\nH H X 1 3 1 1 1 1 1 0 0 0\\nB X O 1 3 1 1 2 1 1 0 0 0\\nH S X 1 2 1 1 1 1 1 1 0 0\\nB X O 1 3 1 1 2 1 1 0 0 0\\nC R O 1 2 1 1 2 1 1 3 0 0\\nD R O 1 2 1 1 2 1 1 0 0 0\\nE S O 1 2 1 2 2 1 1 0 0 0\\nC S O 2 2 1 1 2 1 1 0 0 0\\nE S O 1 3 1 1 2 1 1 0 0 0\\nC H O 1 3 1 1 2 1 1 0 0 0\\nB X O 1 1 1 1 2 1 1 0 0 0\\nH S X 1 2 1 1 1 1 1 0 0 0\\nB X O 1 3 1 1 2 1 1 0 0 0\\nE R C 2 3 1 1 2 1 1 0 0 0\\nD R I 1 3 1 1 2 1 1 0 0 0\\nH S X 1 1 1 2 2 1 1 0 0 0\\nC S O 1 2 1 1 2 1 1 0 0 0\\nE S O 1 2 1 1 2 1 1 2 0 0\\nC K O 1 2 1 1 2 1 1 2 0 0\\nH S X 2 2 1 1 1 1 1 0 0 0\\nB X O 1 2 1 1 2 1 1 0 0 0\\nE K C 1 3 1 2 2 1 1 0 1 0\\nE A I 1 3 1 2 2 1 1 0 0 0\\nC R O 1 3 1 1 2 1 1 0 0 0\\nH R X 1 1 1 2 2 1 1 0 0 0\\nH S X 1 2 1 1 2 1 1 0 0 0\\nE S O 1 2 1 1 2 1 1 0 0 0\\nC S O 1 3 1 1 2 1 1 0 0 0\\nH S X 1 2 1 1 1 1 1 0 0 0\\nE K C 1 3 1 2 2 2 1 2 1 0\\nE R O 1 3 1 2 2 2 1 0 0 0\\nH S X 1 3 1 1 1 1 1 0 0 0\\nH S X 1 1 1 1 2 1 1 0 0 0\\nD S O 2 2 1 1 2 1 1 0 0 0\\nC S O 2 1 1 1 2 1 1 0 0 0\\nH S X 1 1 1 1 1 1 1 0 0 0\\nB X O 1 3 1 1 2 1 1 0 0 0\\nE A C 2 1 3 2 2 1 1 5 0 0\\nE A O 1 1 1 2 2 1 1 3 0 0\\nH R X 1 3 1 1 2 1 1 0 0 0\\nH S X 1 2 1 1 1 1 1 0 0 0\\nH S X 1 2 1 1 1 1 1 0 0 0\\nH S X 1 3 1 1 2 1 1 0 0 0\\nH S X 1 3 1 1 2 1 1 1 0 0\\nH H X 1 3 1 1 2 1 1 0 0 0\\nH S X 1 3 1 1 1 1 1 0 0 0\\nF K C 2 3 3 2 2 2 1 1 0 0\\nE A O 2 2 1 2 2 1 1 1 0 0\\nD S O 1 3 1 1 2 1 1 1 0 0\\nH S X 1 3 1 1 1 1 1 0 0 0\\nC S O 1 3 1 1 2 1 1 0 0 0\\nH S X 1 2 1 1 2 1 1 0 0 0\\nH S X 1 2 1 1 2 1 1 0 0 0\\nC H O 1 3 1 1 2 1 1 1 0 0\\nB X O 1 1 1 1 2 1 1 0 0 0\\nF K C 2 3 1 2 2 2 1 0 0 0\\nE A O 2 2 1 2 2 1 1 0 0 0\\nD S I 1 3 1 1 2 1 1 0 0 0\\nH S X 1 3 1 1 1 1 1 0 0 0\\nC R I 1 3 1 1 2 1 1 0 0 0\\nD A O 1 3 1 1 2 1 1 1 0 0\\nH S X 1 2 1 1 2 1 1 0 0 0\\nC S O 2 3 1 1 2 1 1 1 0 0\\nC S O 1 2 1 1 2 1 1 0 0 0\\nF K I 2 2 1 2 2 2 1 1 0 0\\nE R O 2 2 1 2 2 1 1 0 0 0\\nC R I 1 3 1 1 2 1 1 0 0 0\\nD R O 1 3 1 1 2 1 1 0 0 0\\nD A I 1 3 1 1 2 1 1 0 1 0\\nD S O 1 3 1 1 2 1 1 1 0 0\\nC S O 1 3 1 1 2 1 1 0 0 0\\nH S X 1 1 1 1 2 1 1 0 0 0\\nH S X 2 2 1 1 2 1 1 0 0 0\\nF A I 1 2 1 2 2 1 1 2 0 0\\nC R I 1 3 1 1 2 1 1 1 0 0\\nD S O 1 3 1 1 2 1 1 0 0 0\\nC S I 2 2 1 2 2 1 1 0 0 0\\nD A O 2 3 1 1 2 1 1 0 0 0\\nC S O 1 2 1 1 2 1 1 3 0 0\\nH S X 1 2 1 1 2 1 1 0 0 0\\nH S X 1 3 1 1 2 1 1 0 0 0\\nF A I 2 2 1 2 2 1 1 1 0 1\\nD R I 2 2 1 1 2 1 1 0 0 0\\nD A I 1 3 1 1 2 1 1 0 0 0\\nD A O 2 2 3 2 2 1 1 0 0 0\\nD A O 1 2 1 1 2 1 1 0 0 0\\nD R O 1 3 1 1 2 1 1 1 0 0\\nH S X 1 2 1 1 2 1 1 0 0 0\\nH S X 1 2 1 1 2 1 1 0 0 0\\nF K I 2 3 1 2 2 2 1 3 0 0\\nD A I 1 2 1 2 2 1 1 0 0 0\\nD A I 1 3 1 2 2 1 1 0 0 0\\nB X I 1 2 1 2 2 1 1 0 1 0\\nD A O 1 3 1 1 2 1 1 0 0 0\\nD A O 2 3 1 1 2 1 1 0 0 0\\nC R O 1 3 1 1 2 1 1 0 0 0\\nB X O 1 3 1 1 2 1 1 1 0 0\\nB X O 1 2 1 1 2 1 1 0 0 0\\nH S X 1 3 1 1 2 1 1 0 0 0\\nH S X 1 2 1 1 2 1 1 0 0 0\\nF K I 2 2 3 2 2 1 1 0 0 0\\nD R C 1 3 1 2 2 1 1 1 0 0\\nD A I 1 2 1 2 2 1 1 0 0 0\\nH S X 1 1 1 2 2 1 1 0 0 0\\nD A O 1 2 1 1 2 1 1 0 0 0\\nD A O 2 3 1 1 2 1 1 0 0 0\\nD R O 1 2 1 1 2 1 1 0 0 0\\nB X O 1 2 1 1 2 1 1 0 0 0\\nC R O 1 2 1 1 2 1 1 0 0 0\\nB X I 1 3 1 1 2 1 1 0 0 0\\nH R X 1 2 1 1 1 1 1 0 0 0\\nH S X 1 2 1 1 1 1 1 0 0 0\\nF S O 1 1 1 2 2 1 1 0 0 0\\nD R I 2 2 1 2 2 1 1 0 0 0\\nC R O 1 2 1 2 2 1 1 1 0 0\\nH A X 2 3 2 2 2 1 1 0 0 0\\nH A X 1 2 1 1 2 1 1 0 0 0\\nD A I 1 2 1 1 2 1 1 0 0 0\\nH S X 1 1 1 1 2 1 1 0 0 0\\nD R O 1 3 1 1 2 1 1 0 0 0\\nD R O 1 3 1 1 2 1 1 0 0 0\\nC R O 1 3 1 1 2 1 1 0 0 0\\nH S X 1 2 1 2 1 1 1 0 0 0\\nC R O 1 3 1 1 2 1 1 0 0 0\\nD R O 1 3 1 1 2 1 1 0 0 0\\nC R O 1 1 1 2 2 1 1 0 0 0\\nH S X 1 2 1 2 2 1 1 0 0 0\\nH A X 1 3 1 1 2 1 1 0 0 0\\nD S I 1 2 1 2 2 1 1 0 3 0\\nB X O 1 3 1 1 2 1 1 0 0 0\\nB X I 1 3 1 1 2 1 1 0 0 0\\nD S I 1 3 1 1 2 1 1 0 0 0\\nH R X 1 3 1 1 2 1 1 0 0 0\\nH A X 1 2 1 2 1 1 1 0 0 0\\nH R X 1 2 1 1 2 1 1 0 0 0\\nB X O 1 3 1 1 2 1 1 0 0 0\\nB X O 1 3 1 1 2 1 1 0 0 0\\nB X O 1 3 1 1 2 1 1 0 0 0\\nC S O 1 2 1 2 2 1 1 0 0 0\\nB X O 2 1 1 2 2 1 1 0 0 0\\nH R X 1 2 1 2 2 1 1 0 0 0\\nD R O 1 1 1 1 2 1 1 0 0 0\\nD S O 1 2 1 2 2 1 1 0 0 0\\nB X O 1 2 1 1 2 1 1 0 0 0\\nC R O 1 1 1 1 2 1 1 0 0 0\\nC R O 1 2 1 2 2 1 1 0 0 0\\nC R O 1 3 1 1 2 1 1 0 0 0\\nC A O 1 3 1 2 2 1 1 0 0 0\\nH S X 1 3 1 1 2 1 1 0 0 0\\nC R O 1 3 1 1 2 1 1 0 0 0\\nH R X 1 1 1 1 2 1 1 0 0 0\\nC R I 1 3 1 1 2 1 1 2 0 0\\nD A O 1 3 1 2 2 1 1 0 0 0\\nB X O 1 3 1 1 2 1 1 0 0 0\\nH R X 1 3 1 1 2 1 1 0 0 0\\nC S O 2 2 3 2 2 1 1 1 0 0\\nH R X 1 3 1 1 2 1 1 0 0 0\\nC R O 1 2 1 2 2 1 1 0 0 0\\nC R O 1 2 1 1 2 1 1 0 0 0\\nH A X 1 2 1 2 2 1 1 0 0 0\\nC R O 1 3 1 1 2 1 1 0 0 0\\nB X O 1 3 1 1 2 1 1 0 0 0\\nD R I 1 3 1 1 2 1 1 2 0 0\\nH A X 1 2 1 2 2 1 1 0 1 0\\nC R O 1 3 1 1 2 1 1 0 0 0\\nH S X 1 3 1 2 2 1 1 0 0 0\\nB X O 1 2 1 1 2 1 1 0 0 0\\nH S X 1 2 1 1 2 1 1 0 0 0\\nC S O 1 2 1 2 2 1 1 0 0 0\\nC R O 1 1 1 1 2 1 1 0 0 0\\nH R X 1 3 1 1 2 1 1 0 0 0\\nE A I 2 3 1 2 2 1 1 1 0 0\\nD R I 1 2 1 2 2 1 1 0 0 0\\nC R O 1 2 1 1 2 1 1 0 0 0\\nB X O 1 3 1 1 2 1 1 0 0 0\\nC S O 1 2 1 1 2 1 1 1 0 0\\nH S X 2 2 1 2 2 1 1 0 0 0\\nB X O 1 3 1 1 2 1 1 0 0 0\\nC S O 1 3 1 2 2 1 1 0 0 0\\nD A I 1 3 1 1 2 1 1 0 0 0\\nE A I 2 2 1 2 2 1 1 0 0 0\\nD R I 2 3 2 2 2 1 1 0 0 0\\nC S O 1 3 1 1 2 1 1 0 1 0\\nH S X 1 2 1 2 2 1 1 0 0 0\\nC A O 1 2 1 2 2 1 1 0 0 0\\nC R O 1 2 1 2 2 1 1 0 0 0\\nC A I 1 2 1 2 2 1 1 0 0 0\\nB X O 1 2 1 2 2 1 1 0 0 0\\nD A I 2 3 1 1 2 1 1 0 0 0\\nC R O 1 3 1 1 2 1 1 0 0 0\\nB X O 1 3 1 1 2 1 1 0 0 0\\nH S X 1 2 1 2 2 1 1 0 0 0\\nC A O 1 3 1 2 2 1 1 0 0 0\\nD R I 1 2 1 2 2 1 1 0 0 0\\nC R O 1 2 1 2 2 1 1 0 0 0\\nB X I 1 3 1 2 2 1 1 0 0 0\\nD A I 2 3 3 2 2 1 1 2 0 0\\nD R O 1 3 1 1 2 1 1 1 0 0\\nB X O 1 3 1 1 2 1 1 0 0 0\\nD R O 1 3 1 1 2 1 1 0 0 0\\nH A X 1 2 1 2 2 1 1 0 0 0\\nB X O 1 1 1 2 2 1 1 0 0 0\\nC A O 1 2 1 2 2 1 1 0 0 0\\nD A I 1 2 1 2 2 1 1 4 0 0\\nC R O 1 1 1 1 2 1 1 0 0 0\\nC R O 1 1 1 1 2 1 1 0 0 0\\nH A X 1 2 1 2 2 1 1 0 0 0\\nC R O 1 2 1 2 2 1 1 0 0 0\\nD S O 2 3 1 2 2 1 1 1 0 0\\nB X O 2 3 1 1 2 1 1 0 0 0\\nC S O 1 3 1 1 2 1 1 0 0 0\\nB X O 1 3 1 1 2 1 1 0 0 0\\nB X O 1 3 1 1 2 1 1 0 0 0\\nH S X 1 2 1 2 2 1 1 0 0 0\\nD A I 2 2 1 2 2 1 1 0 1 0\\nH R X 1 2 1 1 2 1 1 0 0 0\\nD R O 1 2 1 1 2 1 1 0 0 0\\nH R X 1 2 1 1 2 1 1 0 0 0\\nH S X 1 2 1 1 1 1 1 0 0 0\\nH S X 1 3 1 2 2 1 1 0 0 0\\nD K I 2 3 2 2 2 1 1 2 0 0\\nB X O 1 2 1 1 2 1 1 0 0 0\\nB X I 1 2 1 1 2 1 1 0 0 0\\nB X O 1 2 1 1 2 1 1 0 0 0\\nH S X 1 2 1 1 1 1 1 0 0 0\\nB X O 1 3 1 1 2 1 1 0 0 0\\nH S X 1 2 1 1 1 1 1 0 1 0\\nD K I 1 3 1 2 2 1 1 4 0 0\\nB X O 1 1 1 1 2 1 1 0 0 0\\nB X O 1 3 1 1 2 1 1 0 0 0\\nH S X 1 2 1 1 1 1 1 0 0 0\\nC S O 2 3 3 1 2 1 1 0 1 0\\nB X O 1 3 1 1 2 1 1 0 0 0\\nD R O 1 2 1 1 2 1 1 0 0 0\\nD K I 2 3 1 2 2 1 1 3 1 0\\nB X O 1 3 1 1 2 1 1 0 0 0\\nH S X 1 2 1 1 1 1 1 0 0 0\\nC S O 1 3 1 1 2 1 1 0 0 0\\nB X O 1 3 1 1 2 1 1 0 0 0\\nD R O 1 3 1 1 2 1 1 0 0 0\\nC R O 1 3 1 1 2 1 1 0 0 0\\nD R O 1 3 1 1 2 1 1 0 0 0\\nD K I 2 2 1 2 2 1 1 1 0 0\\nD A I 1 3 1 1 2 1 1 0 0 0\\nH S X 1 2 1 1 1 1 1 0 0 0\\nC S O 2 2 2 1 2 1 1 0 0 0\\nD R O 1 2 1 1 2 1 1 0 0 0\\nB X O 1 2 1 1 2 1 1 0 0 0\\nB X O 1 2 1 1 2 1 1 0 0 0\\nB X O 1 3 1 1 2 1 1 1 0 0\\nB X O 1 3 1 1 2 1 1 0 0 0\\nD S O 1 2 1 1 2 1 1 1 0 0\\nD A I 2 2 3 2 2 1 1 0 0 0\\nD S O 1 3 1 1 2 1 1 1 0 0\\nD A I 1 2 1 2 2 1 1 0 0 0\\nC S O 1 3 1 1 2 1 1 0 0 0\\nH R X 1 3 1 1 2 1 1 0 0 0\\nC R O 1 3 1 1 2 1 1 0 0 0\\nB X O 1 2 1 1 2 1 1 0 0 0\\nB X O 1 3 1 1 2 1 1 0 0 0\\nD A I 1 3 1 1 2 1 1 0 0 0\\nH S X 1 2 1 1 1 1 1 0 0 0\\nC R O 1 3 1 1 2 1 1 1 0 0\\nH A X 1 1 1 2 2 1 1 0 0 0\\nH S X 1 1 1 1 2 1 1 0 0 0\\nD A I 1 3 1 2 2 1 1 0 0 0\\nH S X 1 1 1 1 2 1 1 0 0 0\\nC S O 1 2 1 1 2 1 1 0 0 0\\nD R O 1 2 1 1 2 1 1 1 0 0\\nD S I 2 3 1 1 2 1 1 0 0 0\\nD A C 2 3 1 2 2 1 1 0 0 0\\nH S X 1 3 1 1 1 1 1 0 0 0\\nD R O 1 2 1 1 2 1 1 0 0 0\\nC A O 1 3 1 1 2 1 1 0 0 0\\nD R O 1 3 1 1 2 1 1 0 0 0\\nH S X 1 3 1 1 2 1 1 0 0 0\\nH S X 1 2 1 1 1 1 1 0 0 0\\nB X O 1 2 1 1 2 1 1 0 0 0\\nE A I 1 3 1 2 2 1 1 1 0 0\\nD S O 1 3 1 1 2 1 1 0 0 0\\nH S X 1 3 1 1 2 1 1 0 0 0\\nH R X 1 1 1 1 2 1 1 0 0 0\\nD A O 1 1 1 2 2 1 1 0 0 0\\nD A I 1 2 1 2 2 1 1 0 0 0\\nH S X 1 2 1 1 1 1 1 0 0 0\\nC R O 2 2 1 1 2 1 1 0 0 0\\nC R O 1 3 1 1 2 1 1 0 0 0\\nD S I 1 3 1 1 2 1 1 1 0 0\\nH R X 1 2 1 1 1 1 1 0 0 0\\nH R X 1 2 1 1 2 1 1 0 0 0\\nE A C 1 3 1 2 2 1 1 0 0 0\\nD A O 1 3 1 1 2 1 1 0 0 0\\nC S O 1 3 1 1 2 1 1 0 0 0\\nH S X 2 2 1 1 2 1 1 0 0 0\\nD R O 1 3 1 2 2 1 1 0 0 0\\nC S O 1 2 1 2 2 1 1 0 0 0\\nH H X 1 2 1 1 1 1 1 0 0 0\\nC R O 1 3 1 1 2 1 1 0 0 0\\nD S I 1 3 1 2 2 1 1 1 0 0\\nC R O 1 3 1 1 2 1 1 0 1 0\\nH R X 1 3 1 1 2 1 1 0 0 0\\nH S X 1 2 1 2 1 1 1 0 0 0\\nH S X 1 2 1 1 1 1 1 0 0 0\\nD A O 1 1 1 2 2 1 1 0 0 0\\nD S I 1 3 1 1 2 1 1 0 0 0\\nH S X 1 3 1 1 2 1 1 0 0 0\\nC R I 1 3 1 2 2 1 1 0 0 0\\nD R I 1 3 1 2 2 1 1 0 0 0\\nH A X 1 2 1 1 1 1 1 0 0 0\\nB X O 1 2 1 1 2 1 1 0 0 0\\nE A I 2 3 1 2 2 1 1 2 0 0\\nD R O 1 3 1 1 2 1 1 0 1 0\\nH H X 1 3 1 2 1 1 1 0 0 0\\nD A I 1 2 1 1 2 1 1 0 0 0\\nD R O 1 3 1 1 2 1 1 0 0 0\\nB X O 1 3 1 1 2 1 1 0 0 0\\nD S I 1 3 1 2 2 1 1 0 0 0\\nH S X 1 2 1 1 2 1 1 0 0 0\\nD A I 1 3 1 2 2 1 1 0 0 0\\nC R O 1 3 1 1 2 1 1 0 0 0\\nD R O 1 2 1 2 2 1 1 0 0 0\\nH S X 1 3 1 1 1 1 1 0 0 0\\nD R O 1 3 1 1 2 1 1 0 0 0\\nE A I 2 2 1 2 2 1 1 3 0 0\\nD A I 2 3 3 1 2 1 1 1 0 0\\nB X O 1 2 1 1 2 1 1 0 0 0\\nH A X 1 3 1 2 1 1 1 0 0 0\\nD A I 1 3 1 2 2 1 1 3 0 0\\nC R O 1 2 1 1 2 1 1 0 0 0\\nD S O 1 1 1 2 2 1 1 0 0 0\\nH S X 1 2 1 1 2 1 1 0 0 0\\nD R O 1 1 1 2 2 1 1 0 0 0\\nC R O 1 2 1 1 2 1 1 0 0 0\\nB X O 1 2 1 2 2 1 1 0 0 0\\nH S X 1 3 1 1 1 1 1 0 0 0\\nC R O 1 2 1 1 2 1 1 0 0 0\\nE A O 2 2 1 2 2 1 1 4 0 0\\nE A I 1 3 1 2 2 1 1 0 0 0\\nH A X 1 3 1 2 1 1 1 0 0 0\\nD A I 2 3 1 2 2 1 1 0 1 0\\nC R O 1 3 1 1 2 1 1 0 0 0\\nD S O 1 2 1 2 2 1 1 0 0 0\\nH S X 1 2 1 1 2 1 1 0 0 0\\nD R O 1 3 1 2 2 1 1 0 0 0\\nH S X 1 2 1 1 1 1 1 0 0 0\\nC A O 1 1 1 1 2 1 1 0 0 0\\nE A I 1 2 1 2 2 1 1 0 0 0\\nE A C 2 2 1 2 2 1 1 0 0 0\\nH A X 1 2 1 2 1 1 1 0 0 0\\nD A C 2 2 3 2 2 1 1 0 0 0\\nE S I 1 2 1 2 2 1 1 0 0 0\\nH R X 1 2 1 1 1 1 1 0 0 0\\nH S X 1 3 1 1 2 1 1 0 0 0\\nD A I 1 3 1 2 2 1 1 0 1 0\\nH S X 1 3 1 1 1 1 1 0 0 0\\nE A O 2 3 1 2 2 1 1 0 0 0\\nE A O 1 2 1 2 2 1 1 1 0 0\\nC A O 1 2 1 2 2 1 1 0 0 0\\nD A C 1 2 1 2 2 1 1 0 0 0\\nE S I 1 3 1 2 2 1 1 5 1 0\\nH R X 1 3 1 1 1 1 1 0 0 0\\nD R I 1 3 1 1 2 1 1 1 0 0\\nH S X 1 3 1 1 1 1 1 0 0 0\\nH S X 1 3 1 2 1 1 1 0 0 0\\nD S I 1 3 1 2 2 1 1 0 0 0\\nH S X 1 2 1 1 1 1 1 0 0 0\\nH A X 1 2 1 2 2 1 1 0 0 0\\nF A I 1 2 1 2 2 1 1 4 0 0\\nC A O 1 3 1 2 2 1 1 0 0 0\\nC A I 1 2 1 2 2 1 1 0 0 0\\nE A I 1 3 1 2 2 1 1 0 0 0\\nH S X 1 2 1 1 1 1 1 1 0 0\\nD R I 2 3 1 2 2 1 1 1 0 0\\nH S X 1 2 1 2 1 1 1 0 0 0\\nB X O 1 3 1 1 2 1 1 0 0 0\\nD S O 1 1 3 2 2 1 1 0 0 0\\nH S X 1 2 1 1 1 1 1 0 0 0\\nF A I 2 2 1 2 2 1 1 3 0 0\\nC R O 1 2 1 2 2 1 1 0 0 0\\nE A I 2 3 3 2 2 1 1 1 0 0\\nH S X 1 3 1 1 1 1 1 0 0 0\\nC A I 1 2 1 2 2 1 1 0 0 0\\nH S X 1 2 1 2 1 1 1 0 0 0\\nD R I 1 3 1 1 2 1 1 0 0 0\\nC R O 1 3 1 1 2 1 1 0 0 0\\nH S X 1 2 1 1 1 1 1 0 0 0\\nF A I 2 2 1 2 2 1 1 0 0 0\\nC R O 1 2 1 2 2 1 1 0 0 0\\nH S X 1 3 1 2 2 1 1 1 0 0\\nE A I 1 3 1 2 2 1 1 0 0 0\\nH S X 2 2 1 1 1 1 1 1 0 0\\nC A I 2 3 1 2 2 1 1 0 0 0\\nH S X 1 2 1 2 1 1 1 0 0 0\\nD R I 1 3 1 2 2 1 1 0 0 0\\nC R O 1 3 1 1 2 1 1 0 0 0\\nH S X 1 2 1 1 1 1 1 0 0 0\\nF A I 1 1 1 2 2 1 1 0 0 0\\nH R X 1 1 1 2 2 1 1 0 0 0\\nH S X 2 3 1 2 2 1 1 0 0 0\\nE S I 2 2 1 2 2 1 1 3 0 0\\nH S X 1 3 1 1 1 1 1 0 0 0\\nD R I 1 2 1 2 2 1 1 0 0 0\\nH R X 1 2 1 2 1 1 1 0 0 0\\nD A O 1 2 1 2 2 1 1 0 0 0\\nH R X 1 1 1 1 2 1 1 0 0 0\\nB X O 1 2 1 1 2 1 1 0 0 0\\nH S X 1 2 1 2 1 1 1 0 0 0\\nH S X 1 2 1 2 2 1 1 0 0 0\\nE S I 2 2 1 2 2 1 1 0 0 0\\nC S O 2 2 1 1 2 1 1 0 0 0\\nC R O 1 1 1 2 2 1 1 0 0 0\\nH S X 1 2 1 2 1 1 1 0 0 0\\nB X O 1 3 1 1 2 1 1 0 0 0\\nH S X 1 3 1 1 1 1 1 0 0 0\\nH S X 1 2 1 2 2 1 1 0 0 0\\nD A I 2 2 1 2 2 1 1 1 0 0\\nH S X 1 2 1 1 2 1 1 0 0 0\\nB X O 1 2 1 2 2 1 1 0 0 0\\nH S X 1 2 1 2 1 1 1 0 0 0\\nC R O 1 3 1 1 2 1 1 0 0 0\\nD S O 2 3 1 2 2 1 1 0 0 0\\nD H O 1 3 1 1 2 1 1 0 0 0\\nD R O 1 3 1 1 2 1 1 0 0 0\\nC S O 1 2 1 1 2 1 1 0 0 0\\nH S X 1 2 1 2 2 1 1 0 0 0\\nD A I 1 2 1 2 2 1 1 0 0 0\\nH S X 1 2 1 1 2 1 1 0 0 0\\nH R X 1 2 1 2 1 1 1 0 0 0\\nC S O 1 3 1 2 2 1 1 0 0 0\\nC S I 1 3 1 1 2 1 1 0 0 0\\nH R X 1 2 1 1 2 1 1 0 0 0\\nC S O 1 3 1 1 2 1 1 0 0 0\\nH S X 1 2 1 2 2 1 1 0 0 0\\nD A O 1 3 1 2 2 1 1 0 0 0\\nH S X 1 2 1 1 2 1 1 0 0 0\\nH R X 1 3 1 2 1 1 1 0 0 0\\nB X O 1 3 1 1 2 1 1 0 0 0\\nC S O 1 2 1 2 2 1 1 1 0 0\\nC S O 1 2 1 1 2 1 1 0 0 0\\nC R O 1 3 1 1 2 1 1 0 0 0\\nC S O 1 1 1 1 2 1 1 0 0 0\\nB X O 1 3 1 1 2 1 1 0 0 0\\nC S O 1 2 1 1 2 1 1 1 0 0\\nD A I 1 3 1 2 2 1 1 1 0 0\\nH S X 1 2 1 1 2 1 1 0 0 0\\nH S X 1 3 1 2 1 1 1 0 0 0\\nC S O 1 3 1 1 2 1 1 1 0 0\\nC S O 1 3 1 2 2 1 1 2 1 0\\nH S X 1 3 1 1 2 1 1 1 0 0\\nC R O 1 2 1 1 2 1 1 0 0 0\\nD S O 1 3 1 1 2 1 1 0 0 0\\nH S X 2 3 1 1 2 1 1 0 0 0\\nH S X 1 3 1 1 2 1 1 0 0 0\\nD A O 1 2 1 2 2 1 1 1 0 0\\nH S X 1 2 1 1 2 1 1 0 0 0\\nH S X 1 2 1 2 1 1 1 0 0 0\\nD S I 1 3 1 1 2 1 1 0 0 0\\nD A I 2 2 1 2 2 1 1 1 0 0\\nF S O 2 2 1 1 2 1 1 0 0 0\\nH R X 1 2 1 1 2 1 1 0 0 0\\nC R I 1 2 1 1 2 1 1 2 0 0\\nH S X 1 2 1 1 2 1 1 0 0 0\\nH S X 1 2 1 1 2 1 1 0 0 0\\nD A O 1 3 1 2 2 1 1 0 0 0\\nD A I 2 2 1 2 2 1 1 2 0 0\\nD S O 2 2 3 2 2 1 1 0 0 0\\nF H O 1 2 1 1 2 1 1 0 0 0\\nC R O 1 3 1 1 2 1 1 0 0 0\\nD R I 1 3 1 1 2 1 1 0 0 0\\nC S O 1 2 1 1 2 1 1 0 0 0\\nH R X 1 2 1 1 2 1 1 0 0 0\\nH R X 1 3 1 1 1 1 1 0 0 0\\nD S O 1 3 1 1 2 1 1 0 0 0\\nD S I 1 1 1 2 2 1 1 0 0 0\\nC R I 1 2 1 2 2 1 1 1 0 0\\nC S O 1 3 1 1 2 1 1 0 0 0\\nB X I 2 2 1 2 2 1 1 0 0 0\\nH S X 1 3 1 1 2 1 1 0 0 0\\nB X O 1 3 1 1 2 1 1 0 0 0\\nC S I 1 3 1 1 2 1 1 0 0 0\\nH R X 2 1 1 2 2 1 1 0 0 0\\nC S O 1 2 1 2 2 1 1 0 0 0\\nH S X 1 2 1 1 2 1 1 0 0 0\\nB X I 1 2 1 2 2 1 1 1 0 0\\nC S O 1 2 1 1 2 1 1 0 0 0\\nB X O 1 3 1 1 2 1 1 0 0 0\\nD A O 1 3 1 1 2 1 1 0 0 0\\nC S O 1 2 1 1 2 1 1 0 0 0\\nB X O 1 3 1 1 2 1 1 0 0 0\\nC S O 2 2 1 2 2 1 1 0 0 0\\nC S I 1 3 1 1 2 1 1 0 0 0\\nC R O 1 2 1 2 2 1 1 0 0 0\\nC S O 1 3 1 1 2 1 1 0 0 0\\nD A I 1 2 1 1 2 1 1 0 0 0\\nE A I 1 3 1 1 2 1 1 0 0 0\\nH R X 1 3 1 1 2 1 1 0 0 0\\nC R O 1 3 1 1 2 1 1 0 0 0\\nH S X 1 1 1 2 2 1 1 0 0 0\\nD S O 1 2 1 1 2 1 1 0 0 0\\nC S O 2 3 1 2 2 1 1 0 0 0\\nC S O 1 3 1 1 2 1 1 0 0 0\\nD A O 1 2 1 2 2 1 1 0 0 0\\nF S I 1 3 1 2 2 1 1 2 0 0\\nD A I 1 2 1 1 2 1 1 0 0 0\\nC R O 1 3 1 1 2 1 1 0 0 0\\nD A I 1 3 1 1 2 1 1 1 0 0\\nE S O 1 3 1 1 2 1 1 6 0 0\\nH S X 1 2 1 2 2 1 1 0 0 0\\nC S O 1 2 1 1 2 1 1 0 0 0\\nH S X 1 1 1 1 2 1 1 0 0 0\\nC S O 1 3 1 2 2 1 1 0 0 0\\nF S I 1 3 1 2 2 1 1 1 0 0\\nD R O 1 2 1 2 2 1 1 0 0 0\\nD A I 2 3 1 2 2 1 1 0 0 0\\nD R C 2 3 1 1 2 1 1 1 0 0\\nH K X 1 3 1 1 1 1 1 0 0 0\\nC R O 1 2 1 1 2 1 1 0 0 0\\nH S X 1 2 1 1 2 1 1 0 0 0\\nH A X 1 1 1 2 2 1 1 0 0 0\\nF S I 2 2 1 2 2 1 1 0 0 0\\nB X O 1 2 1 2 2 1 1 0 0 0\\nD S I 1 2 1 2 2 1 1 0 0 0\\nE H C 2 3 1 2 2 1 1 0 0 0\\nB X O 1 2 1 1 2 1 1 0 0 0\\nC H O 1 3 1 2 2 1 1 0 0 0\\nB X O 1 3 1 1 2 1 1 0 0 0\\nH R X 1 2 1 1 2 1 1 0 0 0\\nH R X 1 3 1 2 2 1 1 0 0 0\\nF R I 1 2 1 2 2 1 1 1 0 0\\nH S X 1 1 1 2 2 1 1 0 0 0\\nD A I 1 3 1 2 2 1 1 1 0 0\\nE K I 2 3 1 2 2 2 1 1 0 0\\nF H O 1 2 1 2 2 1 1 1 0 0\\nB X O 1 3 1 1 2 1 1 0 0 0\\nH R X 1 2 1 1 2 1 1 0 0 0\\nB X O 1 2 1 2 2 1 1 0 0 0\\nD A I 1 2 1 2 2 1 1 1 0 0\\nF K I 1 2 1 2 2 1 1 1 0 0\\nE H O 2 2 1 2 2 1 1 1 0 0\\nB X I 1 3 1 1 2 1 1 0 0 0\\nH S X 1 2 1 2 1 1 1 0 0 0\\nH R X 1 2 1 1 2 1 1 0 0 0\\nB X O 1 1 1 2 2 1 1 0 0 0\\nD S I 2 2 1 2 2 1 1 1 0 0\\nE K I 2 2 1 2 2 1 1 2 0 0\\nF H O 1 3 1 2 2 1 1 0 0 0\\nC R O 1 3 1 1 2 1 1 0 0 0\\nC S O 1 3 1 2 2 1 1 0 0 0\\nH R X 1 1 1 2 2 1 1 0 0 0\\nB X I 1 1 1 2 2 1 1 0 0 0\\nF K I 1 2 1 2 2 1 1 4 0 0\\nD H I 2 3 1 2 2 1 1 0 0 0\\nC R O 1 2 1 1 2 1 1 0 0 0\\nH S X 1 3 1 2 2 1 1 0 0 0\\nH R X 1 2 1 1 2 1 1 0 0 0\\nB X O 1 3 1 1 2 1 1 0 0 0\\nH S X 1 3 1 1 1 1 1 0 0 0\\nH R X 1 3 1 2 2 1 1 0 0 0\\nF A I 2 3 1 2 2 2 1 1 1 0\\nE H I 1 3 1 2 2 1 1 1 1 0\\nH S X 1 2 1 2 2 1 1 0 0 0\\nH R X 1 2 1 1 2 1 1 0 0 0\\nH S X 1 3 1 1 1 1 1 0 0 0\\nH R X 1 3 1 2 2 1 1 0 0 0\\nF A I 2 3 1 2 2 1 1 0 0 0\\nE H I 1 3 1 2 2 1 1 3 0 0\\nH S X 1 3 1 2 2 1 1 0 0 0\\nH R X 1 3 1 1 2 1 1 0 0 0\\nH S X 1 3 1 1 1 1 1 0 0 0\\nB X O 1 3 1 1 2 1 1 0 0 0\\nF A I 2 2 3 2 2 1 1 0 0 0\\nE H O 2 2 2 2 2 1 1 0 0 0\\nH S X 1 2 1 2 2 1 1 0 0 0\\nH R X 1 2 1 1 2 1 1 0 0 0\\nC S I 1 3 1 1 2 1 1 0 0 0\\nF A I 1 2 1 2 2 1 1 1 0 0\\nE H O 2 2 1 2 2 1 1 1 0 0\\nH S X 1 3 1 2 2 1 1 0 0 0\\nH R X 1 3 1 1 2 1 1 0 0 0\\nD S I 1 3 1 1 2 1 1 0 0 0\\nF A I 1 2 1 2 2 1 1 0 0 0\\nE A O 1 2 1 2 2 1 1 1 0 0\\nH S X 1 3 1 2 2 1 1 0 0 0\\nD S I 1 3 1 2 2 1 1 0 0 0\\nC R O 1 2 1 1 2 1 1 0 0 0\\nB X O 1 3 1 1 2 1 1 0 0 0\\nF A I 2 2 1 2 2 1 1 1 0 0\\nH S X 1 3 1 2 2 1 1 0 0 0\\nD A O 1 3 1 2 2 1 1 0 0 0\\nB X O 1 3 1 1 2 1 1 0 0 0\\nB X O 1 2 1 1 2 1 1 0 0 0\\nB X O 1 2 1 1 2 1 1 0 0 0\\nB X I 1 3 1 1 2 1 1 0 0 0\\nE S O 1 1 1 2 2 1 1 0 0 0\\nD A I 1 3 1 2 2 1 1 0 0 0\\nH R X 1 3 1 1 2 1 1 0 0 0\\nC R O 1 3 1 1 2 1 1 0 0 0\\nB X O 1 3 1 1 2 1 1 0 0 0\\nH S X 1 2 1 2 1 1 1 0 0 0\\nH R X 2 2 1 2 2 1 1 0 0 0\\nC S O 1 3 1 1 2 1 1 0 0 0\\nD A I 1 3 1 2 2 1 1 0 0 0\\nH R X 1 2 1 1 2 1 1 0 0 0\\nB X O 1 2 1 1 2 1 1 0 0 0\\nC R O 1 2 1 1 2 1 1 0 0 0\\nH S X 1 2 1 2 1 1 1 0 0 0\\nB X I 1 3 1 1 2 1 1 0 0 0\\nH S X 1 2 1 1 1 1 1 0 0 0\\nH A X 1 2 1 1 2 1 1 0 0 0\\nC A O 1 2 1 2 2 1 1 0 0 0\\nB X O 1 3 1 1 2 1 1 0 0 0\\nB X I 1 3 1 1 2 1 1 0 0 0\\nB X O 1 3 1 1 2 1 1 0 0 0\\nH S X 1 3 1 2 1 1 1 0 0 0\\nC R O 1 3 1 1 2 1 1 0 0 0\\nC S O 1 3 1 1 2 1 1 0 0 0\\nH A X 1 3 1 1 2 1 1 0 0 0\\nE A O 1 3 1 2 2 1 1 0 0 0\\nB X O 1 3 1 1 2 1 1 0 0 0\\nH S X 1 2 1 2 1 1 1 0 0 0\\nC R O 1 2 1 1 2 1 1 0 0 0\\nH S X 1 3 1 1 2 1 1 0 0 0\\nC A O 1 2 1 2 2 1 1 0 0 0\\nC R O 1 3 1 1 2 1 1 0 0 0\\nH S X 1 2 1 2 1 1 1 0 0 0\\nH R X 1 1 1 1 2 1 1 1 0 0\\nH S X 1 1 1 1 2 1 1 0 0 0\\nC S I 1 3 1 1 2 1 1 1 0 0\\nH A X 1 3 1 2 1 1 1 0 0 0\\nB X I 1 2 1 1 2 1 1 0 0 0\\nH S X 1 2 1 1 2 1 1 0 0 0\\nB X O 2 2 1 2 2 1 1 2 0 0\\nC S O 1 2 1 1 2 1 1 0 0 0\\nC A O 1 3 1 2 2 1 1 0 0 0\\nB X O 2 2 1 1 2 1 1 0 0 0\\nH S X 1 2 1 1 2 1 1 0 0 0\\nH R X 1 2 1 1 2 1 1 0 0 0\\nC R O 1 3 1 1 2 1 1 0 0 0\\nB X O 1 3 1 1 2 1 1 0 0 0\\nC S O 2 2 1 1 2 1 1 0 0 0\\nH A X 1 2 1 2 2 1 1 0 0 0\\nB X O 1 1 1 1 2 1 1 0 0 0\\nH S X 1 2 1 1 2 1 1 0 0 0\\nB X O 1 3 1 1 2 1 1 0 0 0\\nH R X 1 2 1 1 2 1 1 0 0 0\\nC R O 1 2 1 1 2 1 1 0 0 0\\nH A X 1 2 1 2 2 1 1 0 0 0\\nH H X 1 3 1 1 2 1 1 0 0 0\\nB X O 1 1 1 1 2 1 1 0 0 0\\nH R X 1 1 1 1 2 1 1 0 0 0\\nH S X 1 2 1 1 2 1 1 1 0 0\\nC R O 1 3 1 1 2 1 1 0 0 0\\nH A X 1 3 1 2 2 1 1 0 0 0\\nH H X 1 2 1 1 2 1 1 0 0 0\\nB X O 1 3 1 1 2 1 1 0 0 0\\nH S X 1 2 1 1 2 1 1 1 0 0\\nC R O 1 2 1 1 2 1 1 0 0 0\\nB X O 1 1 1 2 2 1 1 0 0 0\\nH S X 1 2 1 1 2 1 1 0 0 0\\nC S O 2 2 1 1 2 1 1 0 0 0\\nB X O 1 3 1 1 2 1 1 1 0 0\\nC S O 1 2 1 1 2 1 1 0 0 0\\nB X O 1 2 1 2 2 1 1 0 0 0\\nH S X 1 3 1 1 2 1 1 0 0 0\\nC S O 2 3 1 1 2 1 1 0 0 0\\nB X O 2 3 1 1 2 1 1 0 0 0\\nC S O 1 3 1 1 2 1 1 0 0 0\\nB X O 1 2 1 1 2 1 1 0 0 0\\nH S X 1 3 1 1 1 1 1 0 0 0\\nH A X 1 3 1 1 1 1 1 0 0 0\\nH A X 1 3 1 1 1 1 1 0 0 0\\nH A X 1 2 1 1 1 1 1 0 0 0\\nH A X 1 2 1 1 1 1 1 0 0 0\\nH S X 1 3 1 1 2 1 1 0 0 0\\nD A I 1 3 1 2 2 1 1 2 0 0\\nH S X 1 2 1 1 2 1 1 0 0 0\\nD R O 1 2 1 1 2 1 1 1 0 0\\nD A I 1 3 1 1 2 1 1 0 1 0\\nC A O 1 3 1 1 2 1 1 0 0 0\\nH S X 1 2 1 1 1 1 1 0 0 0\\nH S X 1 2 1 1 1 1 1 0 0 0\\nC S O 1 3 1 1 2 1 1 0 0 0\\nB X O 1 3 1 1 2 1 1 0 0 0\\nH S X 1 2 1 1 1 1 1 0 0 0\\nH S X 1 3 1 1 2 1 1 0 0 0\\nD A I 1 3 1 2 2 1 1 3 0 0\\nH S X 1 2 1 1 2 1 1 0 0 0\\nD R O 1 3 1 1 2 1 1 0 0 0\\nD A I 1 3 1 2 2 1 1 0 1 0\\nC A O 1 3 1 1 2 1 1 0 0 0\\nH S X 1 2 1 1 1 1 1 0 0 0\\nH S X 1 2 1 1 1 1 1 0 0 0\\nH S X 1 2 1 1 2 1 1 0 0 0\\nH S X 1 3 1 1 1 1 1 2 0 0\\nD H O 1 3 1 2 2 1 1 0 0 0\\nH S X 1 2 1 1 2 1 1 0 0 0\\nC R O 2 2 1 1 2 1 1 0 0 0\\nD S O 2 2 2 2 2 1 1 1 1 0\\nC R O 1 2 1 1 2 1 1 0 0 0\\nH S X 1 3 1 1 1 1 1 0 0 0\\nH S X 1 3 1 1 1 1 1 0 0 0\\nC S O 1 3 1 1 2 1 1 3 0 0\\nF A I 1 3 1 1 2 1 1 0 0 0\\nE S O 1 2 1 2 2 1 1 0 0 0\\nH S X 1 2 1 1 2 1 1 0 0 0\\nD R O 1 2 1 1 2 1 1 0 0 0\\nC S O 2 2 3 2 2 1 1 0 0 0\\nH S X 1 1 1 1 2 1 1 0 0 0\\nD S O 1 1 1 1 2 1 1 0 0 0\\nC S O 1 3 1 1 2 1 1 0 0 0\\nD A I 2 3 1 1 2 1 1 3 0 0\\nC A O 1 3 1 2 2 1 1 0 0 0\\nH S X 1 2 1 2 1 1 1 0 0 0\\nH S X 1 2 1 1 2 1 1 0 0 0\\nC R O 1 2 1 1 2 1 1 0 0 0\\nH S X 1 1 2 2 2 1 1 0 0 0\\nC S O 1 3 1 1 2 1 1 0 0 0\\nC S O 1 3 1 1 2 1 1 0 0 0\\nD K I 2 3 1 2 2 1 1 2 0 0\\nE A I 1 3 1 2 2 1 1 3 0 0\\nH S X 1 2 1 2 1 1 1 0 0 0\\nC R O 1 3 1 1 2 1 1 0 0 0\\nH S X 1 3 1 1 2 1 1 0 0 0\\nC R O 1 2 1 1 2 1 1 0 0 0\\nH S X 1 3 1 2 2 1 1 0 0 0\\nC S O 1 2 1 1 2 1 1 0 0 0\\nC S O 1 2 1 1 2 1 1 0 0 0\\nD K I 2 3 1 2 2 1 1 0 0 0\\nE A I 1 2 1 2 2 1 1 0 0 0\\nH S X 1 3 1 2 1 1 1 0 0 0\\nC R O 1 3 1 1 2 1 1 0 0 0\\nB X O 1 3 1 1 2 1 1 0 0 0\\nB X O 1 2 1 1 2 1 1 1 0 0\\nH S X 1 2 1 1 2 1 1 0 0 0\\nH R X 1 1 1 1 2 1 1 0 0 0\\nH S X 1 2 1 2 2 1 1 0 0 0\\nH S X 1 1 1 1 2 1 1 0 0 0\\nH S X 1 2 1 1 2 1 1 0 0 0\\nD A I 2 2 1 2 2 1 1 1 0 0\\nD S I 2 3 1 2 2 1 1 0 0 0\\nH S X 1 2 1 2 1 1 1 0 0 0\\nC R O 1 2 1 1 2 1 1 0 0 0\\nD R O 1 3 1 1 2 1 1 0 0 0\\nD S O 1 3 1 1 2 1 1 2 2 0\\nH S X 1 2 1 2 2 1 1 0 0 0\\nH S X 1 2 1 1 2 1 1 0 0 0\\nH S X 1 1 1 1 2 1 1 0 0 0\\nD S O 1 2 1 2 2 1 1 3 0 0\\nD S O 1 2 1 2 2 1 1 0 0 0\\nH S X 1 2 1 2 1 1 1 0 0 0\\nD S O 1 3 1 1 2 1 1 0 0 0\\nE S O 2 3 3 1 2 1 1 0 0 0\\nB X O 1 3 1 1 2 1 1 0 0 0\\nH S X 1 3 1 2 2 1 1 0 0 0\\nH S X 1 2 1 1 2 1 1 0 0 0\\nH S X 1 2 1 1 2 1 1 0 0 0\\nD K I 2 2 1 2 2 1 1 3 0 0\\nC S O 1 2 1 2 2 1 1 0 0 0\\nH S X 1 3 1 2 1 1 1 0 0 0\\nB X O 1 3 1 1 2 1 1 0 0 0\\nD A I 1 3 1 1 2 1 1 1 0 0\\nC S O 2 2 2 1 2 1 1 0 0 0\\nD R O 1 3 1 1 2 1 1 0 0 0\\nH S X 1 2 1 2 2 1 1 0 0 0\\nH S X 1 2 1 1 2 1 1 0 0 0\\nH S X 1 3 1 1 2 1 1 0 0 0\\nD K I 2 2 1 2 2 1 1 0 0 0\\nC S O 1 2 1 2 2 1 1 0 0 0\\nH S X 1 3 1 2 1 1 1 0 0 0\\nB X O 1 1 1 1 2 1 1 0 0 0\\nD A I 1 3 1 2 2 1 1 0 0 0\\nC S O 1 2 1 1 2 1 1 0 0 0\\nD R O 1 3 1 1 2 1 1 0 0 0\\nH S X 1 2 1 2 2 1 1 0 0 0\\nH S X 1 2 1 1 2 1 1 0 0 0\\nE A O 1 2 1 2 2 1 1 0 1 0\\nC S O 1 1 1 2 2 1 1 0 0 0\\nH S X 1 3 1 2 1 1 1 0 0 0\\nH R X 1 2 1 1 2 1 1 0 0 0\\nE A C 2 2 1 2 2 1 1 0 0 0\\nD A I 1 3 1 1 2 1 1 0 0 0\\nD A I 1 3 1 1 2 1 1 0 0 0\\nE S I 1 3 1 1 2 1 1 0 0 0\\nD S I 1 3 1 1 2 1 1 0 0 0\\nH S X 1 2 1 1 2 1 1 0 0 0\\nC A O 2 2 3 2 2 1 1 0 0 0\\nC S O 1 3 1 2 2 1 1 0 0 0\\nH S X 1 2 1 2 1 1 1 0 0 0\\nH R X 1 3 1 1 2 1 1 0 0 0\\nE A I 1 2 1 2 2 1 1 0 0 0\\nD K I 1 3 1 2 2 1 1 1 0 0\\nD A O 1 3 1 2 2 1 1 0 0 0\\nE K I 1 3 1 2 2 2 1 0 0 0\\nD K I 1 3 1 2 2 1 1 0 0 0\\nH R X 1 3 1 1 2 1 1 0 0 0\\nH S X 1 3 1 1 1 1 1 0 0 0\\nC A O 1 2 1 2 2 1 1 0 0 0\\nC S O 1 2 1 2 2 1 1 0 0 0\\nH S X 1 3 1 2 1 1 1 0 0 0\\nD K I 2 2 1 2 2 1 1 0 0 0\\nB X O 1 2 1 2 2 1 1 0 0 0\\nE K I 1 2 1 2 2 1 1 1 0 0\\nD K I 1 3 1 2 2 1 1 1 0 0\\nH R X 1 3 1 1 2 1 1 1 0 0\\nH S X 1 3 1 1 1 1 1 0 0 0\\nH S X 1 1 1 2 2 1 1 0 0 0\\nH S X 1 3 1 2 1 1 1 0 0 0\\nD A I 1 2 1 2 2 1 1 0 0 0\\nF K C 1 2 1 2 2 2 1 0 1 1\\nE K C 2 3 1 2 2 2 1 0 0 0\\nD A I 1 3 1 1 2 1 1 0 2 0\\nC R O 1 3 1 1 2 1 1 0 0 0\\nH R X 1 2 1 1 2 1 1 0 0 0\\nB X O 1 3 1 1 2 1 1 0 0 0\\nH S X 1 2 1 2 1 1 1 0 0 0\\nD A I 1 2 1 2 2 1 1 1 0 0\\nE K C 2 2 3 2 2 2 1 0 0 0\\nF K C 1 3 1 2 2 2 1 0 0 0\\nD K C 2 3 1 2 2 2 1 1 3 2\\nC S I 1 2 1 1 2 1 1 0 0 0\\nH S X 1 3 1 1 2 1 1 0 0 0\\nD A I 1 3 1 1 2 1 1 0 0 0\\nD S O 1 3 1 1 2 1 1 0 0 0\\nH S X 1 2 1 1 1 1 1 0 0 0\\nB X O 1 3 1 1 2 1 1 0 0 0\\nH S X 1 2 1 2 1 1 1 0 0 0\\nD S O 1 1 1 2 2 1 1 0 0 0\\nE K C 2 3 3 2 2 2 1 1 0 1\\nF K I 1 2 1 2 2 2 1 0 0 0\\nE K C 2 3 3 2 2 2 1 0 5 1\\nC R I 1 2 1 1 2 1 1 0 0 0\\nB S O 1 3 1 1 2 1 1 0 0 0\\nD A O 1 3 1 2 2 1 1 1 0 0\\nC R O 1 3 1 1 2 1 1 0 0 0\\nH S X 1 3 1 1 1 1 1 0 0 0\\nC R O 1 2 1 1 2 1 1 0 0 0\\nH S X 1 2 1 2 1 1 1 0 0 0\\nH S X 2 2 1 2 2 1 1 0 0 0\\nE K C 2 2 3 2 2 2 1 2 2 0\\nE K I 1 3 1 2 2 2 1 1 0 0\\nE K C 2 2 3 2 2 2 1 0 0 0\\nB S O 1 2 1 1 2 1 1 0 0 0\\nE A I 1 3 1 2 2 1 1 0 0 0\\nD R I 1 3 1 1 2 1 1 0 0 0\\nH S X 1 2 1 1 1 1 1 0 0 0\\nC R O 1 3 1 1 2 1 1 0 0 0\\nH S X 1 3 1 2 2 1 1 0 0 0\\nE K C 2 2 2 2 2 2 1 4 0 0\\nE A I 1 2 1 2 2 1 1 3 0 0\\nH S X 1 2 1 1 2 1 1 0 0 0\\nE A O 2 2 1 2 2 1 1 0 0 0\\nD R I 1 3 1 2 2 1 1 0 0 0\\nH S X 1 2 1 1 1 1 1 0 0 0\\nH R X 1 3 1 1 2 1 1 0 0 0\\nD S O 1 3 1 1 2 1 1 0 0 0\\nH R X 1 2 1 1 1 1 1 0 0 0\\nE K C 2 2 2 2 2 2 1 0 0 0\\nF S I 2 2 1 2 2 1 1 2 0 0\\nD S I 1 3 1 1 2 1 1 1 0 0\\nH S X 1 3 1 1 2 1 1 0 0 0\\nD S O 1 3 1 2 2 1 1 0 0 0\\nD A I 1 2 1 2 2 1 1 0 0 0\\nH A X 1 3 1 1 1 1 1 0 0 0\\nD S O 1 2 1 1 2 1 1 0 0 0\\nH S X 1 2 1 1 1 1 1 0 0 0\\nC S O 1 3 1 1 2 1 1 0 0 0\\nH S X 1 2 1 2 1 1 1 0 0 0\\nE K C 2 3 1 2 2 2 1 2 1 0\\nF A I 2 2 1 2 2 1 1 0 0 0\\nC S O 1 2 1 2 2 1 1 0 0 0\\nD A I 1 2 1 2 2 1 1 0 0 0\\nH A X 1 2 1 1 1 1 1 0 0 0\\nB X O 1 3 1 1 2 1 1 0 0 0\\nH S X 1 3 1 1 1 1 1 0 0 0\\nD A O 1 3 1 1 2 1 1 0 0 0\\nD H O 1 3 1 2 2 1 1 0 0 0\\nD S O 1 3 1 1 2 1 1 2 1 0\\nE K C 2 2 1 2 2 1 1 0 0 0\\nF A I 1 2 1 2 2 1 1 0 0 0\\nC S O 1 2 1 2 2 1 1 0 0 0\\nD A I 1 1 1 2 2 1 1 1 1 0\\nH A X 1 2 1 1 1 1 1 0 0 0\\nH S X 1 2 1 1 1 1 1 0 0 0\\nD A O 1 2 1 1 2 1 1 0 0 0\\nD H O 1 3 1 2 2 1 1 0 0 0\\nD S O 1 3 1 1 2 1 1 0 0 0\\nH S X 1 1 1 2 2 1 1 0 0 0\\nF S I 1 3 1 2 2 1 1 0 0 0\\nH S X 1 3 1 1 1 1 1 0 0 0\\nB X I 1 2 1 1 2 1 1 0 0 0\\nD H O 1 2 1 2 2 1 1 0 0 0\\nD R O 1 3 1 1 2 1 1 0 0 0\\nD A I 2 3 2 1 2 1 1 0 0 0\\nH S X 1 2 1 1 1 1 1 0 0 0\\nC R O 1 3 1 1 2 1 1 1 0 0\\nC R O 1 2 1 1 2 1 1 0 0 0\\nD H O 1 2 1 2 2 1 1 0 0 0\\nC S O 1 2 1 1 2 1 1 0 0 0\\nE A I 1 2 1 2 2 1 1 0 0 0\\nH S X 1 2 1 1 1 1 1 1 0 0\\nC S O 1 3 1 1 2 1 1 0 0 0\\nH S X 1 2 1 1 2 1 1 0 0 0\\nD S O 1 3 1 2 2 1 1 0 0 0\\nB X O 1 1 1 1 2 1 1 0 0 0\\nE A O 1 2 1 2 2 1 1 4 1 0\\nH S X 1 3 1 1 1 1 1 1 0 0\\nH S X 1 3 1 1 1 1 1 0 0 0\\nH S X 1 2 1 1 2 1 1 0 0 0\\nH S X 1 2 1 1 2 1 1 1 0 0\\nD H O 1 3 1 2 2 1 1 0 0 0\\nE A I 2 2 1 2 2 1 1 0 0 0\\nD S O 1 3 1 1 2 1 1 0 0 0\\nH S X 1 1 1 1 1 1 1 0 0 0\\nH S X 1 2 1 1 2 1 1 0 0 0\\nH S X 1 2 1 1 2 1 1 1 0 0\\nD S O 1 2 1 2 2 1 1 0 0 0\\nH S X 1 2 2 2 2 1 1 0 0 0\\nH S X 2 2 1 1 2 1 1 0 0 0\\nD R O 1 3 1 1 2 1 1 0 0 0\\nH S X 1 2 1 1 1 1 1 0 0 0\\nH S X 2 2 1 1 2 1 1 0 0 0\\nC S O 1 2 1 2 2 1 1 0 0 0\\nH R X 1 2 1 1 2 1 1 0 0 0\\nB X O 1 1 1 1 2 1 1 0 0 0\\n'"
      ]
     },
     "execution_count": 10,
     "metadata": {},
     "output_type": "execute_result"
    }
   ],
   "source": [
    "data2"
   ]
  },
  {
   "cell_type": "code",
   "execution_count": 11,
   "metadata": {},
   "outputs": [],
   "source": [
    "# Ahora podemos crear un df con los datos limpios, separados por espacios\n",
    "\n",
    "# Volvemos a hacer lo mismo de antes, pero ahora con los datos 1 y 2 transformados con la operación anterior.\n",
    "data1df = pd.read_csv(io.StringIO(data1), sep=' ', header=None)   # header=none para que no tome la primera fila como nombre de columna\n",
    "data2df = pd.read_csv(io.StringIO(data2), sep=' ' , header=None)  # .io para que lo tome como un archivo de texto"
   ]
  },
  {
   "cell_type": "code",
   "execution_count": 12,
   "metadata": {},
   "outputs": [
    {
     "data": {
      "text/html": [
       "<div>\n",
       "<style scoped>\n",
       "    .dataframe tbody tr th:only-of-type {\n",
       "        vertical-align: middle;\n",
       "    }\n",
       "\n",
       "    .dataframe tbody tr th {\n",
       "        vertical-align: top;\n",
       "    }\n",
       "\n",
       "    .dataframe thead th {\n",
       "        text-align: right;\n",
       "    }\n",
       "</style>\n",
       "<table border=\"1\" class=\"dataframe\">\n",
       "  <thead>\n",
       "    <tr style=\"text-align: right;\">\n",
       "      <th></th>\n",
       "      <th>0</th>\n",
       "      <th>1</th>\n",
       "      <th>2</th>\n",
       "      <th>3</th>\n",
       "      <th>4</th>\n",
       "      <th>5</th>\n",
       "      <th>6</th>\n",
       "      <th>7</th>\n",
       "      <th>8</th>\n",
       "      <th>9</th>\n",
       "      <th>10</th>\n",
       "      <th>11</th>\n",
       "      <th>12</th>\n",
       "    </tr>\n",
       "  </thead>\n",
       "  <tbody>\n",
       "    <tr>\n",
       "      <th>0</th>\n",
       "      <td>C</td>\n",
       "      <td>S</td>\n",
       "      <td>O</td>\n",
       "      <td>1</td>\n",
       "      <td>2</td>\n",
       "      <td>1</td>\n",
       "      <td>1</td>\n",
       "      <td>2</td>\n",
       "      <td>1</td>\n",
       "      <td>2</td>\n",
       "      <td>0</td>\n",
       "      <td>0</td>\n",
       "      <td>0</td>\n",
       "    </tr>\n",
       "    <tr>\n",
       "      <th>1</th>\n",
       "      <td>D</td>\n",
       "      <td>S</td>\n",
       "      <td>O</td>\n",
       "      <td>1</td>\n",
       "      <td>3</td>\n",
       "      <td>1</td>\n",
       "      <td>1</td>\n",
       "      <td>2</td>\n",
       "      <td>1</td>\n",
       "      <td>2</td>\n",
       "      <td>0</td>\n",
       "      <td>0</td>\n",
       "      <td>0</td>\n",
       "    </tr>\n",
       "  </tbody>\n",
       "</table>\n",
       "</div>"
      ],
      "text/plain": [
       "  0  1  2   3   4   5   6   7   8   9   10  11  12\n",
       "0  C  S  O   1   2   1   1   2   1   2   0   0   0\n",
       "1  D  S  O   1   3   1   1   2   1   2   0   0   0"
      ]
     },
     "execution_count": 12,
     "metadata": {},
     "output_type": "execute_result"
    }
   ],
   "source": [
    "data1df.head(2)"
   ]
  },
  {
   "cell_type": "code",
   "execution_count": 13,
   "metadata": {},
   "outputs": [
    {
     "data": {
      "text/html": [
       "<div>\n",
       "<style scoped>\n",
       "    .dataframe tbody tr th:only-of-type {\n",
       "        vertical-align: middle;\n",
       "    }\n",
       "\n",
       "    .dataframe tbody tr th {\n",
       "        vertical-align: top;\n",
       "    }\n",
       "\n",
       "    .dataframe thead th {\n",
       "        text-align: right;\n",
       "    }\n",
       "</style>\n",
       "<table border=\"1\" class=\"dataframe\">\n",
       "  <thead>\n",
       "    <tr style=\"text-align: right;\">\n",
       "      <th></th>\n",
       "      <th>0</th>\n",
       "      <th>1</th>\n",
       "      <th>2</th>\n",
       "      <th>3</th>\n",
       "      <th>4</th>\n",
       "      <th>5</th>\n",
       "      <th>6</th>\n",
       "      <th>7</th>\n",
       "      <th>8</th>\n",
       "      <th>9</th>\n",
       "      <th>10</th>\n",
       "      <th>11</th>\n",
       "      <th>12</th>\n",
       "    </tr>\n",
       "  </thead>\n",
       "  <tbody>\n",
       "    <tr>\n",
       "      <th>0</th>\n",
       "      <td>H</td>\n",
       "      <td>A</td>\n",
       "      <td>X</td>\n",
       "      <td>1</td>\n",
       "      <td>3</td>\n",
       "      <td>1</td>\n",
       "      <td>1</td>\n",
       "      <td>1</td>\n",
       "      <td>1</td>\n",
       "      <td>1</td>\n",
       "      <td>0</td>\n",
       "      <td>0</td>\n",
       "      <td>0</td>\n",
       "    </tr>\n",
       "    <tr>\n",
       "      <th>1</th>\n",
       "      <td>D</td>\n",
       "      <td>R</td>\n",
       "      <td>O</td>\n",
       "      <td>1</td>\n",
       "      <td>3</td>\n",
       "      <td>1</td>\n",
       "      <td>1</td>\n",
       "      <td>2</td>\n",
       "      <td>1</td>\n",
       "      <td>1</td>\n",
       "      <td>0</td>\n",
       "      <td>0</td>\n",
       "      <td>0</td>\n",
       "    </tr>\n",
       "  </tbody>\n",
       "</table>\n",
       "</div>"
      ],
      "text/plain": [
       "  0  1  2   3   4   5   6   7   8   9   10  11  12\n",
       "0  H  A  X   1   3   1   1   1   1   1   0   0   0\n",
       "1  D  R  O   1   3   1   1   2   1   1   0   0   0"
      ]
     },
     "execution_count": 13,
     "metadata": {},
     "output_type": "execute_result"
    }
   ],
   "source": [
    "data2df.head(2)"
   ]
  },
  {
   "cell_type": "markdown",
   "metadata": {},
   "source": [
    "El resultado hasta ahora es que hemos limpiado los datos, ahora tenemos los datos correctos pues hemos quitado lo que había entre asteriscos, pero no tenemos los nombres de las columnas, así que ahora vamos a trabajar con el archivo de nombres."
   ]
  },
  {
   "cell_type": "code",
   "execution_count": 14,
   "metadata": {},
   "outputs": [
    {
     "name": "stdout",
     "output_type": "stream",
     "text": [
      "1. TItle: Solar Flare database\n",
      "\n",
      "2. Source Information\n",
      "   -- Donor: Gary Bradshaw <gbradshaw@clipr.colorado.EDU>\n",
      "   -- Date: 3/89\n",
      "\n",
      "3. Past Usage:\n",
      "   -- Gary Bradshaw: (Class Attributes were collapsed to 0 and >0)\n",
      "   -- See the past-usage file for a note written by Gary Bradshaw\n",
      "\n",
      "4. Relevant Information:\n",
      "   -- The database contains 3 potential classes, one for the number of times a\n",
      "      certain type of solar flare occured in a 24 hour period.\n",
      "   -- Each instance represents captured features for 1 active region on the \n",
      "      sun.\n",
      "   -- The data are divided into two sections. The second section (flare.data2)\n",
      "      has had much more error correction applied to the it, and has \n",
      "      consequently been treated as more reliable.\n",
      "\n",
      "5. Number of Instances:  flare.data1: 323, flare.data2: 1066\n",
      "\n",
      "6. Number of attributes:  13 (includes 3 class attributes)\n",
      "\n",
      "7. Attribute Information:\n",
      "   1. Code for class (modified Zurich class)  (A,B,C,D,E,F,H)\n",
      "   2. Code for largest spot size              (X,R,S,A,H,K)\n",
      "   3. Code for spot distribution              (X,O,I,C)\n",
      "   4. Activity                                (1 = reduced, 2 = unchanged)\n",
      "   5. Evolution                               (1 = decay, 2 = no growth, \n",
      "                                               3 = growth)\n",
      "   6. Previous 24 hour flare activity code    (1 = nothing as big as an M1,\n",
      "                                               2 = one M1,\n",
      "                                               3 = more activity than one M1)\n",
      "   7. Historically-complex                    (1 = Yes, 2 = No)\n",
      "   8. Did region become historically complex  (1 = yes, 2 = no) \n",
      "      on this pass across the sun's disk\n",
      "   9. Area                                    (1 = small, 2 = large)\n",
      "  10. Area of the largest spot                (1 = <=5, 2 = >5)\n",
      "\n",
      " From all these predictors three classes of flares are predicted, which are \n",
      " represented in the last three columns.\n",
      "\n",
      "  11. C-class flares production by this region    Number  \n",
      "      in the following 24 hours (common flares)\n",
      "  12. M-class flares production by this region    Number\n",
      "      in the following 24 hours (moderate flares)\n",
      "  13. X-class flares production by this region    Number\n",
      "      in the following 24 hours (severe flares)\n",
      "\n",
      "8. Missing values: None\n",
      "\n",
      "9. Class Distribution:\n",
      "\n",
      "   flare.data1:   \n",
      "                    0   1  2  4 Total\n",
      "   C-class flares 287  29  7  0 323\n",
      "   M-class flares 291  24  6  2 323\n",
      "   X-class flares 316   7  0  0 323\n",
      "\n",
      "   flare.data2:\n",
      "\n",
      "                    0    1  2  3  4  5  6  7  8  Total\n",
      "   C-class flares  884 112 33 20  9  4  3  0  1  1066\n",
      "   M-class flares 1030  29  3  2  1  0  1  0  0  1066\n",
      "   X-class flares 1061   4  1  0  0  0  0  0  0  1066\n",
      "\n"
     ]
    }
   ],
   "source": [
    "response = requests.get(url3)\n",
    "data3 = response.text\n",
    "print(data3) # Vemos que las columnas están en el punto 7"
   ]
  },
  {
   "cell_type": "markdown",
   "metadata": {},
   "source": [
    "¿Cómo accedemos a los nombres de las columnas, que están en el apartado 7 de data3?"
   ]
  },
  {
   "cell_type": "code",
   "execution_count": 15,
   "metadata": {},
   "outputs": [],
   "source": [
    "# Queremos extraer la info del punto 7: \"7. Attribute Information:\", del cual lo primero que vemos es que empieza por 7 con un punto, eso \n",
    "# es bueno para empezar a ubicar. Vamos a quedarnos con lo que exista despues del punto 7 y antes del punto 8\n",
    "data3 = re.search(r'7\\..*8\\.', data3, re.DOTALL).group(0) # re.DOTALL para que tome en cuenta los saltos de línea"
   ]
  },
  {
   "cell_type": "code",
   "execution_count": 16,
   "metadata": {},
   "outputs": [
    {
     "name": "stdout",
     "output_type": "stream",
     "text": [
      "7. Attribute Information:\n",
      "   1. Code for class (modified Zurich class)  (A,B,C,D,E,F,H)\n",
      "   2. Code for largest spot size              (X,R,S,A,H,K)\n",
      "   3. Code for spot distribution              (X,O,I,C)\n",
      "   4. Activity                                (1 = reduced, 2 = unchanged)\n",
      "   5. Evolution                               (1 = decay, 2 = no growth, \n",
      "                                               3 = growth)\n",
      "   6. Previous 24 hour flare activity code    (1 = nothing as big as an M1,\n",
      "                                               2 = one M1,\n",
      "                                               3 = more activity than one M1)\n",
      "   7. Historically-complex                    (1 = Yes, 2 = No)\n",
      "   8. Did region become historically complex  (1 = yes, 2 = no) \n",
      "      on this pass across the sun's disk\n",
      "   9. Area                                    (1 = small, 2 = large)\n",
      "  10. Area of the largest spot                (1 = <=5, 2 = >5)\n",
      "\n",
      " From all these predictors three classes of flares are predicted, which are \n",
      " represented in the last three columns.\n",
      "\n",
      "  11. C-class flares production by this region    Number  \n",
      "      in the following 24 hours (common flares)\n",
      "  12. M-class flares production by this region    Number\n",
      "      in the following 24 hours (moderate flares)\n",
      "  13. X-class flares production by this region    Number\n",
      "      in the following 24 hours (severe flares)\n",
      "\n",
      "8.\n"
     ]
    }
   ],
   "source": [
    "print(data3) # Vemos la información que ha extraído de data 3 para comprobar que contiene lo que nos interesa "
   ]
  },
  {
   "cell_type": "markdown",
   "metadata": {},
   "source": [
    "Ahora queremos acceder a cada uno de los puntos para convertirlos en los encabezados del df."
   ]
  },
  {
   "cell_type": "code",
   "execution_count": 17,
   "metadata": {},
   "outputs": [
    {
     "name": "stdout",
     "output_type": "stream",
     "text": [
      "Attribute Information:\n",
      "Code for class\n",
      "Code for largest spot size\n",
      "Code for spot distribution\n",
      "Activity\n",
      "Evolution\n",
      "Previous 24 hour flare activity code\n",
      "Historically-complex\n",
      "Did region become historically complex\n",
      "Area\n",
      "Area of the largest spot\n",
      "C-class flares production by this region    Number\n",
      "M-class flares production by this region    Number\n",
      "X-class flares production by this region    Number\n"
     ]
    }
   ],
   "source": [
    "# Creamos un patrón para extraer los nombres de las columnas\n",
    "\n",
    "#\\d+ para que tome cualquier número de dígitos\n",
    "#\\s+ para que tome cualquier espacio en blanco\n",
    "#[^\\(\\n]+ para que tome cualquier carácter que no sea un paréntesis o un salto de línea\n",
    "\n",
    "pattern = re.compile(r'\\d+\\.\\s+([^\\(\\n]+)') \n",
    "\n",
    "# Encontramos todas las coincidencias\n",
    "columns = pattern.findall(data3) # findall devuelve una lista vacía cuando una línea no empieza por los caracteres especificados, por lo que se genera\n",
    "                                    # una lista con los valores que SÍ lo cumplen (echar vistazo a Ej 1)\n",
    "\n",
    "# Mostramos los nombres de las columnas con un bucle\n",
    "for col in columns: # Para cada columna en la lista de columnas anterior: \n",
    "    print(col.strip()) # escribe el nombre de la columna"
   ]
  },
  {
   "cell_type": "markdown",
   "metadata": {},
   "source": [
    "Como se puede ver, no ha cogido ni las líneas intermedias (entre `Area of the largest spot` y `C-class flares`), porque no tienen número al principio, ni las líneas debajo de las clases, pues tampoco tienen número al principio, ni el 8 de abajo de todo, pues no tiene letras después"
   ]
  },
  {
   "cell_type": "code",
   "execution_count": 18,
   "metadata": {},
   "outputs": [
    {
     "data": {
      "text/plain": [
       "['Attribute Information:',\n",
       " 'Code for class ',\n",
       " 'Code for largest spot size              ',\n",
       " 'Code for spot distribution              ',\n",
       " 'Activity                                ',\n",
       " 'Evolution                               ',\n",
       " 'Previous 24 hour flare activity code    ',\n",
       " 'Historically-complex                    ',\n",
       " 'Did region become historically complex  ',\n",
       " 'Area                                    ',\n",
       " 'Area of the largest spot                ',\n",
       " 'C-class flares production by this region    Number  ',\n",
       " 'M-class flares production by this region    Number',\n",
       " 'X-class flares production by this region    Number']"
      ]
     },
     "execution_count": 18,
     "metadata": {},
     "output_type": "execute_result"
    }
   ],
   "source": [
    "columns # Vemos que es un resultado bastante aproximado al deseado"
   ]
  },
  {
   "cell_type": "markdown",
   "metadata": {},
   "source": [
    "Ahora eliminamos la palabra `Number` de las últimas 3 filas y `Attribute Information:` de la primera fila de nuestra nueva variable columns"
   ]
  },
  {
   "cell_type": "code",
   "execution_count": 19,
   "metadata": {},
   "outputs": [],
   "source": [
    "columns = [re.sub(r'Number', '', col) for col in columns] # Usamos re.sub para reemplazar 'Number' por nada en \"col\", en cada columna\n",
    "columns = [re.sub(r'Attribute Information:', '', col) for col in columns] # Usamos re.sub para reemplazar 'Attribute Information:' por nada en \"col\", en\n",
    "                                                                        # cada columna"
   ]
  },
  {
   "cell_type": "code",
   "execution_count": 20,
   "metadata": {},
   "outputs": [
    {
     "data": {
      "text/plain": [
       "['',\n",
       " 'Code for class ',\n",
       " 'Code for largest spot size              ',\n",
       " 'Code for spot distribution              ',\n",
       " 'Activity                                ',\n",
       " 'Evolution                               ',\n",
       " 'Previous 24 hour flare activity code    ',\n",
       " 'Historically-complex                    ',\n",
       " 'Did region become historically complex  ',\n",
       " 'Area                                    ',\n",
       " 'Area of the largest spot                ',\n",
       " 'C-class flares production by this region      ',\n",
       " 'M-class flares production by this region    ',\n",
       " 'X-class flares production by this region    ']"
      ]
     },
     "execution_count": 20,
     "metadata": {},
     "output_type": "execute_result"
    }
   ],
   "source": [
    "columns # Vemos que ya no tenemos 'Number' ni 'Attribute Information:', ahora podemos limpiar todo de caracteres especiales"
   ]
  },
  {
   "cell_type": "markdown",
   "metadata": {},
   "source": [
    "Vamos a limpiar los nombres de las columnas eliminando los espacios en blanco y caracteres especiales"
   ]
  },
  {
   "cell_type": "code",
   "execution_count": 21,
   "metadata": {},
   "outputs": [
    {
     "data": {
      "text/plain": [
       "['',\n",
       " 'codeforclass',\n",
       " 'codeforlargestspotsize',\n",
       " 'codeforspotdistribution',\n",
       " 'activity',\n",
       " 'evolution',\n",
       " 'previous24hourflareactivitycode',\n",
       " 'historicallycomplex',\n",
       " 'didregionbecomehistoricallycomplex',\n",
       " 'area',\n",
       " 'areaofthelargestspot',\n",
       " 'cclassflaresproductionbythisregion',\n",
       " 'mclassflaresproductionbythisregion',\n",
       " 'xclassflaresproductionbythisregion']"
      ]
     },
     "execution_count": 21,
     "metadata": {},
     "output_type": "execute_result"
    }
   ],
   "source": [
    "columns = [re.sub(r'[^\\w]', '', col) for col in columns] #re.sub para reemplazar cualquier carácter que no sea una letra o un número por nada en (cada) col\n",
    "columns = [col.lower() for col in columns] # y pasamos todo a minúsculas\n",
    "\n",
    "columns # Vemos que ya tenemos los nombres de las columnas limpios"
   ]
  },
  {
   "cell_type": "markdown",
   "metadata": {},
   "source": [
    "Ahora simplemente eliminamos el primer elemento de la lista"
   ]
  },
  {
   "cell_type": "code",
   "execution_count": 22,
   "metadata": {},
   "outputs": [],
   "source": [
    "if columns and columns[0] == '':\n",
    "    columns.pop(0)"
   ]
  },
  {
   "cell_type": "code",
   "execution_count": 23,
   "metadata": {},
   "outputs": [
    {
     "data": {
      "text/plain": [
       "['codeforclass',\n",
       " 'codeforlargestspotsize',\n",
       " 'codeforspotdistribution',\n",
       " 'activity',\n",
       " 'evolution',\n",
       " 'previous24hourflareactivitycode',\n",
       " 'historicallycomplex',\n",
       " 'didregionbecomehistoricallycomplex',\n",
       " 'area',\n",
       " 'areaofthelargestspot',\n",
       " 'cclassflaresproductionbythisregion',\n",
       " 'mclassflaresproductionbythisregion',\n",
       " 'xclassflaresproductionbythisregion']"
      ]
     },
     "execution_count": 23,
     "metadata": {},
     "output_type": "execute_result"
    }
   ],
   "source": [
    "columns"
   ]
  },
  {
   "cell_type": "markdown",
   "metadata": {},
   "source": [
    "Con esto ya hemos obtenido los nombres de todas las columnas de data1 y data2, por lo que vamos a unirlos y a indicar sus columnas"
   ]
  },
  {
   "cell_type": "code",
   "execution_count": 24,
   "metadata": {},
   "outputs": [
    {
     "data": {
      "text/html": [
       "<div>\n",
       "<style scoped>\n",
       "    .dataframe tbody tr th:only-of-type {\n",
       "        vertical-align: middle;\n",
       "    }\n",
       "\n",
       "    .dataframe tbody tr th {\n",
       "        vertical-align: top;\n",
       "    }\n",
       "\n",
       "    .dataframe thead th {\n",
       "        text-align: right;\n",
       "    }\n",
       "</style>\n",
       "<table border=\"1\" class=\"dataframe\">\n",
       "  <thead>\n",
       "    <tr style=\"text-align: right;\">\n",
       "      <th></th>\n",
       "      <th>codeforclass</th>\n",
       "      <th>codeforlargestspotsize</th>\n",
       "      <th>codeforspotdistribution</th>\n",
       "      <th>activity</th>\n",
       "      <th>evolution</th>\n",
       "      <th>previous24hourflareactivitycode</th>\n",
       "      <th>historicallycomplex</th>\n",
       "      <th>didregionbecomehistoricallycomplex</th>\n",
       "      <th>area</th>\n",
       "      <th>areaofthelargestspot</th>\n",
       "      <th>cclassflaresproductionbythisregion</th>\n",
       "      <th>mclassflaresproductionbythisregion</th>\n",
       "      <th>xclassflaresproductionbythisregion</th>\n",
       "    </tr>\n",
       "  </thead>\n",
       "  <tbody>\n",
       "    <tr>\n",
       "      <th>0</th>\n",
       "      <td>C</td>\n",
       "      <td>S</td>\n",
       "      <td>O</td>\n",
       "      <td>1</td>\n",
       "      <td>2</td>\n",
       "      <td>1</td>\n",
       "      <td>1</td>\n",
       "      <td>2</td>\n",
       "      <td>1</td>\n",
       "      <td>2</td>\n",
       "      <td>0</td>\n",
       "      <td>0</td>\n",
       "      <td>0</td>\n",
       "    </tr>\n",
       "    <tr>\n",
       "      <th>1</th>\n",
       "      <td>D</td>\n",
       "      <td>S</td>\n",
       "      <td>O</td>\n",
       "      <td>1</td>\n",
       "      <td>3</td>\n",
       "      <td>1</td>\n",
       "      <td>1</td>\n",
       "      <td>2</td>\n",
       "      <td>1</td>\n",
       "      <td>2</td>\n",
       "      <td>0</td>\n",
       "      <td>0</td>\n",
       "      <td>0</td>\n",
       "    </tr>\n",
       "    <tr>\n",
       "      <th>2</th>\n",
       "      <td>C</td>\n",
       "      <td>S</td>\n",
       "      <td>O</td>\n",
       "      <td>1</td>\n",
       "      <td>3</td>\n",
       "      <td>1</td>\n",
       "      <td>1</td>\n",
       "      <td>2</td>\n",
       "      <td>1</td>\n",
       "      <td>1</td>\n",
       "      <td>0</td>\n",
       "      <td>0</td>\n",
       "      <td>0</td>\n",
       "    </tr>\n",
       "    <tr>\n",
       "      <th>3</th>\n",
       "      <td>D</td>\n",
       "      <td>S</td>\n",
       "      <td>O</td>\n",
       "      <td>1</td>\n",
       "      <td>3</td>\n",
       "      <td>1</td>\n",
       "      <td>1</td>\n",
       "      <td>2</td>\n",
       "      <td>1</td>\n",
       "      <td>2</td>\n",
       "      <td>0</td>\n",
       "      <td>0</td>\n",
       "      <td>0</td>\n",
       "    </tr>\n",
       "    <tr>\n",
       "      <th>4</th>\n",
       "      <td>D</td>\n",
       "      <td>A</td>\n",
       "      <td>O</td>\n",
       "      <td>1</td>\n",
       "      <td>3</td>\n",
       "      <td>1</td>\n",
       "      <td>1</td>\n",
       "      <td>2</td>\n",
       "      <td>1</td>\n",
       "      <td>2</td>\n",
       "      <td>0</td>\n",
       "      <td>0</td>\n",
       "      <td>0</td>\n",
       "    </tr>\n",
       "  </tbody>\n",
       "</table>\n",
       "</div>"
      ],
      "text/plain": [
       "  codeforclass codeforlargestspotsize codeforspotdistribution  activity  \\\n",
       "0            C                      S                       O         1   \n",
       "1            D                      S                       O         1   \n",
       "2            C                      S                       O         1   \n",
       "3            D                      S                       O         1   \n",
       "4            D                      A                       O         1   \n",
       "\n",
       "   evolution  previous24hourflareactivitycode  historicallycomplex  \\\n",
       "0          2                                1                    1   \n",
       "1          3                                1                    1   \n",
       "2          3                                1                    1   \n",
       "3          3                                1                    1   \n",
       "4          3                                1                    1   \n",
       "\n",
       "   didregionbecomehistoricallycomplex  area  areaofthelargestspot  \\\n",
       "0                                   2     1                     2   \n",
       "1                                   2     1                     2   \n",
       "2                                   2     1                     1   \n",
       "3                                   2     1                     2   \n",
       "4                                   2     1                     2   \n",
       "\n",
       "   cclassflaresproductionbythisregion  mclassflaresproductionbythisregion  \\\n",
       "0                                   0                                   0   \n",
       "1                                   0                                   0   \n",
       "2                                   0                                   0   \n",
       "3                                   0                                   0   \n",
       "4                                   0                                   0   \n",
       "\n",
       "   xclassflaresproductionbythisregion  \n",
       "0                                   0  \n",
       "1                                   0  \n",
       "2                                   0  \n",
       "3                                   0  \n",
       "4                                   0  "
      ]
     },
     "execution_count": 24,
     "metadata": {},
     "output_type": "execute_result"
    }
   ],
   "source": [
    "df = pd.concat([data1df, data2df], axis=0) # Unimos ambas bases de datos. axis=0 para concatenar por filas\n",
    "df.columns = columns # Asignamos los nombres de las columnas\n",
    "df.head() # Vemos que ya tenemos nuestro df limpio"
   ]
  },
  {
   "cell_type": "markdown",
   "metadata": {},
   "source": [
    "### Análisis estadístico de los datos (Explayarse todo lo que uno quiera)"
   ]
  }
 ],
 "metadata": {
  "kernelspec": {
   "display_name": "Python 3",
   "language": "python",
   "name": "python3"
  },
  "language_info": {
   "codemirror_mode": {
    "name": "ipython",
    "version": 3
   },
   "file_extension": ".py",
   "mimetype": "text/x-python",
   "name": "python",
   "nbconvert_exporter": "python",
   "pygments_lexer": "ipython3",
   "version": "3.10.11"
  }
 },
 "nbformat": 4,
 "nbformat_minor": 2
}
